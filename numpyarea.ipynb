{
 "cells": [
  {
   "cell_type": "markdown",
   "id": "black-mortality",
   "metadata": {},
   "source": [
    "## A little area for some numpy"
   ]
  },
  {
   "cell_type": "code",
   "execution_count": 16,
   "id": "boolean-knitting",
   "metadata": {},
   "outputs": [
    {
     "name": "stdout",
     "output_type": "stream",
     "text": [
      "60.75\n",
      "80\n",
      "19.25\n",
      "[ 91.25  54.25  83.25 107.25  70.25 109.25  93.25  31.25]\n"
     ]
    },
    {
     "data": {
      "text/plain": [
       "array([ 91.25,  54.25,  83.25, 100.  ,  70.25, 100.  ,  93.25,  31.25])"
      ]
     },
     "execution_count": 16,
     "metadata": {},
     "output_type": "execute_result"
    }
   ],
   "source": [
    "import numpy as np\n",
    "\n",
    "CURVE_CENTER = 80\n",
    "\n",
    "grades = np.array([72, 35, 64, 88, 51, 90, 74, 12])\n",
    "\n",
    "def curve(grades):\n",
    "\n",
    "    average = grades.mean()\n",
    "    print(average)\n",
    "\n",
    "    change = CURVE_CENTER - average\n",
    "    print(CURVE_CENTER)\n",
    "    print(change)\n",
    "\n",
    "    new_grades = grades + change\n",
    "    print(new_grades)\n",
    "\n",
    "    return np.clip(new_grades, grades, 100)\n",
    "\n",
    "\n",
    "curve(grades)"
   ]
  },
  {
   "cell_type": "markdown",
   "id": "monthly-daisy",
   "metadata": {},
   "source": [
    "### arrays"
   ]
  },
  {
   "cell_type": "code",
   "execution_count": 17,
   "id": "equivalent-color",
   "metadata": {},
   "outputs": [],
   "source": [
    "temperatures = np.array([29.3, 42.1, 18.8, 16.1, 38.0, 12.5,\n",
    "12.6, 49.9, 38.6, 31.3, 9.2, 22.2\n",
    " ]).reshape(2, 2, 3)"
   ]
  },
  {
   "cell_type": "code",
   "execution_count": 18,
   "id": "employed-sigma",
   "metadata": {},
   "outputs": [
    {
     "data": {
      "text/plain": [
       "array([[[29.3, 42.1, 18.8],\n",
       "        [16.1, 38. , 12.5]],\n",
       "\n",
       "       [[12.6, 49.9, 38.6],\n",
       "        [31.3,  9.2, 22.2]]])"
      ]
     },
     "execution_count": 18,
     "metadata": {},
     "output_type": "execute_result"
    }
   ],
   "source": [
    "temperatures"
   ]
  },
  {
   "cell_type": "code",
   "execution_count": 19,
   "id": "guided-archive",
   "metadata": {},
   "outputs": [
    {
     "data": {
      "text/plain": [
       "(2, 2, 3)"
      ]
     },
     "execution_count": 19,
     "metadata": {},
     "output_type": "execute_result"
    }
   ],
   "source": [
    "temperatures.shape"
   ]
  },
  {
   "cell_type": "code",
   "execution_count": 20,
   "id": "aggregate-launch",
   "metadata": {},
   "outputs": [
    {
     "data": {
      "text/plain": [
       "array([[[29.3, 16.1],\n",
       "        [42.1, 38. ],\n",
       "        [18.8, 12.5]],\n",
       "\n",
       "       [[12.6, 31.3],\n",
       "        [49.9,  9.2],\n",
       "        [38.6, 22.2]]])"
      ]
     },
     "execution_count": 20,
     "metadata": {},
     "output_type": "execute_result"
    }
   ],
   "source": [
    "np.swapaxes(temperatures, 1,2)"
   ]
  },
  {
   "cell_type": "markdown",
   "id": "comparable-republic",
   "metadata": {},
   "source": [
    "## more axis"
   ]
  },
  {
   "cell_type": "code",
   "execution_count": 21,
   "id": "special-living",
   "metadata": {},
   "outputs": [],
   "source": [
    "table = np.array([\n",
    "        [5, 3, 7, 1],\n",
    "        [2, 6, 7 ,9],\n",
    "        [1, 1, 1, 1],\n",
    "       [4, 3, 2, 0],\n",
    "   ])"
   ]
  },
  {
   "cell_type": "markdown",
   "id": "traditional-victim",
   "metadata": {},
   "source": [
    "## Gives the max value in the table (Axis 0 is vertical, axis 1 is horizontal)"
   ]
  },
  {
   "cell_type": "code",
   "execution_count": 22,
   "id": "respected-porcelain",
   "metadata": {},
   "outputs": [
    {
     "data": {
      "text/plain": [
       "9"
      ]
     },
     "execution_count": 22,
     "metadata": {},
     "output_type": "execute_result"
    }
   ],
   "source": [
    "table.max()"
   ]
  },
  {
   "cell_type": "code",
   "execution_count": 23,
   "id": "removed-wiring",
   "metadata": {},
   "outputs": [
    {
     "data": {
      "text/plain": [
       "array([5, 6, 7, 9])"
      ]
     },
     "execution_count": 23,
     "metadata": {},
     "output_type": "execute_result"
    }
   ],
   "source": [
    "table.max(axis=0)"
   ]
  },
  {
   "cell_type": "code",
   "execution_count": 24,
   "id": "frozen-embassy",
   "metadata": {},
   "outputs": [
    {
     "data": {
      "text/plain": [
       "array([7, 9, 1, 4])"
      ]
     },
     "execution_count": 24,
     "metadata": {},
     "output_type": "execute_result"
    }
   ],
   "source": [
    "table.max(axis=1)"
   ]
  },
  {
   "cell_type": "code",
   "execution_count": 25,
   "id": "dried-testament",
   "metadata": {},
   "outputs": [
    {
     "data": {
      "text/plain": [
       "array([1, 1, 1, 0])"
      ]
     },
     "execution_count": 25,
     "metadata": {},
     "output_type": "execute_result"
    }
   ],
   "source": [
    "table.min(axis = 0)"
   ]
  },
  {
   "cell_type": "code",
   "execution_count": 26,
   "id": "offshore-portland",
   "metadata": {},
   "outputs": [
    {
     "data": {
      "text/plain": [
       "array([3.  , 3.25, 4.25, 2.75])"
      ]
     },
     "execution_count": 26,
     "metadata": {},
     "output_type": "execute_result"
    }
   ],
   "source": [
    "table.mean(axis=0)"
   ]
  },
  {
   "cell_type": "markdown",
   "id": "generic-tamil",
   "metadata": {},
   "source": [
    "## Planes\n"
   ]
  },
  {
   "cell_type": "code",
   "execution_count": 36,
   "id": "interior-adventure",
   "metadata": {},
   "outputs": [
    {
     "data": {
      "text/plain": [
       "array([[[0, 1, 2]],\n",
       "\n",
       "       [[3, 4, 5]]])"
      ]
     },
     "execution_count": 36,
     "metadata": {},
     "output_type": "execute_result"
    }
   ],
   "source": [
    "A = np.arange(6).reshape(2, 1, 3)\n",
    "A"
   ]
  },
  {
   "cell_type": "code",
   "execution_count": 46,
   "id": "suffering-trial",
   "metadata": {},
   "outputs": [
    {
     "data": {
      "text/plain": [
       "array([[[ 0,  1,  2],\n",
       "        [ 3,  4,  5],\n",
       "        [ 6,  7,  8]],\n",
       "\n",
       "       [[ 9, 10, 11],\n",
       "        [12, 13, 14],\n",
       "        [15, 16, 17]]])"
      ]
     },
     "execution_count": 46,
     "metadata": {},
     "output_type": "execute_result"
    }
   ],
   "source": [
    "B = np.arange(18).reshape(2, 3, 3)\n",
    "B"
   ]
  },
  {
   "cell_type": "code",
   "execution_count": 47,
   "id": "sitting-generation",
   "metadata": {},
   "outputs": [
    {
     "data": {
      "text/plain": [
       "array([[[ 0,  2,  4],\n",
       "        [ 3,  5,  7],\n",
       "        [ 6,  8, 10]],\n",
       "\n",
       "       [[12, 14, 16],\n",
       "        [15, 17, 19],\n",
       "        [18, 20, 22]]])"
      ]
     },
     "execution_count": 47,
     "metadata": {},
     "output_type": "execute_result"
    }
   ],
   "source": [
    "A+B"
   ]
  },
  {
   "cell_type": "markdown",
   "id": "judicial-astrology",
   "metadata": {},
   "source": [
    "### the above needs more understanding"
   ]
  },
  {
   "cell_type": "code",
   "execution_count": 59,
   "id": "conceptual-northern",
   "metadata": {},
   "outputs": [],
   "source": [
    "square = np.array([\n",
    "   ...:     [16, 3, 2, 13],\n",
    "   ...:     [5, 10, 11, 8],\n",
    "   ...:     [9, 6, 7, 12],\n",
    "   ...:     [4, 15, 14, 1]\n",
    "   ...: ])"
   ]
  },
  {
   "cell_type": "code",
   "execution_count": 60,
   "id": "fluid-steel",
   "metadata": {},
   "outputs": [],
   "source": [
    "for i in range(4):\n",
    "    assert square[:, i].sum() == 34\n",
    "    assert square[i, :].sum() == 34\n",
    "    "
   ]
  },
  {
   "cell_type": "code",
   "execution_count": 55,
   "id": "color-liberal",
   "metadata": {},
   "outputs": [],
   "source": [
    "assert square[:2, :2].sum() == 34"
   ]
  },
  {
   "cell_type": "code",
   "execution_count": 56,
   "id": "together-adams",
   "metadata": {},
   "outputs": [],
   "source": [
    "assert square[2:, :2].sum() == 34"
   ]
  },
  {
   "cell_type": "code",
   "execution_count": 57,
   "id": "mysterious-illustration",
   "metadata": {},
   "outputs": [],
   "source": [
    "assert square[:2, 2:].sum() == 34"
   ]
  },
  {
   "cell_type": "code",
   "execution_count": 61,
   "id": "falling-circle",
   "metadata": {},
   "outputs": [],
   "source": [
    "assert square[2:, 2:].sum() == 34"
   ]
  },
  {
   "cell_type": "markdown",
   "id": "small-parent",
   "metadata": {},
   "source": [
    "### handy use of the assert comment, changes a number an those concerned in the area gave and assertion error"
   ]
  },
  {
   "cell_type": "markdown",
   "id": "trying-platform",
   "metadata": {},
   "source": [
    "## Masking"
   ]
  },
  {
   "cell_type": "code",
   "execution_count": 76,
   "id": "annual-encyclopedia",
   "metadata": {},
   "outputs": [],
   "source": [
    "numbers = np.linspace(5, 50, 24, dtype=int).reshape(3,8)"
   ]
  },
  {
   "cell_type": "code",
   "execution_count": 77,
   "id": "complimentary-sapphire",
   "metadata": {},
   "outputs": [
    {
     "data": {
      "text/plain": [
       "array([[ 5,  6,  8, 10, 12, 14, 16, 18],\n",
       "       [20, 22, 24, 26, 28, 30, 32, 34],\n",
       "       [36, 38, 40, 42, 44, 46, 48, 50]])"
      ]
     },
     "execution_count": 77,
     "metadata": {},
     "output_type": "execute_result"
    }
   ],
   "source": [
    "numbers"
   ]
  },
  {
   "cell_type": "code",
   "execution_count": 78,
   "id": "working-island",
   "metadata": {},
   "outputs": [],
   "source": [
    "mask = numbers % 4 == 0"
   ]
  },
  {
   "cell_type": "code",
   "execution_count": 79,
   "id": "adjustable-touch",
   "metadata": {},
   "outputs": [
    {
     "data": {
      "text/plain": [
       "array([[False, False,  True, False,  True, False,  True, False],\n",
       "       [ True, False,  True, False,  True, False,  True, False],\n",
       "       [ True, False,  True, False,  True, False,  True, False]])"
      ]
     },
     "execution_count": 79,
     "metadata": {},
     "output_type": "execute_result"
    }
   ],
   "source": [
    "mask"
   ]
  },
  {
   "cell_type": "code",
   "execution_count": 80,
   "id": "imported-contact",
   "metadata": {},
   "outputs": [
    {
     "data": {
      "text/plain": [
       "array([ 8, 12, 16, 20, 24, 28, 32, 36, 40, 44, 48])"
      ]
     },
     "execution_count": 80,
     "metadata": {},
     "output_type": "execute_result"
    }
   ],
   "source": [
    "numbers[mask]"
   ]
  },
  {
   "cell_type": "markdown",
   "id": "adjusted-architecture",
   "metadata": {},
   "source": [
    "## Shorthand version"
   ]
  },
  {
   "cell_type": "code",
   "execution_count": 69,
   "id": "municipal-postage",
   "metadata": {},
   "outputs": [
    {
     "data": {
      "text/plain": [
       "array([ 8, 12, 16, 20, 24, 28, 32, 36, 40, 44, 48])"
      ]
     },
     "execution_count": 69,
     "metadata": {},
     "output_type": "execute_result"
    }
   ],
   "source": [
    "by_four = numbers[numbers % 4 ==0]\n",
    "by_four"
   ]
  },
  {
   "cell_type": "code",
   "execution_count": 81,
   "id": "lightweight-battlefield",
   "metadata": {},
   "outputs": [],
   "source": [
    "from numpy.random import default_rng"
   ]
  },
  {
   "cell_type": "code",
   "execution_count": 82,
   "id": "automatic-cartridge",
   "metadata": {},
   "outputs": [],
   "source": [
    "rng = default_rng()"
   ]
  },
  {
   "cell_type": "code",
   "execution_count": 84,
   "id": "utility-spice",
   "metadata": {},
   "outputs": [],
   "source": [
    "values = rng.standard_normal(10000)"
   ]
  },
  {
   "cell_type": "code",
   "execution_count": 85,
   "id": "functional-isaac",
   "metadata": {},
   "outputs": [
    {
     "data": {
      "text/plain": [
       "array([ 0.94124173, -1.04345598, -0.48719889, -0.31549914,  0.57212761])"
      ]
     },
     "execution_count": 85,
     "metadata": {},
     "output_type": "execute_result"
    }
   ],
   "source": [
    "values[:5]"
   ]
  },
  {
   "cell_type": "code",
   "execution_count": 86,
   "id": "desperate-vulnerability",
   "metadata": {},
   "outputs": [],
   "source": [
    "std = values.std()"
   ]
  },
  {
   "cell_type": "code",
   "execution_count": 87,
   "id": "stuck-charles",
   "metadata": {},
   "outputs": [
    {
     "data": {
      "text/plain": [
       "0.9943215762084805"
      ]
     },
     "execution_count": 87,
     "metadata": {},
     "output_type": "execute_result"
    }
   ],
   "source": [
    "std"
   ]
  },
  {
   "cell_type": "code",
   "execution_count": 88,
   "id": "desperate-agriculture",
   "metadata": {},
   "outputs": [],
   "source": [
    "filtered = values[(values > -2 * std) & (values < 2 * std)]"
   ]
  },
  {
   "cell_type": "code",
   "execution_count": 89,
   "id": "dried-extension",
   "metadata": {},
   "outputs": [
    {
     "data": {
      "text/plain": [
       "9548"
      ]
     },
     "execution_count": 89,
     "metadata": {},
     "output_type": "execute_result"
    }
   ],
   "source": [
    "filtered.size"
   ]
  },
  {
   "cell_type": "code",
   "execution_count": 90,
   "id": "boring-hampton",
   "metadata": {},
   "outputs": [
    {
     "data": {
      "text/plain": [
       "10000"
      ]
     },
     "execution_count": 90,
     "metadata": {},
     "output_type": "execute_result"
    }
   ],
   "source": [
    "values.size"
   ]
  },
  {
   "cell_type": "code",
   "execution_count": 91,
   "id": "speaking-termination",
   "metadata": {},
   "outputs": [
    {
     "data": {
      "text/plain": [
       "0.9548"
      ]
     },
     "execution_count": 91,
     "metadata": {},
     "output_type": "execute_result"
    }
   ],
   "source": [
    "filtered.size/values.size"
   ]
  },
  {
   "cell_type": "code",
   "execution_count": 108,
   "id": "english-posting",
   "metadata": {},
   "outputs": [
    {
     "name": "stdout",
     "output_type": "stream",
     "text": [
      "<class 'numpy.ndarray'>\n",
      "(2322, 4128, 3)\n"
     ]
    }
   ],
   "source": [
    "import matplotlib.image as mpimg\n",
    "\n",
    "img = mpimg.imread(\"image.jpg\")\n",
    "\n",
    "print(type(img))\n",
    "\n",
    "print(img.shape)"
   ]
  },
  {
   "cell_type": "code",
   "execution_count": 114,
   "id": "grateful-retailer",
   "metadata": {},
   "outputs": [],
   "source": [
    "output = img.copy()\n",
    "\n",
    "output[:, :, :1] = 0\n",
    "\n",
    "mpimg.imsave(\"blue.jpg\", output)"
   ]
  },
  {
   "cell_type": "code",
   "execution_count": 116,
   "id": "stunning-newport",
   "metadata": {},
   "outputs": [],
   "source": [
    "averages = img.mean(axis=2)  # Take the average of each R, G, and B\n",
    "\n",
    "mpimg.imsave(\"bad-gray.jpg\", averages, cmap=\"gray\")"
   ]
  },
  {
   "cell_type": "code",
   "execution_count": null,
   "id": "acoustic-deadline",
   "metadata": {},
   "outputs": [],
   "source": []
  },
  {
   "cell_type": "code",
   "execution_count": null,
   "id": "surgical-spotlight",
   "metadata": {},
   "outputs": [],
   "source": []
  },
  {
   "cell_type": "code",
   "execution_count": null,
   "id": "cooperative-andrew",
   "metadata": {},
   "outputs": [],
   "source": []
  },
  {
   "cell_type": "code",
   "execution_count": null,
   "id": "intermediate-stranger",
   "metadata": {},
   "outputs": [],
   "source": []
  },
  {
   "cell_type": "code",
   "execution_count": null,
   "id": "dated-gossip",
   "metadata": {},
   "outputs": [],
   "source": []
  },
  {
   "cell_type": "code",
   "execution_count": null,
   "id": "british-decimal",
   "metadata": {},
   "outputs": [],
   "source": []
  }
 ],
 "metadata": {
  "kernelspec": {
   "display_name": "Python 3",
   "language": "python",
   "name": "python3"
  },
  "language_info": {
   "codemirror_mode": {
    "name": "ipython",
    "version": 3
   },
   "file_extension": ".py",
   "mimetype": "text/x-python",
   "name": "python",
   "nbconvert_exporter": "python",
   "pygments_lexer": "ipython3",
   "version": "3.8.5"
  }
 },
 "nbformat": 4,
 "nbformat_minor": 5
}
