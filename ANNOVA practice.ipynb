{
 "cells": [
  {
   "cell_type": "markdown",
   "id": "557b8dd1",
   "metadata": {},
   "source": [
    "Laerd\n",
    "\n",
    "https://statistics.laerd.com/spss-tutorials/one-way-anova-using-spss-statistics.php"
   ]
  },
  {
   "cell_type": "markdown",
   "id": "fe8356b1",
   "metadata": {},
   "source": [
    "Catagorical variables\n",
    "\n",
    "Nomininal\n",
    "Job Title is catagorical (no natural order)\n",
    "Sex is catagorical\n",
    "\n",
    "Ordinal\n",
    "High medium low , there is an order but there is no measurable distance between catagorys.\n",
    "\n",
    "Intrval\n",
    "\n",
    "Ratio"
   ]
  },
  {
   "cell_type": "markdown",
   "id": "3140011a",
   "metadata": {},
   "source": [
    "# One Way ANOVA"
   ]
  },
  {
   "cell_type": "markdown",
   "id": "041cdc40",
   "metadata": {},
   "source": [
    "State you assumptions!!! 1,2,3,4,5,6"
   ]
  },
  {
   "cell_type": "markdown",
   "id": "d911e0af",
   "metadata": {},
   "source": [
    "Assumption 1\n",
    "\n",
    "Dependant variables"
   ]
  },
  {
   "cell_type": "markdown",
   "id": "7f895662",
   "metadata": {},
   "source": [
    "Assumption 2\n",
    "\n",
    "Independant variable is catagorical "
   ]
  },
  {
   "cell_type": "markdown",
   "id": "4253c574",
   "metadata": {},
   "source": [
    "Assumption 3\n",
    "\n"
   ]
  },
  {
   "cell_type": "markdown",
   "id": "fbb3fc4b",
   "metadata": {},
   "source": [
    "Assumption 4"
   ]
  },
  {
   "cell_type": "markdown",
   "id": "9ed13e28",
   "metadata": {},
   "source": [
    "Assumption 5"
   ]
  },
  {
   "cell_type": "markdown",
   "id": "0c1cf99b",
   "metadata": {},
   "source": [
    "Assumption 6"
   ]
  },
  {
   "cell_type": "code",
   "execution_count": 3,
   "id": "59d52bac",
   "metadata": {},
   "outputs": [],
   "source": [
    "import pandas as pd\n",
    "import seaborn as sns"
   ]
  },
  {
   "cell_type": "code",
   "execution_count": 4,
   "id": "c7bc5803",
   "metadata": {},
   "outputs": [],
   "source": [
    "from palmerpenguins import load_penguins"
   ]
  },
  {
   "cell_type": "code",
   "execution_count": 5,
   "id": "fbefb372",
   "metadata": {},
   "outputs": [
    {
     "data": {
      "text/html": [
       "<div>\n",
       "<style scoped>\n",
       "    .dataframe tbody tr th:only-of-type {\n",
       "        vertical-align: middle;\n",
       "    }\n",
       "\n",
       "    .dataframe tbody tr th {\n",
       "        vertical-align: top;\n",
       "    }\n",
       "\n",
       "    .dataframe thead th {\n",
       "        text-align: right;\n",
       "    }\n",
       "</style>\n",
       "<table border=\"1\" class=\"dataframe\">\n",
       "  <thead>\n",
       "    <tr style=\"text-align: right;\">\n",
       "      <th></th>\n",
       "      <th>species</th>\n",
       "      <th>island</th>\n",
       "      <th>bill_length_mm</th>\n",
       "      <th>bill_depth_mm</th>\n",
       "      <th>flipper_length_mm</th>\n",
       "      <th>body_mass_g</th>\n",
       "      <th>sex</th>\n",
       "      <th>year</th>\n",
       "    </tr>\n",
       "  </thead>\n",
       "  <tbody>\n",
       "    <tr>\n",
       "      <th>0</th>\n",
       "      <td>Adelie</td>\n",
       "      <td>Torgersen</td>\n",
       "      <td>39.1</td>\n",
       "      <td>18.7</td>\n",
       "      <td>181.0</td>\n",
       "      <td>3750.0</td>\n",
       "      <td>male</td>\n",
       "      <td>2007</td>\n",
       "    </tr>\n",
       "    <tr>\n",
       "      <th>1</th>\n",
       "      <td>Adelie</td>\n",
       "      <td>Torgersen</td>\n",
       "      <td>39.5</td>\n",
       "      <td>17.4</td>\n",
       "      <td>186.0</td>\n",
       "      <td>3800.0</td>\n",
       "      <td>female</td>\n",
       "      <td>2007</td>\n",
       "    </tr>\n",
       "    <tr>\n",
       "      <th>2</th>\n",
       "      <td>Adelie</td>\n",
       "      <td>Torgersen</td>\n",
       "      <td>40.3</td>\n",
       "      <td>18.0</td>\n",
       "      <td>195.0</td>\n",
       "      <td>3250.0</td>\n",
       "      <td>female</td>\n",
       "      <td>2007</td>\n",
       "    </tr>\n",
       "    <tr>\n",
       "      <th>3</th>\n",
       "      <td>Adelie</td>\n",
       "      <td>Torgersen</td>\n",
       "      <td>NaN</td>\n",
       "      <td>NaN</td>\n",
       "      <td>NaN</td>\n",
       "      <td>NaN</td>\n",
       "      <td>NaN</td>\n",
       "      <td>2007</td>\n",
       "    </tr>\n",
       "    <tr>\n",
       "      <th>4</th>\n",
       "      <td>Adelie</td>\n",
       "      <td>Torgersen</td>\n",
       "      <td>36.7</td>\n",
       "      <td>19.3</td>\n",
       "      <td>193.0</td>\n",
       "      <td>3450.0</td>\n",
       "      <td>female</td>\n",
       "      <td>2007</td>\n",
       "    </tr>\n",
       "  </tbody>\n",
       "</table>\n",
       "</div>"
      ],
      "text/plain": [
       "  species     island  bill_length_mm  bill_depth_mm  flipper_length_mm  \\\n",
       "0  Adelie  Torgersen            39.1           18.7              181.0   \n",
       "1  Adelie  Torgersen            39.5           17.4              186.0   \n",
       "2  Adelie  Torgersen            40.3           18.0              195.0   \n",
       "3  Adelie  Torgersen             NaN            NaN                NaN   \n",
       "4  Adelie  Torgersen            36.7           19.3              193.0   \n",
       "\n",
       "   body_mass_g     sex  year  \n",
       "0       3750.0    male  2007  \n",
       "1       3800.0  female  2007  \n",
       "2       3250.0  female  2007  \n",
       "3          NaN     NaN  2007  \n",
       "4       3450.0  female  2007  "
      ]
     },
     "execution_count": 5,
     "metadata": {},
     "output_type": "execute_result"
    }
   ],
   "source": [
    "penguins = load_penguins()\n",
    "penguins.head()\n"
   ]
  },
  {
   "cell_type": "code",
   "execution_count": 6,
   "id": "e24be800",
   "metadata": {},
   "outputs": [
    {
     "data": {
      "text/plain": [
       "0    181.0\n",
       "1    186.0\n",
       "2    195.0\n",
       "3      NaN\n",
       "4    193.0\n",
       "Name: flipper_length_mm, dtype: float64"
      ]
     },
     "execution_count": 6,
     "metadata": {},
     "output_type": "execute_result"
    }
   ],
   "source": [
    "dependant =penguins['flipper_length_mm']\n",
    "dependant.head()"
   ]
  },
  {
   "cell_type": "code",
   "execution_count": 7,
   "id": "e3e5c6a1",
   "metadata": {},
   "outputs": [
    {
     "data": {
      "text/plain": [
       "0    Adelie\n",
       "1    Adelie\n",
       "2    Adelie\n",
       "3    Adelie\n",
       "4    Adelie\n",
       "Name: species, dtype: object"
      ]
     },
     "execution_count": 7,
     "metadata": {},
     "output_type": "execute_result"
    }
   ],
   "source": [
    "independant = penguins['species']\n",
    "independant.head()"
   ]
  },
  {
   "cell_type": "code",
   "execution_count": 8,
   "id": "3511efab",
   "metadata": {},
   "outputs": [
    {
     "data": {
      "text/plain": [
       "<AxesSubplot:xlabel='flipper_length_mm', ylabel='species'>"
      ]
     },
     "execution_count": 8,
     "metadata": {},
     "output_type": "execute_result"
    },
    {
     "data": {
      "image/png": "[encoded data removed]",
      "text/plain": [
       "<Figure size 432x288 with 1 Axes>"
      ]
     },
     "metadata": {
      "needs_background": "light"
     },
     "output_type": "display_data"
    }
   ],
   "source": [
    "sns.boxplot(x=dependant,y=independant)"
   ]
  },
  {
   "cell_type": "code",
   "execution_count": 9,
   "id": "09b20090",
   "metadata": {},
   "outputs": [
    {
     "data": {
      "text/plain": [
       "<seaborn.axisgrid.FacetGrid at 0x1bd03457a30>"
      ]
     },
     "execution_count": 9,
     "metadata": {},
     "output_type": "execute_result"
    },
    {
     "data": {
      "image/png": "[encoded data removed]",
      "text/plain": [
       "<Figure size 444.125x360 with 1 Axes>"
      ]
     },
     "metadata": {
      "needs_background": "light"
     },
     "output_type": "display_data"
    }
   ],
   "source": [
    "#https://seaborn.pydata.org/generated/seaborn.displot.html#seaborn.displot\n",
    "sns.displot(x = dependant, hue = independant, kind =\"kde\")"
   ]
  },
  {
   "cell_type": "code",
   "execution_count": 10,
   "id": "581b28db",
   "metadata": {},
   "outputs": [],
   "source": [
    "import scipy.stats as ss"
   ]
  },
  {
   "cell_type": "code",
   "execution_count": 11,
   "id": "6124ca7f",
   "metadata": {},
   "outputs": [
    {
     "data": {
      "text/plain": [
       "0       True\n",
       "1       True\n",
       "2       True\n",
       "3       True\n",
       "4       True\n",
       "       ...  \n",
       "339    False\n",
       "340    False\n",
       "341    False\n",
       "342    False\n",
       "343    False\n",
       "Name: species, Length: 344, dtype: bool"
      ]
     },
     "execution_count": 11,
     "metadata": {},
     "output_type": "execute_result"
    }
   ],
   "source": [
    "independant =='Adelie'"
   ]
  },
  {
   "cell_type": "code",
   "execution_count": 12,
   "id": "b7bfed4e",
   "metadata": {},
   "outputs": [],
   "source": [
    "Adelie = dependant[independant=='Adelie']\n",
    "Adelie = Adelie.dropna()"
   ]
  },
  {
   "cell_type": "code",
   "execution_count": 13,
   "id": "1050a84b",
   "metadata": {},
   "outputs": [
    {
     "data": {
      "text/plain": [
       "152    211.0\n",
       "153    230.0\n",
       "154    210.0\n",
       "155    218.0\n",
       "156    215.0\n",
       "       ...  \n",
       "270    214.0\n",
       "272    215.0\n",
       "273    222.0\n",
       "274    212.0\n",
       "275    213.0\n",
       "Name: flipper_length_mm, Length: 123, dtype: float64"
      ]
     },
     "execution_count": 13,
     "metadata": {},
     "output_type": "execute_result"
    }
   ],
   "source": [
    "Gentoo = dependant[independant=='Gentoo']\n",
    "Gentoo = Gentoo.dropna()\n",
    "Gentoo"
   ]
  },
  {
   "cell_type": "code",
   "execution_count": 14,
   "id": "19a264ed",
   "metadata": {},
   "outputs": [
    {
     "data": {
      "text/plain": [
       "276    192.0\n",
       "277    196.0\n",
       "278    193.0\n",
       "279    188.0\n",
       "280    197.0\n",
       "       ...  \n",
       "339    207.0\n",
       "340    202.0\n",
       "341    193.0\n",
       "342    210.0\n",
       "343    198.0\n",
       "Name: flipper_length_mm, Length: 68, dtype: float64"
      ]
     },
     "execution_count": 14,
     "metadata": {},
     "output_type": "execute_result"
    }
   ],
   "source": [
    "Chinstrap = dependant[independant=='Chinstrap']\n",
    "Chinstrap"
   ]
  },
  {
   "cell_type": "code",
   "execution_count": 15,
   "id": "70488b38",
   "metadata": {},
   "outputs": [
    {
     "data": {
      "text/plain": [
       "ShapiroResult(statistic=0.9621936082839966, pvalue=0.0016198239754885435)"
      ]
     },
     "execution_count": 15,
     "metadata": {},
     "output_type": "execute_result"
    }
   ],
   "source": [
    "ss.shapiro(Gentoo)"
   ]
  },
  {
   "cell_type": "code",
   "execution_count": 16,
   "id": "f948c9db",
   "metadata": {},
   "outputs": [
    {
     "data": {
      "text/plain": [
       "ShapiroResult(statistic=0.9889119863510132, pvalue=0.8106710910797119)"
      ]
     },
     "execution_count": 16,
     "metadata": {},
     "output_type": "execute_result"
    }
   ],
   "source": [
    "ss.shapiro(Chinstrap)"
   ]
  },
  {
   "cell_type": "code",
   "execution_count": 17,
   "id": "37c08b9c",
   "metadata": {},
   "outputs": [
    {
     "data": {
      "text/plain": [
       "ShapiroResult(statistic=0.993391215801239, pvalue=0.720007061958313)"
      ]
     },
     "execution_count": 17,
     "metadata": {},
     "output_type": "execute_result"
    }
   ],
   "source": [
    "ss.shapiro(Adelie)"
   ]
  },
  {
   "cell_type": "code",
   "execution_count": 18,
   "id": "4f3b8585",
   "metadata": {},
   "outputs": [
    {
     "data": {
      "text/plain": [
       "LeveneResult(statistic=0.33056210203266245, pvalue=0.7187510785544831)"
      ]
     },
     "execution_count": 18,
     "metadata": {},
     "output_type": "execute_result"
    }
   ],
   "source": [
    "#Test for equal variances\n",
    "\n",
    "ss.levene(Gentoo, Chinstrap,Adelie)"
   ]
  },
  {
   "cell_type": "code",
   "execution_count": null,
   "id": "91550421",
   "metadata": {},
   "outputs": [],
   "source": []
  },
  {
   "cell_type": "markdown",
   "id": "20edeb5b",
   "metadata": {},
   "source": [
    "# one way anova"
   ]
  },
  {
   "cell_type": "code",
   "execution_count": 22,
   "id": "93fc7581",
   "metadata": {},
   "outputs": [
    {
     "data": {
      "text/plain": [
       "F_onewayResult(statistic=594.8016274385172, pvalue=1.3517103385730013e-111)"
      ]
     },
     "execution_count": 22,
     "metadata": {},
     "output_type": "execute_result"
    }
   ],
   "source": [
    "ss.f_oneway(Adelie,Gentoo,Chinstrap)"
   ]
  },
  {
   "cell_type": "code",
   "execution_count": null,
   "id": "54aa8e3d",
   "metadata": {},
   "outputs": [],
   "source": [
    "tiny P means we reject the null hypothesis."
   ]
  },
  {
   "cell_type": "markdown",
   "id": "2fc5ecb7",
   "metadata": {},
   "source": [
    "conclusion is the mean lenth of the flippers differ with respect to species."
   ]
  },
  {
   "cell_type": "code",
   "execution_count": 25,
   "id": "c5a39284",
   "metadata": {},
   "outputs": [],
   "source": [
    "# Maybe do stats model\n",
    "\n",
    "import statsmodels as sm"
   ]
  },
  {
   "cell_type": "markdown",
   "id": "a8dcdde1",
   "metadata": {},
   "source": [
    "post hock tests\n",
    "\n",
    "tukey post hock test\n",
    "\n",
    "type 1 and type 2 errors\n",
    "\n",
    "how does the calculation get gotten to.\n"
   ]
  },
  {
   "cell_type": "code",
   "execution_count": null,
   "id": "94a40125",
   "metadata": {},
   "outputs": [],
   "source": []
  },
  {
   "cell_type": "code",
   "execution_count": null,
   "id": "5aa0020f",
   "metadata": {},
   "outputs": [],
   "source": []
  },
  {
   "cell_type": "code",
   "execution_count": null,
   "id": "f27ae6be",
   "metadata": {},
   "outputs": [],
   "source": []
  },
  {
   "cell_type": "code",
   "execution_count": null,
   "id": "7eef61ff",
   "metadata": {},
   "outputs": [],
   "source": []
  },
  {
   "cell_type": "code",
   "execution_count": null,
   "id": "46913dba",
   "metadata": {},
   "outputs": [],
   "source": []
  },
  {
   "cell_type": "code",
   "execution_count": null,
   "id": "5b8c4e11",
   "metadata": {},
   "outputs": [],
   "source": []
  },
  {
   "cell_type": "code",
   "execution_count": null,
   "id": "34884fa8",
   "metadata": {},
   "outputs": [],
   "source": []
  },
  {
   "cell_type": "code",
   "execution_count": null,
   "id": "f3ade32a",
   "metadata": {},
   "outputs": [],
   "source": []
  },
  {
   "cell_type": "code",
   "execution_count": null,
   "id": "4a62915c",
   "metadata": {},
   "outputs": [],
   "source": []
  }
 ],
 "metadata": {
  "kernelspec": {
   "display_name": "Python 3",
   "language": "python",
   "name": "python3"
  },
  "language_info": {
   "codemirror_mode": {
    "name": "ipython",
    "version": 3
   },
   "file_extension": ".py",
   "mimetype": "text/x-python",
   "name": "python",
   "nbconvert_exporter": "python",
   "pygments_lexer": "ipython3",
   "version": "3.8.8"
  }
 },
 "nbformat": 4,
 "nbformat_minor": 5
}
