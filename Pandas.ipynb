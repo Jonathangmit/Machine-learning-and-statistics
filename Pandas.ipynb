{
 "cells": [
  {
   "cell_type": "markdown",
   "id": "victorian-performer",
   "metadata": {},
   "source": [
    "## 10 minutes to pandas\n",
    "###### pandas website\n",
    "https://pandas.pydata.org/\n",
    "###### 10 mins to pandas link\n",
    "https://pandas.pydata.org/docs/user_guide/10min.html\n",
    "###### short cuts\n",
    "https://www.dataquest.io/blog/jupyter-notebook-tips-tricks-shortcuts/"
   ]
  },
  {
   "cell_type": "code",
   "execution_count": 35,
   "id": "intellectual-bandwidth",
   "metadata": {},
   "outputs": [],
   "source": [
    "import numpy as np"
   ]
  },
  {
   "cell_type": "code",
   "execution_count": 36,
   "id": "previous-stanford",
   "metadata": {},
   "outputs": [],
   "source": [
    "import pandas as pd"
   ]
  },
  {
   "cell_type": "markdown",
   "id": "hearing-participant",
   "metadata": {},
   "source": [
    "###### creation of a pandas list"
   ]
  },
  {
   "cell_type": "code",
   "execution_count": 37,
   "id": "small-spanish",
   "metadata": {},
   "outputs": [],
   "source": [
    "s = pd.Series([1, 3, 5, np.nan, 6, 8])"
   ]
  },
  {
   "cell_type": "code",
   "execution_count": 38,
   "id": "demographic-given",
   "metadata": {},
   "outputs": [
    {
     "data": {
      "text/plain": [
       "0    1.0\n",
       "1    3.0\n",
       "2    5.0\n",
       "3    NaN\n",
       "4    6.0\n",
       "5    8.0\n",
       "dtype: float64"
      ]
     },
     "execution_count": 38,
     "metadata": {},
     "output_type": "execute_result"
    }
   ],
   "source": [
    "s"
   ]
  },
  {
   "cell_type": "markdown",
   "id": "every-recycling",
   "metadata": {},
   "source": [
    "###### Creation of a simple dataframe. \n",
    "###### First we create a date range (yyyy-mm-dd)"
   ]
  },
  {
   "cell_type": "code",
   "execution_count": 39,
   "id": "growing-contact",
   "metadata": {},
   "outputs": [],
   "source": [
    "dates = pd.date_range(\"20130101\", periods=7)"
   ]
  },
  {
   "cell_type": "code",
   "execution_count": 40,
   "id": "understanding-startup",
   "metadata": {},
   "outputs": [
    {
     "data": {
      "text/plain": [
       "DatetimeIndex(['2013-01-01', '2013-01-02', '2013-01-03', '2013-01-04',\n",
       "               '2013-01-05', '2013-01-06', '2013-01-07'],\n",
       "              dtype='datetime64[ns]', freq='D')"
      ]
     },
     "execution_count": 40,
     "metadata": {},
     "output_type": "execute_result"
    }
   ],
   "source": [
    "dates"
   ]
  },
  {
   "cell_type": "markdown",
   "id": "excess-canvas",
   "metadata": {},
   "source": [
    "###### Then we create a randomly generated 7 by 4 matrix and supply "
   ]
  },
  {
   "cell_type": "code",
   "execution_count": 41,
   "id": "unauthorized-apparel",
   "metadata": {},
   "outputs": [],
   "source": [
    "df = pd.DataFrame(np.random.randn(7, 4))"
   ]
  },
  {
   "cell_type": "code",
   "execution_count": 42,
   "id": "affiliated-custom",
   "metadata": {},
   "outputs": [
    {
     "data": {
      "text/html": [
       "<div>\n",
       "<style scoped>\n",
       "    .dataframe tbody tr th:only-of-type {\n",
       "        vertical-align: middle;\n",
       "    }\n",
       "\n",
       "    .dataframe tbody tr th {\n",
       "        vertical-align: top;\n",
       "    }\n",
       "\n",
       "    .dataframe thead th {\n",
       "        text-align: right;\n",
       "    }\n",
       "</style>\n",
       "<table border=\"1\" class=\"dataframe\">\n",
       "  <thead>\n",
       "    <tr style=\"text-align: right;\">\n",
       "      <th></th>\n",
       "      <th>0</th>\n",
       "      <th>1</th>\n",
       "      <th>2</th>\n",
       "      <th>3</th>\n",
       "    </tr>\n",
       "  </thead>\n",
       "  <tbody>\n",
       "    <tr>\n",
       "      <th>0</th>\n",
       "      <td>0.590172</td>\n",
       "      <td>-1.241467</td>\n",
       "      <td>-0.162137</td>\n",
       "      <td>0.161641</td>\n",
       "    </tr>\n",
       "    <tr>\n",
       "      <th>1</th>\n",
       "      <td>-1.230647</td>\n",
       "      <td>-0.620835</td>\n",
       "      <td>0.953211</td>\n",
       "      <td>0.050281</td>\n",
       "    </tr>\n",
       "    <tr>\n",
       "      <th>2</th>\n",
       "      <td>-0.530537</td>\n",
       "      <td>-1.671200</td>\n",
       "      <td>0.440738</td>\n",
       "      <td>0.827747</td>\n",
       "    </tr>\n",
       "    <tr>\n",
       "      <th>3</th>\n",
       "      <td>-0.093576</td>\n",
       "      <td>0.426849</td>\n",
       "      <td>0.350101</td>\n",
       "      <td>1.645887</td>\n",
       "    </tr>\n",
       "    <tr>\n",
       "      <th>4</th>\n",
       "      <td>0.039224</td>\n",
       "      <td>-0.164646</td>\n",
       "      <td>0.354975</td>\n",
       "      <td>-0.031507</td>\n",
       "    </tr>\n",
       "    <tr>\n",
       "      <th>5</th>\n",
       "      <td>-0.195507</td>\n",
       "      <td>0.297896</td>\n",
       "      <td>-1.413650</td>\n",
       "      <td>0.108494</td>\n",
       "    </tr>\n",
       "    <tr>\n",
       "      <th>6</th>\n",
       "      <td>0.448963</td>\n",
       "      <td>2.297716</td>\n",
       "      <td>-0.122429</td>\n",
       "      <td>-0.736057</td>\n",
       "    </tr>\n",
       "  </tbody>\n",
       "</table>\n",
       "</div>"
      ],
      "text/plain": [
       "          0         1         2         3\n",
       "0  0.590172 -1.241467 -0.162137  0.161641\n",
       "1 -1.230647 -0.620835  0.953211  0.050281\n",
       "2 -0.530537 -1.671200  0.440738  0.827747\n",
       "3 -0.093576  0.426849  0.350101  1.645887\n",
       "4  0.039224 -0.164646  0.354975 -0.031507\n",
       "5 -0.195507  0.297896 -1.413650  0.108494\n",
       "6  0.448963  2.297716 -0.122429 -0.736057"
      ]
     },
     "execution_count": 42,
     "metadata": {},
     "output_type": "execute_result"
    }
   ],
   "source": [
    "df"
   ]
  },
  {
   "cell_type": "markdown",
   "id": "negative-thriller",
   "metadata": {},
   "source": [
    "###### placing a matrix into a pandas dataframe with the dates and adding column headers"
   ]
  },
  {
   "cell_type": "code",
   "execution_count": 43,
   "id": "statewide-vault",
   "metadata": {},
   "outputs": [
    {
     "data": {
      "text/html": [
       "<div>\n",
       "<style scoped>\n",
       "    .dataframe tbody tr th:only-of-type {\n",
       "        vertical-align: middle;\n",
       "    }\n",
       "\n",
       "    .dataframe tbody tr th {\n",
       "        vertical-align: top;\n",
       "    }\n",
       "\n",
       "    .dataframe thead th {\n",
       "        text-align: right;\n",
       "    }\n",
       "</style>\n",
       "<table border=\"1\" class=\"dataframe\">\n",
       "  <thead>\n",
       "    <tr style=\"text-align: right;\">\n",
       "      <th></th>\n",
       "      <th>A</th>\n",
       "      <th>B</th>\n",
       "      <th>C</th>\n",
       "      <th>D</th>\n",
       "    </tr>\n",
       "  </thead>\n",
       "  <tbody>\n",
       "    <tr>\n",
       "      <th>2013-01-01</th>\n",
       "      <td>0.723503</td>\n",
       "      <td>0.021391</td>\n",
       "      <td>0.809233</td>\n",
       "      <td>0.456858</td>\n",
       "    </tr>\n",
       "    <tr>\n",
       "      <th>2013-01-02</th>\n",
       "      <td>0.371103</td>\n",
       "      <td>0.332598</td>\n",
       "      <td>0.101274</td>\n",
       "      <td>0.527121</td>\n",
       "    </tr>\n",
       "    <tr>\n",
       "      <th>2013-01-03</th>\n",
       "      <td>0.853208</td>\n",
       "      <td>0.885376</td>\n",
       "      <td>0.399281</td>\n",
       "      <td>0.104243</td>\n",
       "    </tr>\n",
       "    <tr>\n",
       "      <th>2013-01-04</th>\n",
       "      <td>0.115003</td>\n",
       "      <td>0.678397</td>\n",
       "      <td>0.608275</td>\n",
       "      <td>0.508568</td>\n",
       "    </tr>\n",
       "    <tr>\n",
       "      <th>2013-01-05</th>\n",
       "      <td>0.765152</td>\n",
       "      <td>0.335116</td>\n",
       "      <td>0.208562</td>\n",
       "      <td>0.870510</td>\n",
       "    </tr>\n",
       "    <tr>\n",
       "      <th>2013-01-06</th>\n",
       "      <td>0.904287</td>\n",
       "      <td>0.806757</td>\n",
       "      <td>0.874528</td>\n",
       "      <td>0.081245</td>\n",
       "    </tr>\n",
       "    <tr>\n",
       "      <th>2013-01-07</th>\n",
       "      <td>0.504531</td>\n",
       "      <td>0.910296</td>\n",
       "      <td>0.676516</td>\n",
       "      <td>0.968643</td>\n",
       "    </tr>\n",
       "  </tbody>\n",
       "</table>\n",
       "</div>"
      ],
      "text/plain": [
       "                   A         B         C         D\n",
       "2013-01-01  0.723503  0.021391  0.809233  0.456858\n",
       "2013-01-02  0.371103  0.332598  0.101274  0.527121\n",
       "2013-01-03  0.853208  0.885376  0.399281  0.104243\n",
       "2013-01-04  0.115003  0.678397  0.608275  0.508568\n",
       "2013-01-05  0.765152  0.335116  0.208562  0.870510\n",
       "2013-01-06  0.904287  0.806757  0.874528  0.081245\n",
       "2013-01-07  0.504531  0.910296  0.676516  0.968643"
      ]
     },
     "execution_count": 43,
     "metadata": {},
     "output_type": "execute_result"
    }
   ],
   "source": [
    "df1=pd.DataFrame(np.random.rand(7,4), index=dates,columns=list(\"ABCD\"))\n",
    "df1"
   ]
  },
  {
   "cell_type": "markdown",
   "id": "empty-sleeping",
   "metadata": {},
   "source": [
    "###### Pandas can handle multiple date types in a single table"
   ]
  },
  {
   "cell_type": "code",
   "execution_count": 45,
   "id": "developing-developer",
   "metadata": {},
   "outputs": [
    {
     "data": {
      "text/html": [
       "<div>\n",
       "<style scoped>\n",
       "    .dataframe tbody tr th:only-of-type {\n",
       "        vertical-align: middle;\n",
       "    }\n",
       "\n",
       "    .dataframe tbody tr th {\n",
       "        vertical-align: top;\n",
       "    }\n",
       "\n",
       "    .dataframe thead th {\n",
       "        text-align: right;\n",
       "    }\n",
       "</style>\n",
       "<table border=\"1\" class=\"dataframe\">\n",
       "  <thead>\n",
       "    <tr style=\"text-align: right;\">\n",
       "      <th></th>\n",
       "      <th>A</th>\n",
       "      <th>B</th>\n",
       "      <th>C</th>\n",
       "      <th>D</th>\n",
       "      <th>E</th>\n",
       "      <th>F</th>\n",
       "    </tr>\n",
       "  </thead>\n",
       "  <tbody>\n",
       "    <tr>\n",
       "      <th>0</th>\n",
       "      <td>1.0</td>\n",
       "      <td>2013-01-02</td>\n",
       "      <td>1.0</td>\n",
       "      <td>3</td>\n",
       "      <td>test</td>\n",
       "      <td>foo</td>\n",
       "    </tr>\n",
       "    <tr>\n",
       "      <th>1</th>\n",
       "      <td>1.0</td>\n",
       "      <td>2013-01-02</td>\n",
       "      <td>1.0</td>\n",
       "      <td>3</td>\n",
       "      <td>train</td>\n",
       "      <td>foo</td>\n",
       "    </tr>\n",
       "    <tr>\n",
       "      <th>2</th>\n",
       "      <td>1.0</td>\n",
       "      <td>2013-01-02</td>\n",
       "      <td>1.0</td>\n",
       "      <td>3</td>\n",
       "      <td>test</td>\n",
       "      <td>foo</td>\n",
       "    </tr>\n",
       "    <tr>\n",
       "      <th>3</th>\n",
       "      <td>1.0</td>\n",
       "      <td>2013-01-02</td>\n",
       "      <td>1.0</td>\n",
       "      <td>3</td>\n",
       "      <td>train</td>\n",
       "      <td>foo</td>\n",
       "    </tr>\n",
       "  </tbody>\n",
       "</table>\n",
       "</div>"
      ],
      "text/plain": [
       "     A          B    C  D      E    F\n",
       "0  1.0 2013-01-02  1.0  3   test  foo\n",
       "1  1.0 2013-01-02  1.0  3  train  foo\n",
       "2  1.0 2013-01-02  1.0  3   test  foo\n",
       "3  1.0 2013-01-02  1.0  3  train  foo"
      ]
     },
     "execution_count": 45,
     "metadata": {},
     "output_type": "execute_result"
    }
   ],
   "source": [
    "df2 = pd.DataFrame(\n",
    "    {\n",
    "        \"A\": 1.0,\n",
    "        \"B\": pd.Timestamp(\"20130102\"),\n",
    "        \"C\": pd.Series(1, index=list(range(4)), dtype=\"float32\"),\n",
    "        \"D\": np.array([3] * 4, dtype=\"int32\"),\n",
    "        \"E\": pd.Categorical([\"test\", \"train\", \"test\", \"train\"]),\n",
    "        \"F\": \"foo\",\n",
    "    }\n",
    ")\n",
    "df2"
   ]
  },
  {
   "cell_type": "markdown",
   "id": "armed-edition",
   "metadata": {},
   "source": [
    "###### The data types in df2 are given below, 1 from the top and 2 from the bottom"
   ]
  },
  {
   "cell_type": "code",
   "execution_count": 48,
   "id": "composed-gasoline",
   "metadata": {},
   "outputs": [
    {
     "data": {
      "text/plain": [
       "A           float64\n",
       "B    datetime64[ns]\n",
       "C           float32\n",
       "D             int32\n",
       "E          category\n",
       "F            object\n",
       "dtype: object"
      ]
     },
     "execution_count": 48,
     "metadata": {},
     "output_type": "execute_result"
    }
   ],
   "source": [
    "df2.dtypes"
   ]
  },
  {
   "cell_type": "markdown",
   "id": "latter-casting",
   "metadata": {},
   "source": [
    "92)###### viewing the top and bottom of a table"
   ]
  },
  {
   "cell_type": "code",
   "execution_count": 52,
   "id": "furnished-negotiation",
   "metadata": {},
   "outputs": [
    {
     "data": {
      "text/html": [
       "<div>\n",
       "<style scoped>\n",
       "    .dataframe tbody tr th:only-of-type {\n",
       "        vertical-align: middle;\n",
       "    }\n",
       "\n",
       "    .dataframe tbody tr th {\n",
       "        vertical-align: top;\n",
       "    }\n",
       "\n",
       "    .dataframe thead th {\n",
       "        text-align: right;\n",
       "    }\n",
       "</style>\n",
       "<table border=\"1\" class=\"dataframe\">\n",
       "  <thead>\n",
       "    <tr style=\"text-align: right;\">\n",
       "      <th></th>\n",
       "      <th>A</th>\n",
       "      <th>B</th>\n",
       "      <th>C</th>\n",
       "      <th>D</th>\n",
       "      <th>E</th>\n",
       "      <th>F</th>\n",
       "    </tr>\n",
       "  </thead>\n",
       "  <tbody>\n",
       "    <tr>\n",
       "      <th>0</th>\n",
       "      <td>1.0</td>\n",
       "      <td>2013-01-02</td>\n",
       "      <td>1.0</td>\n",
       "      <td>3</td>\n",
       "      <td>test</td>\n",
       "      <td>foo</td>\n",
       "    </tr>\n",
       "  </tbody>\n",
       "</table>\n",
       "</div>"
      ],
      "text/plain": [
       "     A          B    C  D     E    F\n",
       "0  1.0 2013-01-02  1.0  3  test  foo"
      ]
     },
     "execution_count": 52,
     "metadata": {},
     "output_type": "execute_result"
    }
   ],
   "source": [
    "df2.head(1)"
   ]
  },
  {
   "cell_type": "code",
   "execution_count": 53,
   "id": "level-driver",
   "metadata": {},
   "outputs": [
    {
     "data": {
      "text/html": [
       "<div>\n",
       "<style scoped>\n",
       "    .dataframe tbody tr th:only-of-type {\n",
       "        vertical-align: middle;\n",
       "    }\n",
       "\n",
       "    .dataframe tbody tr th {\n",
       "        vertical-align: top;\n",
       "    }\n",
       "\n",
       "    .dataframe thead th {\n",
       "        text-align: right;\n",
       "    }\n",
       "</style>\n",
       "<table border=\"1\" class=\"dataframe\">\n",
       "  <thead>\n",
       "    <tr style=\"text-align: right;\">\n",
       "      <th></th>\n",
       "      <th>A</th>\n",
       "      <th>B</th>\n",
       "      <th>C</th>\n",
       "      <th>D</th>\n",
       "      <th>E</th>\n",
       "      <th>F</th>\n",
       "    </tr>\n",
       "  </thead>\n",
       "  <tbody>\n",
       "    <tr>\n",
       "      <th>2</th>\n",
       "      <td>1.0</td>\n",
       "      <td>2013-01-02</td>\n",
       "      <td>1.0</td>\n",
       "      <td>3</td>\n",
       "      <td>test</td>\n",
       "      <td>foo</td>\n",
       "    </tr>\n",
       "    <tr>\n",
       "      <th>3</th>\n",
       "      <td>1.0</td>\n",
       "      <td>2013-01-02</td>\n",
       "      <td>1.0</td>\n",
       "      <td>3</td>\n",
       "      <td>train</td>\n",
       "      <td>foo</td>\n",
       "    </tr>\n",
       "  </tbody>\n",
       "</table>\n",
       "</div>"
      ],
      "text/plain": [
       "     A          B    C  D      E    F\n",
       "2  1.0 2013-01-02  1.0  3   test  foo\n",
       "3  1.0 2013-01-02  1.0  3  train  foo"
      ]
     },
     "execution_count": 53,
     "metadata": {},
     "output_type": "execute_result"
    }
   ],
   "source": [
    "df2.tail(2)"
   ]
  },
  {
   "cell_type": "markdown",
   "id": "needed-basis",
   "metadata": {},
   "source": [
    "###### To dsisplay a particular column just "
   ]
  },
  {
   "cell_type": "code",
   "execution_count": 56,
   "id": "tropical-liquid",
   "metadata": {},
   "outputs": [
    {
     "data": {
      "text/plain": [
       "DatetimeIndex(['2013-01-01', '2013-01-02', '2013-01-03', '2013-01-04',\n",
       "               '2013-01-05', '2013-01-06', '2013-01-07'],\n",
       "              dtype='datetime64[ns]', freq='D')"
      ]
     },
     "execution_count": 56,
     "metadata": {},
     "output_type": "execute_result"
    }
   ],
   "source": [
    "df1.index"
   ]
  },
  {
   "cell_type": "code",
   "execution_count": 57,
   "id": "further-investigator",
   "metadata": {},
   "outputs": [
    {
     "data": {
      "text/plain": [
       "Index(['A', 'B', 'C', 'D'], dtype='object')"
      ]
     },
     "execution_count": 57,
     "metadata": {},
     "output_type": "execute_result"
    }
   ],
   "source": [
    "df1.columns"
   ]
  },
  {
   "cell_type": "markdown",
   "id": "interested-moscow",
   "metadata": {},
   "source": [
    "###### You can convert the pandas frame into Numpy but for tables containing more than one data type the operation is expensive"
   ]
  },
  {
   "cell_type": "code",
   "execution_count": 58,
   "id": "centered-nightlife",
   "metadata": {},
   "outputs": [
    {
     "data": {
      "text/plain": [
       "array([[0.72350305, 0.02139053, 0.80923338, 0.45685845],\n",
       "       [0.37110289, 0.33259777, 0.10127419, 0.52712088],\n",
       "       [0.85320815, 0.88537647, 0.39928056, 0.10424302],\n",
       "       [0.11500316, 0.67839676, 0.6082752 , 0.50856754],\n",
       "       [0.765152  , 0.33511577, 0.2085617 , 0.87050969],\n",
       "       [0.90428665, 0.80675655, 0.87452761, 0.08124526],\n",
       "       [0.50453077, 0.91029642, 0.67651569, 0.96864299]])"
      ]
     },
     "execution_count": 58,
     "metadata": {},
     "output_type": "execute_result"
    }
   ],
   "source": [
    "df1.to_numpy()"
   ]
  },
  {
   "cell_type": "code",
   "execution_count": 60,
   "id": "bearing-television",
   "metadata": {},
   "outputs": [
    {
     "data": {
      "text/plain": [
       "array([[1.0, Timestamp('2013-01-02 00:00:00'), 1.0, 3, 'test', 'foo'],\n",
       "       [1.0, Timestamp('2013-01-02 00:00:00'), 1.0, 3, 'train', 'foo'],\n",
       "       [1.0, Timestamp('2013-01-02 00:00:00'), 1.0, 3, 'test', 'foo'],\n",
       "       [1.0, Timestamp('2013-01-02 00:00:00'), 1.0, 3, 'train', 'foo']],\n",
       "      dtype=object)"
      ]
     },
     "execution_count": 60,
     "metadata": {},
     "output_type": "execute_result"
    }
   ],
   "source": [
    "df2.to_numpy()"
   ]
  },
  {
   "cell_type": "code",
   "execution_count": null,
   "id": "pharmaceutical-singles",
   "metadata": {},
   "outputs": [],
   "source": [
    "###### A set of summary stats for the frame"
   ]
  },
  {
   "cell_type": "code",
   "execution_count": 62,
   "id": "chicken-cover",
   "metadata": {},
   "outputs": [
    {
     "data": {
      "text/html": [
       "<div>\n",
       "<style scoped>\n",
       "    .dataframe tbody tr th:only-of-type {\n",
       "        vertical-align: middle;\n",
       "    }\n",
       "\n",
       "    .dataframe tbody tr th {\n",
       "        vertical-align: top;\n",
       "    }\n",
       "\n",
       "    .dataframe thead th {\n",
       "        text-align: right;\n",
       "    }\n",
       "</style>\n",
       "<table border=\"1\" class=\"dataframe\">\n",
       "  <thead>\n",
       "    <tr style=\"text-align: right;\">\n",
       "      <th></th>\n",
       "      <th>A</th>\n",
       "      <th>B</th>\n",
       "      <th>C</th>\n",
       "      <th>D</th>\n",
       "    </tr>\n",
       "  </thead>\n",
       "  <tbody>\n",
       "    <tr>\n",
       "      <th>count</th>\n",
       "      <td>7.000000</td>\n",
       "      <td>7.000000</td>\n",
       "      <td>7.000000</td>\n",
       "      <td>7.000000</td>\n",
       "    </tr>\n",
       "    <tr>\n",
       "      <th>mean</th>\n",
       "      <td>0.605255</td>\n",
       "      <td>0.567133</td>\n",
       "      <td>0.525381</td>\n",
       "      <td>0.502455</td>\n",
       "    </tr>\n",
       "    <tr>\n",
       "      <th>std</th>\n",
       "      <td>0.287451</td>\n",
       "      <td>0.340468</td>\n",
       "      <td>0.296741</td>\n",
       "      <td>0.339488</td>\n",
       "    </tr>\n",
       "    <tr>\n",
       "      <th>min</th>\n",
       "      <td>0.115003</td>\n",
       "      <td>0.021391</td>\n",
       "      <td>0.101274</td>\n",
       "      <td>0.081245</td>\n",
       "    </tr>\n",
       "    <tr>\n",
       "      <th>25%</th>\n",
       "      <td>0.437817</td>\n",
       "      <td>0.333857</td>\n",
       "      <td>0.303921</td>\n",
       "      <td>0.280551</td>\n",
       "    </tr>\n",
       "    <tr>\n",
       "      <th>50%</th>\n",
       "      <td>0.723503</td>\n",
       "      <td>0.678397</td>\n",
       "      <td>0.608275</td>\n",
       "      <td>0.508568</td>\n",
       "    </tr>\n",
       "    <tr>\n",
       "      <th>75%</th>\n",
       "      <td>0.809180</td>\n",
       "      <td>0.846067</td>\n",
       "      <td>0.742875</td>\n",
       "      <td>0.698815</td>\n",
       "    </tr>\n",
       "    <tr>\n",
       "      <th>max</th>\n",
       "      <td>0.904287</td>\n",
       "      <td>0.910296</td>\n",
       "      <td>0.874528</td>\n",
       "      <td>0.968643</td>\n",
       "    </tr>\n",
       "  </tbody>\n",
       "</table>\n",
       "</div>"
      ],
      "text/plain": [
       "              A         B         C         D\n",
       "count  7.000000  7.000000  7.000000  7.000000\n",
       "mean   0.605255  0.567133  0.525381  0.502455\n",
       "std    0.287451  0.340468  0.296741  0.339488\n",
       "min    0.115003  0.021391  0.101274  0.081245\n",
       "25%    0.437817  0.333857  0.303921  0.280551\n",
       "50%    0.723503  0.678397  0.608275  0.508568\n",
       "75%    0.809180  0.846067  0.742875  0.698815\n",
       "max    0.904287  0.910296  0.874528  0.968643"
      ]
     },
     "execution_count": 62,
     "metadata": {},
     "output_type": "execute_result"
    }
   ],
   "source": [
    "df1.describe()"
   ]
  },
  {
   "cell_type": "code",
   "execution_count": 63,
   "id": "brief-organ",
   "metadata": {},
   "outputs": [
    {
     "data": {
      "text/html": [
       "<div>\n",
       "<style scoped>\n",
       "    .dataframe tbody tr th:only-of-type {\n",
       "        vertical-align: middle;\n",
       "    }\n",
       "\n",
       "    .dataframe tbody tr th {\n",
       "        vertical-align: top;\n",
       "    }\n",
       "\n",
       "    .dataframe thead th {\n",
       "        text-align: right;\n",
       "    }\n",
       "</style>\n",
       "<table border=\"1\" class=\"dataframe\">\n",
       "  <thead>\n",
       "    <tr style=\"text-align: right;\">\n",
       "      <th></th>\n",
       "      <th>A</th>\n",
       "      <th>C</th>\n",
       "      <th>D</th>\n",
       "    </tr>\n",
       "  </thead>\n",
       "  <tbody>\n",
       "    <tr>\n",
       "      <th>count</th>\n",
       "      <td>4.0</td>\n",
       "      <td>4.0</td>\n",
       "      <td>4.0</td>\n",
       "    </tr>\n",
       "    <tr>\n",
       "      <th>mean</th>\n",
       "      <td>1.0</td>\n",
       "      <td>1.0</td>\n",
       "      <td>3.0</td>\n",
       "    </tr>\n",
       "    <tr>\n",
       "      <th>std</th>\n",
       "      <td>0.0</td>\n",
       "      <td>0.0</td>\n",
       "      <td>0.0</td>\n",
       "    </tr>\n",
       "    <tr>\n",
       "      <th>min</th>\n",
       "      <td>1.0</td>\n",
       "      <td>1.0</td>\n",
       "      <td>3.0</td>\n",
       "    </tr>\n",
       "    <tr>\n",
       "      <th>25%</th>\n",
       "      <td>1.0</td>\n",
       "      <td>1.0</td>\n",
       "      <td>3.0</td>\n",
       "    </tr>\n",
       "    <tr>\n",
       "      <th>50%</th>\n",
       "      <td>1.0</td>\n",
       "      <td>1.0</td>\n",
       "      <td>3.0</td>\n",
       "    </tr>\n",
       "    <tr>\n",
       "      <th>75%</th>\n",
       "      <td>1.0</td>\n",
       "      <td>1.0</td>\n",
       "      <td>3.0</td>\n",
       "    </tr>\n",
       "    <tr>\n",
       "      <th>max</th>\n",
       "      <td>1.0</td>\n",
       "      <td>1.0</td>\n",
       "      <td>3.0</td>\n",
       "    </tr>\n",
       "  </tbody>\n",
       "</table>\n",
       "</div>"
      ],
      "text/plain": [
       "         A    C    D\n",
       "count  4.0  4.0  4.0\n",
       "mean   1.0  1.0  3.0\n",
       "std    0.0  0.0  0.0\n",
       "min    1.0  1.0  3.0\n",
       "25%    1.0  1.0  3.0\n",
       "50%    1.0  1.0  3.0\n",
       "75%    1.0  1.0  3.0\n",
       "max    1.0  1.0  3.0"
      ]
     },
     "execution_count": 63,
     "metadata": {},
     "output_type": "execute_result"
    }
   ],
   "source": [
    "df2.describe()"
   ]
  },
  {
   "cell_type": "markdown",
   "id": "based-jacob",
   "metadata": {},
   "source": [
    "###### To transpose df1"
   ]
  },
  {
   "cell_type": "code",
   "execution_count": 74,
   "id": "classified-magic",
   "metadata": {},
   "outputs": [
    {
     "data": {
      "text/html": [
       "<div>\n",
       "<style scoped>\n",
       "    .dataframe tbody tr th:only-of-type {\n",
       "        vertical-align: middle;\n",
       "    }\n",
       "\n",
       "    .dataframe tbody tr th {\n",
       "        vertical-align: top;\n",
       "    }\n",
       "\n",
       "    .dataframe thead th {\n",
       "        text-align: right;\n",
       "    }\n",
       "</style>\n",
       "<table border=\"1\" class=\"dataframe\">\n",
       "  <thead>\n",
       "    <tr style=\"text-align: right;\">\n",
       "      <th></th>\n",
       "      <th>A</th>\n",
       "      <th>B</th>\n",
       "      <th>C</th>\n",
       "      <th>D</th>\n",
       "    </tr>\n",
       "  </thead>\n",
       "  <tbody>\n",
       "    <tr>\n",
       "      <th>2013-01-01</th>\n",
       "      <td>0.723503</td>\n",
       "      <td>0.021391</td>\n",
       "      <td>0.809233</td>\n",
       "      <td>0.456858</td>\n",
       "    </tr>\n",
       "    <tr>\n",
       "      <th>2013-01-02</th>\n",
       "      <td>0.371103</td>\n",
       "      <td>0.332598</td>\n",
       "      <td>0.101274</td>\n",
       "      <td>0.527121</td>\n",
       "    </tr>\n",
       "    <tr>\n",
       "      <th>2013-01-03</th>\n",
       "      <td>0.853208</td>\n",
       "      <td>0.885376</td>\n",
       "      <td>0.399281</td>\n",
       "      <td>0.104243</td>\n",
       "    </tr>\n",
       "    <tr>\n",
       "      <th>2013-01-04</th>\n",
       "      <td>0.115003</td>\n",
       "      <td>0.678397</td>\n",
       "      <td>0.608275</td>\n",
       "      <td>0.508568</td>\n",
       "    </tr>\n",
       "    <tr>\n",
       "      <th>2013-01-05</th>\n",
       "      <td>0.765152</td>\n",
       "      <td>0.335116</td>\n",
       "      <td>0.208562</td>\n",
       "      <td>0.870510</td>\n",
       "    </tr>\n",
       "    <tr>\n",
       "      <th>2013-01-06</th>\n",
       "      <td>0.904287</td>\n",
       "      <td>0.806757</td>\n",
       "      <td>0.874528</td>\n",
       "      <td>0.081245</td>\n",
       "    </tr>\n",
       "    <tr>\n",
       "      <th>2013-01-07</th>\n",
       "      <td>0.504531</td>\n",
       "      <td>0.910296</td>\n",
       "      <td>0.676516</td>\n",
       "      <td>0.968643</td>\n",
       "    </tr>\n",
       "  </tbody>\n",
       "</table>\n",
       "</div>"
      ],
      "text/plain": [
       "                   A         B         C         D\n",
       "2013-01-01  0.723503  0.021391  0.809233  0.456858\n",
       "2013-01-02  0.371103  0.332598  0.101274  0.527121\n",
       "2013-01-03  0.853208  0.885376  0.399281  0.104243\n",
       "2013-01-04  0.115003  0.678397  0.608275  0.508568\n",
       "2013-01-05  0.765152  0.335116  0.208562  0.870510\n",
       "2013-01-06  0.904287  0.806757  0.874528  0.081245\n",
       "2013-01-07  0.504531  0.910296  0.676516  0.968643"
      ]
     },
     "execution_count": 74,
     "metadata": {},
     "output_type": "execute_result"
    }
   ],
   "source": [
    "df1"
   ]
  },
  {
   "cell_type": "code",
   "execution_count": 79,
   "id": "other-crazy",
   "metadata": {},
   "outputs": [
    {
     "data": {
      "text/html": [
       "<div>\n",
       "<style scoped>\n",
       "    .dataframe tbody tr th:only-of-type {\n",
       "        vertical-align: middle;\n",
       "    }\n",
       "\n",
       "    .dataframe tbody tr th {\n",
       "        vertical-align: top;\n",
       "    }\n",
       "\n",
       "    .dataframe thead th {\n",
       "        text-align: right;\n",
       "    }\n",
       "</style>\n",
       "<table border=\"1\" class=\"dataframe\">\n",
       "  <thead>\n",
       "    <tr style=\"text-align: right;\">\n",
       "      <th></th>\n",
       "      <th>2013-01-01</th>\n",
       "      <th>2013-01-02</th>\n",
       "      <th>2013-01-03</th>\n",
       "      <th>2013-01-04</th>\n",
       "      <th>2013-01-05</th>\n",
       "      <th>2013-01-06</th>\n",
       "      <th>2013-01-07</th>\n",
       "    </tr>\n",
       "  </thead>\n",
       "  <tbody>\n",
       "    <tr>\n",
       "      <th>A</th>\n",
       "      <td>0.723503</td>\n",
       "      <td>0.371103</td>\n",
       "      <td>0.853208</td>\n",
       "      <td>0.115003</td>\n",
       "      <td>0.765152</td>\n",
       "      <td>0.904287</td>\n",
       "      <td>0.504531</td>\n",
       "    </tr>\n",
       "    <tr>\n",
       "      <th>B</th>\n",
       "      <td>0.021391</td>\n",
       "      <td>0.332598</td>\n",
       "      <td>0.885376</td>\n",
       "      <td>0.678397</td>\n",
       "      <td>0.335116</td>\n",
       "      <td>0.806757</td>\n",
       "      <td>0.910296</td>\n",
       "    </tr>\n",
       "    <tr>\n",
       "      <th>C</th>\n",
       "      <td>0.809233</td>\n",
       "      <td>0.101274</td>\n",
       "      <td>0.399281</td>\n",
       "      <td>0.608275</td>\n",
       "      <td>0.208562</td>\n",
       "      <td>0.874528</td>\n",
       "      <td>0.676516</td>\n",
       "    </tr>\n",
       "    <tr>\n",
       "      <th>D</th>\n",
       "      <td>0.456858</td>\n",
       "      <td>0.527121</td>\n",
       "      <td>0.104243</td>\n",
       "      <td>0.508568</td>\n",
       "      <td>0.870510</td>\n",
       "      <td>0.081245</td>\n",
       "      <td>0.968643</td>\n",
       "    </tr>\n",
       "  </tbody>\n",
       "</table>\n",
       "</div>"
      ],
      "text/plain": [
       "   2013-01-01  2013-01-02  2013-01-03  2013-01-04  2013-01-05  2013-01-06  \\\n",
       "A    0.723503    0.371103    0.853208    0.115003    0.765152    0.904287   \n",
       "B    0.021391    0.332598    0.885376    0.678397    0.335116    0.806757   \n",
       "C    0.809233    0.101274    0.399281    0.608275    0.208562    0.874528   \n",
       "D    0.456858    0.527121    0.104243    0.508568    0.870510    0.081245   \n",
       "\n",
       "   2013-01-07  \n",
       "A    0.504531  \n",
       "B    0.910296  \n",
       "C    0.676516  \n",
       "D    0.968643  "
      ]
     },
     "execution_count": 79,
     "metadata": {},
     "output_type": "execute_result"
    }
   ],
   "source": [
    "df1.T"
   ]
  },
  {
   "cell_type": "markdown",
   "id": "pressed-chancellor",
   "metadata": {},
   "source": [
    "###### Sort types"
   ]
  },
  {
   "cell_type": "code",
   "execution_count": 80,
   "id": "rough-lawrence",
   "metadata": {},
   "outputs": [
    {
     "data": {
      "text/html": [
       "<div>\n",
       "<style scoped>\n",
       "    .dataframe tbody tr th:only-of-type {\n",
       "        vertical-align: middle;\n",
       "    }\n",
       "\n",
       "    .dataframe tbody tr th {\n",
       "        vertical-align: top;\n",
       "    }\n",
       "\n",
       "    .dataframe thead th {\n",
       "        text-align: right;\n",
       "    }\n",
       "</style>\n",
       "<table border=\"1\" class=\"dataframe\">\n",
       "  <thead>\n",
       "    <tr style=\"text-align: right;\">\n",
       "      <th></th>\n",
       "      <th>D</th>\n",
       "      <th>C</th>\n",
       "      <th>B</th>\n",
       "      <th>A</th>\n",
       "    </tr>\n",
       "  </thead>\n",
       "  <tbody>\n",
       "    <tr>\n",
       "      <th>2013-01-01</th>\n",
       "      <td>0.456858</td>\n",
       "      <td>0.809233</td>\n",
       "      <td>0.021391</td>\n",
       "      <td>0.723503</td>\n",
       "    </tr>\n",
       "    <tr>\n",
       "      <th>2013-01-02</th>\n",
       "      <td>0.527121</td>\n",
       "      <td>0.101274</td>\n",
       "      <td>0.332598</td>\n",
       "      <td>0.371103</td>\n",
       "    </tr>\n",
       "    <tr>\n",
       "      <th>2013-01-03</th>\n",
       "      <td>0.104243</td>\n",
       "      <td>0.399281</td>\n",
       "      <td>0.885376</td>\n",
       "      <td>0.853208</td>\n",
       "    </tr>\n",
       "    <tr>\n",
       "      <th>2013-01-04</th>\n",
       "      <td>0.508568</td>\n",
       "      <td>0.608275</td>\n",
       "      <td>0.678397</td>\n",
       "      <td>0.115003</td>\n",
       "    </tr>\n",
       "    <tr>\n",
       "      <th>2013-01-05</th>\n",
       "      <td>0.870510</td>\n",
       "      <td>0.208562</td>\n",
       "      <td>0.335116</td>\n",
       "      <td>0.765152</td>\n",
       "    </tr>\n",
       "    <tr>\n",
       "      <th>2013-01-06</th>\n",
       "      <td>0.081245</td>\n",
       "      <td>0.874528</td>\n",
       "      <td>0.806757</td>\n",
       "      <td>0.904287</td>\n",
       "    </tr>\n",
       "    <tr>\n",
       "      <th>2013-01-07</th>\n",
       "      <td>0.968643</td>\n",
       "      <td>0.676516</td>\n",
       "      <td>0.910296</td>\n",
       "      <td>0.504531</td>\n",
       "    </tr>\n",
       "  </tbody>\n",
       "</table>\n",
       "</div>"
      ],
      "text/plain": [
       "                   D         C         B         A\n",
       "2013-01-01  0.456858  0.809233  0.021391  0.723503\n",
       "2013-01-02  0.527121  0.101274  0.332598  0.371103\n",
       "2013-01-03  0.104243  0.399281  0.885376  0.853208\n",
       "2013-01-04  0.508568  0.608275  0.678397  0.115003\n",
       "2013-01-05  0.870510  0.208562  0.335116  0.765152\n",
       "2013-01-06  0.081245  0.874528  0.806757  0.904287\n",
       "2013-01-07  0.968643  0.676516  0.910296  0.504531"
      ]
     },
     "execution_count": 80,
     "metadata": {},
     "output_type": "execute_result"
    }
   ],
   "source": [
    "df1.sort_index(axis=1, ascending =False)"
   ]
  },
  {
   "cell_type": "code",
   "execution_count": 82,
   "id": "electric-luther",
   "metadata": {},
   "outputs": [
    {
     "data": {
      "text/html": [
       "<div>\n",
       "<style scoped>\n",
       "    .dataframe tbody tr th:only-of-type {\n",
       "        vertical-align: middle;\n",
       "    }\n",
       "\n",
       "    .dataframe tbody tr th {\n",
       "        vertical-align: top;\n",
       "    }\n",
       "\n",
       "    .dataframe thead th {\n",
       "        text-align: right;\n",
       "    }\n",
       "</style>\n",
       "<table border=\"1\" class=\"dataframe\">\n",
       "  <thead>\n",
       "    <tr style=\"text-align: right;\">\n",
       "      <th></th>\n",
       "      <th>A</th>\n",
       "      <th>B</th>\n",
       "      <th>C</th>\n",
       "      <th>D</th>\n",
       "    </tr>\n",
       "  </thead>\n",
       "  <tbody>\n",
       "    <tr>\n",
       "      <th>2013-01-01</th>\n",
       "      <td>0.723503</td>\n",
       "      <td>0.021391</td>\n",
       "      <td>0.809233</td>\n",
       "      <td>0.456858</td>\n",
       "    </tr>\n",
       "    <tr>\n",
       "      <th>2013-01-02</th>\n",
       "      <td>0.371103</td>\n",
       "      <td>0.332598</td>\n",
       "      <td>0.101274</td>\n",
       "      <td>0.527121</td>\n",
       "    </tr>\n",
       "    <tr>\n",
       "      <th>2013-01-05</th>\n",
       "      <td>0.765152</td>\n",
       "      <td>0.335116</td>\n",
       "      <td>0.208562</td>\n",
       "      <td>0.870510</td>\n",
       "    </tr>\n",
       "    <tr>\n",
       "      <th>2013-01-04</th>\n",
       "      <td>0.115003</td>\n",
       "      <td>0.678397</td>\n",
       "      <td>0.608275</td>\n",
       "      <td>0.508568</td>\n",
       "    </tr>\n",
       "    <tr>\n",
       "      <th>2013-01-06</th>\n",
       "      <td>0.904287</td>\n",
       "      <td>0.806757</td>\n",
       "      <td>0.874528</td>\n",
       "      <td>0.081245</td>\n",
       "    </tr>\n",
       "    <tr>\n",
       "      <th>2013-01-03</th>\n",
       "      <td>0.853208</td>\n",
       "      <td>0.885376</td>\n",
       "      <td>0.399281</td>\n",
       "      <td>0.104243</td>\n",
       "    </tr>\n",
       "    <tr>\n",
       "      <th>2013-01-07</th>\n",
       "      <td>0.504531</td>\n",
       "      <td>0.910296</td>\n",
       "      <td>0.676516</td>\n",
       "      <td>0.968643</td>\n",
       "    </tr>\n",
       "  </tbody>\n",
       "</table>\n",
       "</div>"
      ],
      "text/plain": [
       "                   A         B         C         D\n",
       "2013-01-01  0.723503  0.021391  0.809233  0.456858\n",
       "2013-01-02  0.371103  0.332598  0.101274  0.527121\n",
       "2013-01-05  0.765152  0.335116  0.208562  0.870510\n",
       "2013-01-04  0.115003  0.678397  0.608275  0.508568\n",
       "2013-01-06  0.904287  0.806757  0.874528  0.081245\n",
       "2013-01-03  0.853208  0.885376  0.399281  0.104243\n",
       "2013-01-07  0.504531  0.910296  0.676516  0.968643"
      ]
     },
     "execution_count": 82,
     "metadata": {},
     "output_type": "execute_result"
    }
   ],
   "source": [
    "df1.sort_values(by=\"B\")"
   ]
  },
  {
   "cell_type": "markdown",
   "id": "fatal-wallpaper",
   "metadata": {},
   "source": [
    "###### Collecting data from a column"
   ]
  },
  {
   "cell_type": "code",
   "execution_count": 84,
   "id": "ordinary-circulation",
   "metadata": {},
   "outputs": [
    {
     "data": {
      "text/plain": [
       "2013-01-01    0.723503\n",
       "2013-01-02    0.371103\n",
       "2013-01-03    0.853208\n",
       "2013-01-04    0.115003\n",
       "2013-01-05    0.765152\n",
       "2013-01-06    0.904287\n",
       "2013-01-07    0.504531\n",
       "Freq: D, Name: A, dtype: float64"
      ]
     },
     "execution_count": 84,
     "metadata": {},
     "output_type": "execute_result"
    }
   ],
   "source": [
    "df1[\"A\"]"
   ]
  },
  {
   "cell_type": "markdown",
   "id": "opponent-avenue",
   "metadata": {},
   "source": [
    "###### Using the columd data command with describe allows you to select asingle column for descriptive stats."
   ]
  },
  {
   "cell_type": "code",
   "execution_count": 90,
   "id": "logical-cleveland",
   "metadata": {},
   "outputs": [
    {
     "data": {
      "text/plain": [
       "count    7.000000\n",
       "mean     0.605255\n",
       "std      0.287451\n",
       "min      0.115003\n",
       "25%      0.437817\n",
       "50%      0.723503\n",
       "75%      0.809180\n",
       "max      0.904287\n",
       "Name: A, dtype: float64"
      ]
     },
     "execution_count": 90,
     "metadata": {},
     "output_type": "execute_result"
    }
   ],
   "source": [
    "df1[\"A\"].describe()"
   ]
  },
  {
   "cell_type": "markdown",
   "id": "polar-governor",
   "metadata": {},
   "source": [
    "###### Taking slices by line and by date"
   ]
  },
  {
   "cell_type": "code",
   "execution_count": 91,
   "id": "proud-batman",
   "metadata": {},
   "outputs": [
    {
     "data": {
      "text/html": [
       "<div>\n",
       "<style scoped>\n",
       "    .dataframe tbody tr th:only-of-type {\n",
       "        vertical-align: middle;\n",
       "    }\n",
       "\n",
       "    .dataframe tbody tr th {\n",
       "        vertical-align: top;\n",
       "    }\n",
       "\n",
       "    .dataframe thead th {\n",
       "        text-align: right;\n",
       "    }\n",
       "</style>\n",
       "<table border=\"1\" class=\"dataframe\">\n",
       "  <thead>\n",
       "    <tr style=\"text-align: right;\">\n",
       "      <th></th>\n",
       "      <th>A</th>\n",
       "      <th>B</th>\n",
       "      <th>C</th>\n",
       "      <th>D</th>\n",
       "    </tr>\n",
       "  </thead>\n",
       "  <tbody>\n",
       "    <tr>\n",
       "      <th>2013-01-02</th>\n",
       "      <td>0.371103</td>\n",
       "      <td>0.332598</td>\n",
       "      <td>0.101274</td>\n",
       "      <td>0.527121</td>\n",
       "    </tr>\n",
       "    <tr>\n",
       "      <th>2013-01-03</th>\n",
       "      <td>0.853208</td>\n",
       "      <td>0.885376</td>\n",
       "      <td>0.399281</td>\n",
       "      <td>0.104243</td>\n",
       "    </tr>\n",
       "  </tbody>\n",
       "</table>\n",
       "</div>"
      ],
      "text/plain": [
       "                   A         B         C         D\n",
       "2013-01-02  0.371103  0.332598  0.101274  0.527121\n",
       "2013-01-03  0.853208  0.885376  0.399281  0.104243"
      ]
     },
     "execution_count": 91,
     "metadata": {},
     "output_type": "execute_result"
    }
   ],
   "source": [
    "df1[1:3]"
   ]
  },
  {
   "cell_type": "code",
   "execution_count": 93,
   "id": "contrary-bearing",
   "metadata": {},
   "outputs": [
    {
     "data": {
      "text/html": [
       "<div>\n",
       "<style scoped>\n",
       "    .dataframe tbody tr th:only-of-type {\n",
       "        vertical-align: middle;\n",
       "    }\n",
       "\n",
       "    .dataframe tbody tr th {\n",
       "        vertical-align: top;\n",
       "    }\n",
       "\n",
       "    .dataframe thead th {\n",
       "        text-align: right;\n",
       "    }\n",
       "</style>\n",
       "<table border=\"1\" class=\"dataframe\">\n",
       "  <thead>\n",
       "    <tr style=\"text-align: right;\">\n",
       "      <th></th>\n",
       "      <th>A</th>\n",
       "      <th>B</th>\n",
       "      <th>C</th>\n",
       "      <th>D</th>\n",
       "    </tr>\n",
       "  </thead>\n",
       "  <tbody>\n",
       "    <tr>\n",
       "      <th>2013-01-05</th>\n",
       "      <td>0.765152</td>\n",
       "      <td>0.335116</td>\n",
       "      <td>0.208562</td>\n",
       "      <td>0.870510</td>\n",
       "    </tr>\n",
       "    <tr>\n",
       "      <th>2013-01-06</th>\n",
       "      <td>0.904287</td>\n",
       "      <td>0.806757</td>\n",
       "      <td>0.874528</td>\n",
       "      <td>0.081245</td>\n",
       "    </tr>\n",
       "  </tbody>\n",
       "</table>\n",
       "</div>"
      ],
      "text/plain": [
       "                   A         B         C         D\n",
       "2013-01-05  0.765152  0.335116  0.208562  0.870510\n",
       "2013-01-06  0.904287  0.806757  0.874528  0.081245"
      ]
     },
     "execution_count": 93,
     "metadata": {},
     "output_type": "execute_result"
    }
   ],
   "source": [
    "df1[\"20130105\":\"20130106\"]"
   ]
  },
  {
   "cell_type": "markdown",
   "id": "international-address",
   "metadata": {},
   "source": [
    "###### taking a slice or slices"
   ]
  },
  {
   "cell_type": "code",
   "execution_count": 96,
   "id": "provincial-clarity",
   "metadata": {},
   "outputs": [
    {
     "data": {
      "text/html": [
       "<div>\n",
       "<style scoped>\n",
       "    .dataframe tbody tr th:only-of-type {\n",
       "        vertical-align: middle;\n",
       "    }\n",
       "\n",
       "    .dataframe tbody tr th {\n",
       "        vertical-align: top;\n",
       "    }\n",
       "\n",
       "    .dataframe thead th {\n",
       "        text-align: right;\n",
       "    }\n",
       "</style>\n",
       "<table border=\"1\" class=\"dataframe\">\n",
       "  <thead>\n",
       "    <tr style=\"text-align: right;\">\n",
       "      <th></th>\n",
       "      <th>A</th>\n",
       "      <th>B</th>\n",
       "      <th>C</th>\n",
       "      <th>D</th>\n",
       "    </tr>\n",
       "  </thead>\n",
       "  <tbody>\n",
       "    <tr>\n",
       "      <th>2013-01-01</th>\n",
       "      <td>0.723503</td>\n",
       "      <td>0.021391</td>\n",
       "      <td>0.809233</td>\n",
       "      <td>0.456858</td>\n",
       "    </tr>\n",
       "    <tr>\n",
       "      <th>2013-01-02</th>\n",
       "      <td>0.371103</td>\n",
       "      <td>0.332598</td>\n",
       "      <td>0.101274</td>\n",
       "      <td>0.527121</td>\n",
       "    </tr>\n",
       "    <tr>\n",
       "      <th>2013-01-03</th>\n",
       "      <td>0.853208</td>\n",
       "      <td>0.885376</td>\n",
       "      <td>0.399281</td>\n",
       "      <td>0.104243</td>\n",
       "    </tr>\n",
       "    <tr>\n",
       "      <th>2013-01-04</th>\n",
       "      <td>0.115003</td>\n",
       "      <td>0.678397</td>\n",
       "      <td>0.608275</td>\n",
       "      <td>0.508568</td>\n",
       "    </tr>\n",
       "    <tr>\n",
       "      <th>2013-01-05</th>\n",
       "      <td>0.765152</td>\n",
       "      <td>0.335116</td>\n",
       "      <td>0.208562</td>\n",
       "      <td>0.870510</td>\n",
       "    </tr>\n",
       "    <tr>\n",
       "      <th>2013-01-06</th>\n",
       "      <td>0.904287</td>\n",
       "      <td>0.806757</td>\n",
       "      <td>0.874528</td>\n",
       "      <td>0.081245</td>\n",
       "    </tr>\n",
       "    <tr>\n",
       "      <th>2013-01-07</th>\n",
       "      <td>0.504531</td>\n",
       "      <td>0.910296</td>\n",
       "      <td>0.676516</td>\n",
       "      <td>0.968643</td>\n",
       "    </tr>\n",
       "  </tbody>\n",
       "</table>\n",
       "</div>"
      ],
      "text/plain": [
       "                   A         B         C         D\n",
       "2013-01-01  0.723503  0.021391  0.809233  0.456858\n",
       "2013-01-02  0.371103  0.332598  0.101274  0.527121\n",
       "2013-01-03  0.853208  0.885376  0.399281  0.104243\n",
       "2013-01-04  0.115003  0.678397  0.608275  0.508568\n",
       "2013-01-05  0.765152  0.335116  0.208562  0.870510\n",
       "2013-01-06  0.904287  0.806757  0.874528  0.081245\n",
       "2013-01-07  0.504531  0.910296  0.676516  0.968643"
      ]
     },
     "execution_count": 96,
     "metadata": {},
     "output_type": "execute_result"
    }
   ],
   "source": [
    "df1"
   ]
  },
  {
   "cell_type": "code",
   "execution_count": 95,
   "id": "capital-sussex",
   "metadata": {},
   "outputs": [
    {
     "data": {
      "text/plain": [
       "A    0.723503\n",
       "B    0.021391\n",
       "C    0.809233\n",
       "D    0.456858\n",
       "Name: 2013-01-01 00:00:00, dtype: float64"
      ]
     },
     "execution_count": 95,
     "metadata": {},
     "output_type": "execute_result"
    }
   ],
   "source": [
    "df1.loc[dates[0]]"
   ]
  },
  {
   "cell_type": "code",
   "execution_count": 103,
   "id": "scenic-liverpool",
   "metadata": {},
   "outputs": [
    {
     "data": {
      "text/plain": [
       "A    0.115003\n",
       "B    0.678397\n",
       "C    0.608275\n",
       "D    0.508568\n",
       "Name: 2013-01-04 00:00:00, dtype: float64"
      ]
     },
     "execution_count": 103,
     "metadata": {},
     "output_type": "execute_result"
    }
   ],
   "source": [
    "df1.loc[dates[3]]"
   ]
  },
  {
   "cell_type": "code",
   "execution_count": 101,
   "id": "stock-wallpaper",
   "metadata": {},
   "outputs": [
    {
     "data": {
      "text/html": [
       "<div>\n",
       "<style scoped>\n",
       "    .dataframe tbody tr th:only-of-type {\n",
       "        vertical-align: middle;\n",
       "    }\n",
       "\n",
       "    .dataframe tbody tr th {\n",
       "        vertical-align: top;\n",
       "    }\n",
       "\n",
       "    .dataframe thead th {\n",
       "        text-align: right;\n",
       "    }\n",
       "</style>\n",
       "<table border=\"1\" class=\"dataframe\">\n",
       "  <thead>\n",
       "    <tr style=\"text-align: right;\">\n",
       "      <th></th>\n",
       "      <th>A</th>\n",
       "      <th>C</th>\n",
       "    </tr>\n",
       "  </thead>\n",
       "  <tbody>\n",
       "    <tr>\n",
       "      <th>2013-01-01</th>\n",
       "      <td>0.723503</td>\n",
       "      <td>0.809233</td>\n",
       "    </tr>\n",
       "    <tr>\n",
       "      <th>2013-01-02</th>\n",
       "      <td>0.371103</td>\n",
       "      <td>0.101274</td>\n",
       "    </tr>\n",
       "    <tr>\n",
       "      <th>2013-01-03</th>\n",
       "      <td>0.853208</td>\n",
       "      <td>0.399281</td>\n",
       "    </tr>\n",
       "    <tr>\n",
       "      <th>2013-01-04</th>\n",
       "      <td>0.115003</td>\n",
       "      <td>0.608275</td>\n",
       "    </tr>\n",
       "    <tr>\n",
       "      <th>2013-01-05</th>\n",
       "      <td>0.765152</td>\n",
       "      <td>0.208562</td>\n",
       "    </tr>\n",
       "    <tr>\n",
       "      <th>2013-01-06</th>\n",
       "      <td>0.904287</td>\n",
       "      <td>0.874528</td>\n",
       "    </tr>\n",
       "    <tr>\n",
       "      <th>2013-01-07</th>\n",
       "      <td>0.504531</td>\n",
       "      <td>0.676516</td>\n",
       "    </tr>\n",
       "  </tbody>\n",
       "</table>\n",
       "</div>"
      ],
      "text/plain": [
       "                   A         C\n",
       "2013-01-01  0.723503  0.809233\n",
       "2013-01-02  0.371103  0.101274\n",
       "2013-01-03  0.853208  0.399281\n",
       "2013-01-04  0.115003  0.608275\n",
       "2013-01-05  0.765152  0.208562\n",
       "2013-01-06  0.904287  0.874528\n",
       "2013-01-07  0.504531  0.676516"
      ]
     },
     "execution_count": 101,
     "metadata": {},
     "output_type": "execute_result"
    }
   ],
   "source": [
    "df1.loc[:,[\"A\",\"C\"]]"
   ]
  },
  {
   "cell_type": "code",
   "execution_count": 105,
   "id": "going-garage",
   "metadata": {},
   "outputs": [
    {
     "data": {
      "text/plain": [
       "A    0.504531\n",
       "C    0.676516\n",
       "Name: 2013-01-07 00:00:00, dtype: float64"
      ]
     },
     "execution_count": 105,
     "metadata": {},
     "output_type": "execute_result"
    }
   ],
   "source": [
    "df1.loc[\"20130107\", [\"A\", \"C\"]]"
   ]
  },
  {
   "cell_type": "code",
   "execution_count": 106,
   "id": "matched-netherlands",
   "metadata": {},
   "outputs": [
    {
     "data": {
      "text/plain": [
       "0.7235030490459686"
      ]
     },
     "execution_count": 106,
     "metadata": {},
     "output_type": "execute_result"
    }
   ],
   "source": [
    "df1.loc[dates[0], \"A\"]"
   ]
  },
  {
   "cell_type": "code",
   "execution_count": 107,
   "id": "amazing-scotland",
   "metadata": {},
   "outputs": [
    {
     "data": {
      "text/html": [
       "<div>\n",
       "<style scoped>\n",
       "    .dataframe tbody tr th:only-of-type {\n",
       "        vertical-align: middle;\n",
       "    }\n",
       "\n",
       "    .dataframe tbody tr th {\n",
       "        vertical-align: top;\n",
       "    }\n",
       "\n",
       "    .dataframe thead th {\n",
       "        text-align: right;\n",
       "    }\n",
       "</style>\n",
       "<table border=\"1\" class=\"dataframe\">\n",
       "  <thead>\n",
       "    <tr style=\"text-align: right;\">\n",
       "      <th></th>\n",
       "      <th>A</th>\n",
       "      <th>B</th>\n",
       "      <th>C</th>\n",
       "      <th>D</th>\n",
       "    </tr>\n",
       "  </thead>\n",
       "  <tbody>\n",
       "    <tr>\n",
       "      <th>2013-01-01</th>\n",
       "      <td>0.723503</td>\n",
       "      <td>0.021391</td>\n",
       "      <td>0.809233</td>\n",
       "      <td>0.456858</td>\n",
       "    </tr>\n",
       "    <tr>\n",
       "      <th>2013-01-02</th>\n",
       "      <td>0.371103</td>\n",
       "      <td>0.332598</td>\n",
       "      <td>0.101274</td>\n",
       "      <td>0.527121</td>\n",
       "    </tr>\n",
       "    <tr>\n",
       "      <th>2013-01-03</th>\n",
       "      <td>0.853208</td>\n",
       "      <td>0.885376</td>\n",
       "      <td>0.399281</td>\n",
       "      <td>0.104243</td>\n",
       "    </tr>\n",
       "    <tr>\n",
       "      <th>2013-01-04</th>\n",
       "      <td>0.115003</td>\n",
       "      <td>0.678397</td>\n",
       "      <td>0.608275</td>\n",
       "      <td>0.508568</td>\n",
       "    </tr>\n",
       "    <tr>\n",
       "      <th>2013-01-05</th>\n",
       "      <td>0.765152</td>\n",
       "      <td>0.335116</td>\n",
       "      <td>0.208562</td>\n",
       "      <td>0.870510</td>\n",
       "    </tr>\n",
       "    <tr>\n",
       "      <th>2013-01-06</th>\n",
       "      <td>0.904287</td>\n",
       "      <td>0.806757</td>\n",
       "      <td>0.874528</td>\n",
       "      <td>0.081245</td>\n",
       "    </tr>\n",
       "    <tr>\n",
       "      <th>2013-01-07</th>\n",
       "      <td>0.504531</td>\n",
       "      <td>0.910296</td>\n",
       "      <td>0.676516</td>\n",
       "      <td>0.968643</td>\n",
       "    </tr>\n",
       "  </tbody>\n",
       "</table>\n",
       "</div>"
      ],
      "text/plain": [
       "                   A         B         C         D\n",
       "2013-01-01  0.723503  0.021391  0.809233  0.456858\n",
       "2013-01-02  0.371103  0.332598  0.101274  0.527121\n",
       "2013-01-03  0.853208  0.885376  0.399281  0.104243\n",
       "2013-01-04  0.115003  0.678397  0.608275  0.508568\n",
       "2013-01-05  0.765152  0.335116  0.208562  0.870510\n",
       "2013-01-06  0.904287  0.806757  0.874528  0.081245\n",
       "2013-01-07  0.504531  0.910296  0.676516  0.968643"
      ]
     },
     "execution_count": 107,
     "metadata": {},
     "output_type": "execute_result"
    }
   ],
   "source": [
    "df1"
   ]
  },
  {
   "cell_type": "code",
   "execution_count": null,
   "id": "abandoned-restoration",
   "metadata": {},
   "outputs": [],
   "source": [
    "###### selection by position"
   ]
  },
  {
   "cell_type": "code",
   "execution_count": 108,
   "id": "australian-regular",
   "metadata": {},
   "outputs": [
    {
     "data": {
      "text/plain": [
       "A    0.765152\n",
       "B    0.335116\n",
       "C    0.208562\n",
       "D    0.870510\n",
       "Name: 2013-01-05 00:00:00, dtype: float64"
      ]
     },
     "execution_count": 108,
     "metadata": {},
     "output_type": "execute_result"
    }
   ],
   "source": [
    "df1.iloc[4]"
   ]
  },
  {
   "cell_type": "code",
   "execution_count": 110,
   "id": "sized-criticism",
   "metadata": {},
   "outputs": [
    {
     "data": {
      "text/html": [
       "<div>\n",
       "<style scoped>\n",
       "    .dataframe tbody tr th:only-of-type {\n",
       "        vertical-align: middle;\n",
       "    }\n",
       "\n",
       "    .dataframe tbody tr th {\n",
       "        vertical-align: top;\n",
       "    }\n",
       "\n",
       "    .dataframe thead th {\n",
       "        text-align: right;\n",
       "    }\n",
       "</style>\n",
       "<table border=\"1\" class=\"dataframe\">\n",
       "  <thead>\n",
       "    <tr style=\"text-align: right;\">\n",
       "      <th></th>\n",
       "      <th>A</th>\n",
       "      <th>B</th>\n",
       "    </tr>\n",
       "  </thead>\n",
       "  <tbody>\n",
       "    <tr>\n",
       "      <th>2013-01-04</th>\n",
       "      <td>0.115003</td>\n",
       "      <td>0.678397</td>\n",
       "    </tr>\n",
       "    <tr>\n",
       "      <th>2013-01-05</th>\n",
       "      <td>0.765152</td>\n",
       "      <td>0.335116</td>\n",
       "    </tr>\n",
       "  </tbody>\n",
       "</table>\n",
       "</div>"
      ],
      "text/plain": [
       "                   A         B\n",
       "2013-01-04  0.115003  0.678397\n",
       "2013-01-05  0.765152  0.335116"
      ]
     },
     "execution_count": 110,
     "metadata": {},
     "output_type": "execute_result"
    }
   ],
   "source": [
    "df1.iloc[3:5, 0:2]"
   ]
  },
  {
   "cell_type": "markdown",
   "id": "white-recipe",
   "metadata": {},
   "source": [
    "###### rows and positions"
   ]
  },
  {
   "cell_type": "code",
   "execution_count": 111,
   "id": "collaborative-venezuela",
   "metadata": {},
   "outputs": [
    {
     "data": {
      "text/html": [
       "<div>\n",
       "<style scoped>\n",
       "    .dataframe tbody tr th:only-of-type {\n",
       "        vertical-align: middle;\n",
       "    }\n",
       "\n",
       "    .dataframe tbody tr th {\n",
       "        vertical-align: top;\n",
       "    }\n",
       "\n",
       "    .dataframe thead th {\n",
       "        text-align: right;\n",
       "    }\n",
       "</style>\n",
       "<table border=\"1\" class=\"dataframe\">\n",
       "  <thead>\n",
       "    <tr style=\"text-align: right;\">\n",
       "      <th></th>\n",
       "      <th>A</th>\n",
       "      <th>C</th>\n",
       "    </tr>\n",
       "  </thead>\n",
       "  <tbody>\n",
       "    <tr>\n",
       "      <th>2013-01-02</th>\n",
       "      <td>0.371103</td>\n",
       "      <td>0.101274</td>\n",
       "    </tr>\n",
       "    <tr>\n",
       "      <th>2013-01-03</th>\n",
       "      <td>0.853208</td>\n",
       "      <td>0.399281</td>\n",
       "    </tr>\n",
       "    <tr>\n",
       "      <th>2013-01-05</th>\n",
       "      <td>0.765152</td>\n",
       "      <td>0.208562</td>\n",
       "    </tr>\n",
       "  </tbody>\n",
       "</table>\n",
       "</div>"
      ],
      "text/plain": [
       "                   A         C\n",
       "2013-01-02  0.371103  0.101274\n",
       "2013-01-03  0.853208  0.399281\n",
       "2013-01-05  0.765152  0.208562"
      ]
     },
     "execution_count": 111,
     "metadata": {},
     "output_type": "execute_result"
    }
   ],
   "source": [
    "df1.iloc[[1, 2, 4], [0, 2]]"
   ]
  },
  {
   "cell_type": "markdown",
   "id": "square-preserve",
   "metadata": {},
   "source": [
    "###### slicing rows"
   ]
  },
  {
   "cell_type": "code",
   "execution_count": 113,
   "id": "ceramic-lyric",
   "metadata": {},
   "outputs": [
    {
     "data": {
      "text/html": [
       "<div>\n",
       "<style scoped>\n",
       "    .dataframe tbody tr th:only-of-type {\n",
       "        vertical-align: middle;\n",
       "    }\n",
       "\n",
       "    .dataframe tbody tr th {\n",
       "        vertical-align: top;\n",
       "    }\n",
       "\n",
       "    .dataframe thead th {\n",
       "        text-align: right;\n",
       "    }\n",
       "</style>\n",
       "<table border=\"1\" class=\"dataframe\">\n",
       "  <thead>\n",
       "    <tr style=\"text-align: right;\">\n",
       "      <th></th>\n",
       "      <th>A</th>\n",
       "      <th>B</th>\n",
       "      <th>C</th>\n",
       "      <th>D</th>\n",
       "    </tr>\n",
       "  </thead>\n",
       "  <tbody>\n",
       "    <tr>\n",
       "      <th>2013-01-02</th>\n",
       "      <td>0.371103</td>\n",
       "      <td>0.332598</td>\n",
       "      <td>0.101274</td>\n",
       "      <td>0.527121</td>\n",
       "    </tr>\n",
       "    <tr>\n",
       "      <th>2013-01-03</th>\n",
       "      <td>0.853208</td>\n",
       "      <td>0.885376</td>\n",
       "      <td>0.399281</td>\n",
       "      <td>0.104243</td>\n",
       "    </tr>\n",
       "  </tbody>\n",
       "</table>\n",
       "</div>"
      ],
      "text/plain": [
       "                   A         B         C         D\n",
       "2013-01-02  0.371103  0.332598  0.101274  0.527121\n",
       "2013-01-03  0.853208  0.885376  0.399281  0.104243"
      ]
     },
     "execution_count": 113,
     "metadata": {},
     "output_type": "execute_result"
    }
   ],
   "source": [
    "df1.iloc[1:3, :]"
   ]
  },
  {
   "cell_type": "markdown",
   "id": "italian-stability",
   "metadata": {},
   "source": [
    "###### Slicing columns"
   ]
  },
  {
   "cell_type": "code",
   "execution_count": 114,
   "id": "excessive-active",
   "metadata": {},
   "outputs": [
    {
     "data": {
      "text/html": [
       "<div>\n",
       "<style scoped>\n",
       "    .dataframe tbody tr th:only-of-type {\n",
       "        vertical-align: middle;\n",
       "    }\n",
       "\n",
       "    .dataframe tbody tr th {\n",
       "        vertical-align: top;\n",
       "    }\n",
       "\n",
       "    .dataframe thead th {\n",
       "        text-align: right;\n",
       "    }\n",
       "</style>\n",
       "<table border=\"1\" class=\"dataframe\">\n",
       "  <thead>\n",
       "    <tr style=\"text-align: right;\">\n",
       "      <th></th>\n",
       "      <th>B</th>\n",
       "      <th>C</th>\n",
       "    </tr>\n",
       "  </thead>\n",
       "  <tbody>\n",
       "    <tr>\n",
       "      <th>2013-01-01</th>\n",
       "      <td>0.021391</td>\n",
       "      <td>0.809233</td>\n",
       "    </tr>\n",
       "    <tr>\n",
       "      <th>2013-01-02</th>\n",
       "      <td>0.332598</td>\n",
       "      <td>0.101274</td>\n",
       "    </tr>\n",
       "    <tr>\n",
       "      <th>2013-01-03</th>\n",
       "      <td>0.885376</td>\n",
       "      <td>0.399281</td>\n",
       "    </tr>\n",
       "    <tr>\n",
       "      <th>2013-01-04</th>\n",
       "      <td>0.678397</td>\n",
       "      <td>0.608275</td>\n",
       "    </tr>\n",
       "    <tr>\n",
       "      <th>2013-01-05</th>\n",
       "      <td>0.335116</td>\n",
       "      <td>0.208562</td>\n",
       "    </tr>\n",
       "    <tr>\n",
       "      <th>2013-01-06</th>\n",
       "      <td>0.806757</td>\n",
       "      <td>0.874528</td>\n",
       "    </tr>\n",
       "    <tr>\n",
       "      <th>2013-01-07</th>\n",
       "      <td>0.910296</td>\n",
       "      <td>0.676516</td>\n",
       "    </tr>\n",
       "  </tbody>\n",
       "</table>\n",
       "</div>"
      ],
      "text/plain": [
       "                   B         C\n",
       "2013-01-01  0.021391  0.809233\n",
       "2013-01-02  0.332598  0.101274\n",
       "2013-01-03  0.885376  0.399281\n",
       "2013-01-04  0.678397  0.608275\n",
       "2013-01-05  0.335116  0.208562\n",
       "2013-01-06  0.806757  0.874528\n",
       "2013-01-07  0.910296  0.676516"
      ]
     },
     "execution_count": 114,
     "metadata": {},
     "output_type": "execute_result"
    }
   ],
   "source": [
    "df1.iloc[:, 1:3]"
   ]
  },
  {
   "cell_type": "markdown",
   "id": "copyrighted-homeless",
   "metadata": {},
   "source": [
    "###### Explicit position"
   ]
  },
  {
   "cell_type": "code",
   "execution_count": 116,
   "id": "smooth-wholesale",
   "metadata": {},
   "outputs": [
    {
     "data": {
      "text/plain": [
       "0.33259776711107636"
      ]
     },
     "execution_count": 116,
     "metadata": {},
     "output_type": "execute_result"
    }
   ],
   "source": [
    "df1.iloc[1, 1]"
   ]
  },
  {
   "cell_type": "markdown",
   "id": "fifty-contributor",
   "metadata": {},
   "source": [
    "###### Boolean indexing"
   ]
  },
  {
   "cell_type": "markdown",
   "id": "level-fence",
   "metadata": {},
   "source": [
    "###### Select all data rows that has a column a value above 0.6"
   ]
  },
  {
   "cell_type": "code",
   "execution_count": 118,
   "id": "absent-absolute",
   "metadata": {},
   "outputs": [
    {
     "data": {
      "text/html": [
       "<div>\n",
       "<style scoped>\n",
       "    .dataframe tbody tr th:only-of-type {\n",
       "        vertical-align: middle;\n",
       "    }\n",
       "\n",
       "    .dataframe tbody tr th {\n",
       "        vertical-align: top;\n",
       "    }\n",
       "\n",
       "    .dataframe thead th {\n",
       "        text-align: right;\n",
       "    }\n",
       "</style>\n",
       "<table border=\"1\" class=\"dataframe\">\n",
       "  <thead>\n",
       "    <tr style=\"text-align: right;\">\n",
       "      <th></th>\n",
       "      <th>A</th>\n",
       "      <th>B</th>\n",
       "      <th>C</th>\n",
       "      <th>D</th>\n",
       "    </tr>\n",
       "  </thead>\n",
       "  <tbody>\n",
       "    <tr>\n",
       "      <th>2013-01-01</th>\n",
       "      <td>0.723503</td>\n",
       "      <td>0.021391</td>\n",
       "      <td>0.809233</td>\n",
       "      <td>0.456858</td>\n",
       "    </tr>\n",
       "    <tr>\n",
       "      <th>2013-01-03</th>\n",
       "      <td>0.853208</td>\n",
       "      <td>0.885376</td>\n",
       "      <td>0.399281</td>\n",
       "      <td>0.104243</td>\n",
       "    </tr>\n",
       "    <tr>\n",
       "      <th>2013-01-05</th>\n",
       "      <td>0.765152</td>\n",
       "      <td>0.335116</td>\n",
       "      <td>0.208562</td>\n",
       "      <td>0.870510</td>\n",
       "    </tr>\n",
       "    <tr>\n",
       "      <th>2013-01-06</th>\n",
       "      <td>0.904287</td>\n",
       "      <td>0.806757</td>\n",
       "      <td>0.874528</td>\n",
       "      <td>0.081245</td>\n",
       "    </tr>\n",
       "  </tbody>\n",
       "</table>\n",
       "</div>"
      ],
      "text/plain": [
       "                   A         B         C         D\n",
       "2013-01-01  0.723503  0.021391  0.809233  0.456858\n",
       "2013-01-03  0.853208  0.885376  0.399281  0.104243\n",
       "2013-01-05  0.765152  0.335116  0.208562  0.870510\n",
       "2013-01-06  0.904287  0.806757  0.874528  0.081245"
      ]
     },
     "execution_count": 118,
     "metadata": {},
     "output_type": "execute_result"
    }
   ],
   "source": [
    "df1[df1[\"A\"] > 0.6]"
   ]
  },
  {
   "cell_type": "markdown",
   "id": "significant-williams",
   "metadata": {},
   "source": [
    "###### selecting only values that are greater than o.6"
   ]
  },
  {
   "cell_type": "code",
   "execution_count": 119,
   "id": "certain-grain",
   "metadata": {},
   "outputs": [
    {
     "data": {
      "text/html": [
       "<div>\n",
       "<style scoped>\n",
       "    .dataframe tbody tr th:only-of-type {\n",
       "        vertical-align: middle;\n",
       "    }\n",
       "\n",
       "    .dataframe tbody tr th {\n",
       "        vertical-align: top;\n",
       "    }\n",
       "\n",
       "    .dataframe thead th {\n",
       "        text-align: right;\n",
       "    }\n",
       "</style>\n",
       "<table border=\"1\" class=\"dataframe\">\n",
       "  <thead>\n",
       "    <tr style=\"text-align: right;\">\n",
       "      <th></th>\n",
       "      <th>A</th>\n",
       "      <th>B</th>\n",
       "      <th>C</th>\n",
       "      <th>D</th>\n",
       "    </tr>\n",
       "  </thead>\n",
       "  <tbody>\n",
       "    <tr>\n",
       "      <th>2013-01-01</th>\n",
       "      <td>0.723503</td>\n",
       "      <td>NaN</td>\n",
       "      <td>0.809233</td>\n",
       "      <td>NaN</td>\n",
       "    </tr>\n",
       "    <tr>\n",
       "      <th>2013-01-02</th>\n",
       "      <td>NaN</td>\n",
       "      <td>NaN</td>\n",
       "      <td>NaN</td>\n",
       "      <td>NaN</td>\n",
       "    </tr>\n",
       "    <tr>\n",
       "      <th>2013-01-03</th>\n",
       "      <td>0.853208</td>\n",
       "      <td>0.885376</td>\n",
       "      <td>NaN</td>\n",
       "      <td>NaN</td>\n",
       "    </tr>\n",
       "    <tr>\n",
       "      <th>2013-01-04</th>\n",
       "      <td>NaN</td>\n",
       "      <td>0.678397</td>\n",
       "      <td>0.608275</td>\n",
       "      <td>NaN</td>\n",
       "    </tr>\n",
       "    <tr>\n",
       "      <th>2013-01-05</th>\n",
       "      <td>0.765152</td>\n",
       "      <td>NaN</td>\n",
       "      <td>NaN</td>\n",
       "      <td>0.870510</td>\n",
       "    </tr>\n",
       "    <tr>\n",
       "      <th>2013-01-06</th>\n",
       "      <td>0.904287</td>\n",
       "      <td>0.806757</td>\n",
       "      <td>0.874528</td>\n",
       "      <td>NaN</td>\n",
       "    </tr>\n",
       "    <tr>\n",
       "      <th>2013-01-07</th>\n",
       "      <td>NaN</td>\n",
       "      <td>0.910296</td>\n",
       "      <td>0.676516</td>\n",
       "      <td>0.968643</td>\n",
       "    </tr>\n",
       "  </tbody>\n",
       "</table>\n",
       "</div>"
      ],
      "text/plain": [
       "                   A         B         C         D\n",
       "2013-01-01  0.723503       NaN  0.809233       NaN\n",
       "2013-01-02       NaN       NaN       NaN       NaN\n",
       "2013-01-03  0.853208  0.885376       NaN       NaN\n",
       "2013-01-04       NaN  0.678397  0.608275       NaN\n",
       "2013-01-05  0.765152       NaN       NaN  0.870510\n",
       "2013-01-06  0.904287  0.806757  0.874528       NaN\n",
       "2013-01-07       NaN  0.910296  0.676516  0.968643"
      ]
     },
     "execution_count": 119,
     "metadata": {},
     "output_type": "execute_result"
    }
   ],
   "source": [
    "df1[df1 > 0.6]"
   ]
  },
  {
   "cell_type": "markdown",
   "id": "mechanical-supplement",
   "metadata": {},
   "source": [
    "###### using the isin method"
   ]
  },
  {
   "cell_type": "code",
   "execution_count": 120,
   "id": "former-generic",
   "metadata": {},
   "outputs": [
    {
     "data": {
      "text/html": [
       "<div>\n",
       "<style scoped>\n",
       "    .dataframe tbody tr th:only-of-type {\n",
       "        vertical-align: middle;\n",
       "    }\n",
       "\n",
       "    .dataframe tbody tr th {\n",
       "        vertical-align: top;\n",
       "    }\n",
       "\n",
       "    .dataframe thead th {\n",
       "        text-align: right;\n",
       "    }\n",
       "</style>\n",
       "<table border=\"1\" class=\"dataframe\">\n",
       "  <thead>\n",
       "    <tr style=\"text-align: right;\">\n",
       "      <th></th>\n",
       "      <th>A</th>\n",
       "      <th>B</th>\n",
       "      <th>C</th>\n",
       "      <th>D</th>\n",
       "    </tr>\n",
       "  </thead>\n",
       "  <tbody>\n",
       "    <tr>\n",
       "      <th>2013-01-01</th>\n",
       "      <td>0.723503</td>\n",
       "      <td>0.021391</td>\n",
       "      <td>0.809233</td>\n",
       "      <td>0.456858</td>\n",
       "    </tr>\n",
       "    <tr>\n",
       "      <th>2013-01-02</th>\n",
       "      <td>0.371103</td>\n",
       "      <td>0.332598</td>\n",
       "      <td>0.101274</td>\n",
       "      <td>0.527121</td>\n",
       "    </tr>\n",
       "    <tr>\n",
       "      <th>2013-01-03</th>\n",
       "      <td>0.853208</td>\n",
       "      <td>0.885376</td>\n",
       "      <td>0.399281</td>\n",
       "      <td>0.104243</td>\n",
       "    </tr>\n",
       "    <tr>\n",
       "      <th>2013-01-04</th>\n",
       "      <td>0.115003</td>\n",
       "      <td>0.678397</td>\n",
       "      <td>0.608275</td>\n",
       "      <td>0.508568</td>\n",
       "    </tr>\n",
       "    <tr>\n",
       "      <th>2013-01-05</th>\n",
       "      <td>0.765152</td>\n",
       "      <td>0.335116</td>\n",
       "      <td>0.208562</td>\n",
       "      <td>0.870510</td>\n",
       "    </tr>\n",
       "    <tr>\n",
       "      <th>2013-01-06</th>\n",
       "      <td>0.904287</td>\n",
       "      <td>0.806757</td>\n",
       "      <td>0.874528</td>\n",
       "      <td>0.081245</td>\n",
       "    </tr>\n",
       "    <tr>\n",
       "      <th>2013-01-07</th>\n",
       "      <td>0.504531</td>\n",
       "      <td>0.910296</td>\n",
       "      <td>0.676516</td>\n",
       "      <td>0.968643</td>\n",
       "    </tr>\n",
       "  </tbody>\n",
       "</table>\n",
       "</div>"
      ],
      "text/plain": [
       "                   A         B         C         D\n",
       "2013-01-01  0.723503  0.021391  0.809233  0.456858\n",
       "2013-01-02  0.371103  0.332598  0.101274  0.527121\n",
       "2013-01-03  0.853208  0.885376  0.399281  0.104243\n",
       "2013-01-04  0.115003  0.678397  0.608275  0.508568\n",
       "2013-01-05  0.765152  0.335116  0.208562  0.870510\n",
       "2013-01-06  0.904287  0.806757  0.874528  0.081245\n",
       "2013-01-07  0.504531  0.910296  0.676516  0.968643"
      ]
     },
     "execution_count": 120,
     "metadata": {},
     "output_type": "execute_result"
    }
   ],
   "source": [
    "df3= df1.copy()\n",
    "df3"
   ]
  },
  {
   "cell_type": "code",
   "execution_count": 125,
   "id": "blessed-edgar",
   "metadata": {},
   "outputs": [
    {
     "data": {
      "text/html": [
       "<div>\n",
       "<style scoped>\n",
       "    .dataframe tbody tr th:only-of-type {\n",
       "        vertical-align: middle;\n",
       "    }\n",
       "\n",
       "    .dataframe tbody tr th {\n",
       "        vertical-align: top;\n",
       "    }\n",
       "\n",
       "    .dataframe thead th {\n",
       "        text-align: right;\n",
       "    }\n",
       "</style>\n",
       "<table border=\"1\" class=\"dataframe\">\n",
       "  <thead>\n",
       "    <tr style=\"text-align: right;\">\n",
       "      <th></th>\n",
       "      <th>A</th>\n",
       "      <th>B</th>\n",
       "      <th>C</th>\n",
       "      <th>D</th>\n",
       "      <th>E</th>\n",
       "    </tr>\n",
       "  </thead>\n",
       "  <tbody>\n",
       "    <tr>\n",
       "      <th>2013-01-01</th>\n",
       "      <td>0.723503</td>\n",
       "      <td>0.021391</td>\n",
       "      <td>0.809233</td>\n",
       "      <td>0.456858</td>\n",
       "      <td>big mac</td>\n",
       "    </tr>\n",
       "    <tr>\n",
       "      <th>2013-01-02</th>\n",
       "      <td>0.371103</td>\n",
       "      <td>0.332598</td>\n",
       "      <td>0.101274</td>\n",
       "      <td>0.527121</td>\n",
       "      <td>big mac</td>\n",
       "    </tr>\n",
       "    <tr>\n",
       "      <th>2013-01-03</th>\n",
       "      <td>0.853208</td>\n",
       "      <td>0.885376</td>\n",
       "      <td>0.399281</td>\n",
       "      <td>0.104243</td>\n",
       "      <td>quaterpounder</td>\n",
       "    </tr>\n",
       "    <tr>\n",
       "      <th>2013-01-04</th>\n",
       "      <td>0.115003</td>\n",
       "      <td>0.678397</td>\n",
       "      <td>0.608275</td>\n",
       "      <td>0.508568</td>\n",
       "      <td>nuggets</td>\n",
       "    </tr>\n",
       "    <tr>\n",
       "      <th>2013-01-05</th>\n",
       "      <td>0.765152</td>\n",
       "      <td>0.335116</td>\n",
       "      <td>0.208562</td>\n",
       "      <td>0.870510</td>\n",
       "      <td>fillet</td>\n",
       "    </tr>\n",
       "    <tr>\n",
       "      <th>2013-01-06</th>\n",
       "      <td>0.904287</td>\n",
       "      <td>0.806757</td>\n",
       "      <td>0.874528</td>\n",
       "      <td>0.081245</td>\n",
       "      <td>fillet</td>\n",
       "    </tr>\n",
       "    <tr>\n",
       "      <th>2013-01-07</th>\n",
       "      <td>0.504531</td>\n",
       "      <td>0.910296</td>\n",
       "      <td>0.676516</td>\n",
       "      <td>0.968643</td>\n",
       "      <td>quaterpounder</td>\n",
       "    </tr>\n",
       "  </tbody>\n",
       "</table>\n",
       "</div>"
      ],
      "text/plain": [
       "                   A         B         C         D              E\n",
       "2013-01-01  0.723503  0.021391  0.809233  0.456858        big mac\n",
       "2013-01-02  0.371103  0.332598  0.101274  0.527121        big mac\n",
       "2013-01-03  0.853208  0.885376  0.399281  0.104243  quaterpounder\n",
       "2013-01-04  0.115003  0.678397  0.608275  0.508568        nuggets\n",
       "2013-01-05  0.765152  0.335116  0.208562  0.870510         fillet\n",
       "2013-01-06  0.904287  0.806757  0.874528  0.081245         fillet\n",
       "2013-01-07  0.504531  0.910296  0.676516  0.968643  quaterpounder"
      ]
     },
     "execution_count": 125,
     "metadata": {},
     "output_type": "execute_result"
    }
   ],
   "source": [
    "df3[\"E\"]=[\"big mac\",\"big mac\",\"quaterpounder\",\"nuggets\",\"fillet\",\"fillet\",\"quaterpounder\"]\n",
    "df3"
   ]
  },
  {
   "cell_type": "code",
   "execution_count": 126,
   "id": "pressed-conditioning",
   "metadata": {},
   "outputs": [
    {
     "data": {
      "text/html": [
       "<div>\n",
       "<style scoped>\n",
       "    .dataframe tbody tr th:only-of-type {\n",
       "        vertical-align: middle;\n",
       "    }\n",
       "\n",
       "    .dataframe tbody tr th {\n",
       "        vertical-align: top;\n",
       "    }\n",
       "\n",
       "    .dataframe thead th {\n",
       "        text-align: right;\n",
       "    }\n",
       "</style>\n",
       "<table border=\"1\" class=\"dataframe\">\n",
       "  <thead>\n",
       "    <tr style=\"text-align: right;\">\n",
       "      <th></th>\n",
       "      <th>A</th>\n",
       "      <th>B</th>\n",
       "      <th>C</th>\n",
       "      <th>D</th>\n",
       "      <th>E</th>\n",
       "    </tr>\n",
       "  </thead>\n",
       "  <tbody>\n",
       "    <tr>\n",
       "      <th>2013-01-01</th>\n",
       "      <td>0.723503</td>\n",
       "      <td>0.021391</td>\n",
       "      <td>0.809233</td>\n",
       "      <td>0.456858</td>\n",
       "      <td>big mac</td>\n",
       "    </tr>\n",
       "    <tr>\n",
       "      <th>2013-01-02</th>\n",
       "      <td>0.371103</td>\n",
       "      <td>0.332598</td>\n",
       "      <td>0.101274</td>\n",
       "      <td>0.527121</td>\n",
       "      <td>big mac</td>\n",
       "    </tr>\n",
       "    <tr>\n",
       "      <th>2013-01-05</th>\n",
       "      <td>0.765152</td>\n",
       "      <td>0.335116</td>\n",
       "      <td>0.208562</td>\n",
       "      <td>0.870510</td>\n",
       "      <td>fillet</td>\n",
       "    </tr>\n",
       "    <tr>\n",
       "      <th>2013-01-06</th>\n",
       "      <td>0.904287</td>\n",
       "      <td>0.806757</td>\n",
       "      <td>0.874528</td>\n",
       "      <td>0.081245</td>\n",
       "      <td>fillet</td>\n",
       "    </tr>\n",
       "  </tbody>\n",
       "</table>\n",
       "</div>"
      ],
      "text/plain": [
       "                   A         B         C         D        E\n",
       "2013-01-01  0.723503  0.021391  0.809233  0.456858  big mac\n",
       "2013-01-02  0.371103  0.332598  0.101274  0.527121  big mac\n",
       "2013-01-05  0.765152  0.335116  0.208562  0.870510   fillet\n",
       "2013-01-06  0.904287  0.806757  0.874528  0.081245   fillet"
      ]
     },
     "execution_count": 126,
     "metadata": {},
     "output_type": "execute_result"
    }
   ],
   "source": [
    "df3[df3[\"E\"].isin([\"big mac\", \"fillet\"])]"
   ]
  },
  {
   "cell_type": "markdown",
   "id": "written-yorkshire",
   "metadata": {},
   "source": [
    "###### Setting"
   ]
  },
  {
   "cell_type": "markdown",
   "id": "later-columbia",
   "metadata": {},
   "source": [
    "###### Missing data"
   ]
  },
  {
   "cell_type": "markdown",
   "id": "perfect-dominican",
   "metadata": {},
   "source": [
    "###### Stats"
   ]
  },
  {
   "cell_type": "code",
   "execution_count": 127,
   "id": "played-anthropology",
   "metadata": {},
   "outputs": [
    {
     "data": {
      "text/plain": [
       "A    0.605255\n",
       "B    0.567133\n",
       "C    0.525381\n",
       "D    0.502455\n",
       "dtype: float64"
      ]
     },
     "execution_count": 127,
     "metadata": {},
     "output_type": "execute_result"
    }
   ],
   "source": [
    "df1.mean()"
   ]
  },
  {
   "cell_type": "markdown",
   "id": "political-converter",
   "metadata": {},
   "source": [
    "###### Reverses the axis"
   ]
  },
  {
   "cell_type": "code",
   "execution_count": 129,
   "id": "equipped-rebel",
   "metadata": {},
   "outputs": [
    {
     "data": {
      "text/plain": [
       "2013-01-01    0.502746\n",
       "2013-01-02    0.333024\n",
       "2013-01-03    0.560527\n",
       "2013-01-04    0.477561\n",
       "2013-01-05    0.544835\n",
       "2013-01-06    0.666704\n",
       "2013-01-07    0.764996\n",
       "Freq: D, dtype: float64"
      ]
     },
     "execution_count": 129,
     "metadata": {},
     "output_type": "execute_result"
    }
   ],
   "source": [
    "df1.mean(1)"
   ]
  },
  {
   "cell_type": "markdown",
   "id": "derived-laptop",
   "metadata": {},
   "source": [
    "###### need to back and have a look at the next two items to understnad applicability"
   ]
  },
  {
   "cell_type": "code",
   "execution_count": 138,
   "id": "verbal-strand",
   "metadata": {},
   "outputs": [
    {
     "data": {
      "text/plain": [
       "2013-01-01      1\n",
       "2013-01-02     26\n",
       "2013-01-03      5\n",
       "2013-01-04    107\n",
       "2013-01-05      6\n",
       "2013-01-06      8\n",
       "2013-01-07      7\n",
       "Freq: D, dtype: int64"
      ]
     },
     "execution_count": 138,
     "metadata": {},
     "output_type": "execute_result"
    }
   ],
   "source": [
    "s = pd.Series([1, 26, 5, 107, 6, 8,7], index=dates)\n",
    "s"
   ]
  },
  {
   "cell_type": "code",
   "execution_count": 139,
   "id": "aboriginal-print",
   "metadata": {},
   "outputs": [
    {
     "data": {
      "text/html": [
       "<div>\n",
       "<style scoped>\n",
       "    .dataframe tbody tr th:only-of-type {\n",
       "        vertical-align: middle;\n",
       "    }\n",
       "\n",
       "    .dataframe tbody tr th {\n",
       "        vertical-align: top;\n",
       "    }\n",
       "\n",
       "    .dataframe thead th {\n",
       "        text-align: right;\n",
       "    }\n",
       "</style>\n",
       "<table border=\"1\" class=\"dataframe\">\n",
       "  <thead>\n",
       "    <tr style=\"text-align: right;\">\n",
       "      <th></th>\n",
       "      <th>A</th>\n",
       "      <th>B</th>\n",
       "      <th>C</th>\n",
       "      <th>D</th>\n",
       "    </tr>\n",
       "  </thead>\n",
       "  <tbody>\n",
       "    <tr>\n",
       "      <th>2013-01-01</th>\n",
       "      <td>-0.276497</td>\n",
       "      <td>-0.978609</td>\n",
       "      <td>-0.190767</td>\n",
       "      <td>-0.543142</td>\n",
       "    </tr>\n",
       "    <tr>\n",
       "      <th>2013-01-02</th>\n",
       "      <td>-25.628897</td>\n",
       "      <td>-25.667402</td>\n",
       "      <td>-25.898726</td>\n",
       "      <td>-25.472879</td>\n",
       "    </tr>\n",
       "    <tr>\n",
       "      <th>2013-01-03</th>\n",
       "      <td>-4.146792</td>\n",
       "      <td>-4.114624</td>\n",
       "      <td>-4.600719</td>\n",
       "      <td>-4.895757</td>\n",
       "    </tr>\n",
       "    <tr>\n",
       "      <th>2013-01-04</th>\n",
       "      <td>-106.884997</td>\n",
       "      <td>-106.321603</td>\n",
       "      <td>-106.391725</td>\n",
       "      <td>-106.491432</td>\n",
       "    </tr>\n",
       "    <tr>\n",
       "      <th>2013-01-05</th>\n",
       "      <td>-5.234848</td>\n",
       "      <td>-5.664884</td>\n",
       "      <td>-5.791438</td>\n",
       "      <td>-5.129490</td>\n",
       "    </tr>\n",
       "    <tr>\n",
       "      <th>2013-01-06</th>\n",
       "      <td>-7.095713</td>\n",
       "      <td>-7.193243</td>\n",
       "      <td>-7.125472</td>\n",
       "      <td>-7.918755</td>\n",
       "    </tr>\n",
       "    <tr>\n",
       "      <th>2013-01-07</th>\n",
       "      <td>-6.495469</td>\n",
       "      <td>-6.089704</td>\n",
       "      <td>-6.323484</td>\n",
       "      <td>-6.031357</td>\n",
       "    </tr>\n",
       "  </tbody>\n",
       "</table>\n",
       "</div>"
      ],
      "text/plain": [
       "                     A           B           C           D\n",
       "2013-01-01   -0.276497   -0.978609   -0.190767   -0.543142\n",
       "2013-01-02  -25.628897  -25.667402  -25.898726  -25.472879\n",
       "2013-01-03   -4.146792   -4.114624   -4.600719   -4.895757\n",
       "2013-01-04 -106.884997 -106.321603 -106.391725 -106.491432\n",
       "2013-01-05   -5.234848   -5.664884   -5.791438   -5.129490\n",
       "2013-01-06   -7.095713   -7.193243   -7.125472   -7.918755\n",
       "2013-01-07   -6.495469   -6.089704   -6.323484   -6.031357"
      ]
     },
     "execution_count": 139,
     "metadata": {},
     "output_type": "execute_result"
    }
   ],
   "source": [
    "df1.sub(s, axis=\"index\")"
   ]
  },
  {
   "cell_type": "markdown",
   "id": "dutch-nicholas",
   "metadata": {},
   "source": [
    "###### End"
   ]
  },
  {
   "cell_type": "markdown",
   "id": "official-robertson",
   "metadata": {},
   "source": [
    "###### Applying functions"
   ]
  },
  {
   "cell_type": "code",
   "execution_count": 141,
   "id": "physical-harvey",
   "metadata": {},
   "outputs": [
    {
     "data": {
      "text/html": [
       "<div>\n",
       "<style scoped>\n",
       "    .dataframe tbody tr th:only-of-type {\n",
       "        vertical-align: middle;\n",
       "    }\n",
       "\n",
       "    .dataframe tbody tr th {\n",
       "        vertical-align: top;\n",
       "    }\n",
       "\n",
       "    .dataframe thead th {\n",
       "        text-align: right;\n",
       "    }\n",
       "</style>\n",
       "<table border=\"1\" class=\"dataframe\">\n",
       "  <thead>\n",
       "    <tr style=\"text-align: right;\">\n",
       "      <th></th>\n",
       "      <th>A</th>\n",
       "      <th>B</th>\n",
       "      <th>C</th>\n",
       "      <th>D</th>\n",
       "    </tr>\n",
       "  </thead>\n",
       "  <tbody>\n",
       "    <tr>\n",
       "      <th>2013-01-01</th>\n",
       "      <td>0.723503</td>\n",
       "      <td>0.021391</td>\n",
       "      <td>0.809233</td>\n",
       "      <td>0.456858</td>\n",
       "    </tr>\n",
       "    <tr>\n",
       "      <th>2013-01-02</th>\n",
       "      <td>0.371103</td>\n",
       "      <td>0.332598</td>\n",
       "      <td>0.101274</td>\n",
       "      <td>0.527121</td>\n",
       "    </tr>\n",
       "    <tr>\n",
       "      <th>2013-01-03</th>\n",
       "      <td>0.853208</td>\n",
       "      <td>0.885376</td>\n",
       "      <td>0.399281</td>\n",
       "      <td>0.104243</td>\n",
       "    </tr>\n",
       "    <tr>\n",
       "      <th>2013-01-04</th>\n",
       "      <td>0.115003</td>\n",
       "      <td>0.678397</td>\n",
       "      <td>0.608275</td>\n",
       "      <td>0.508568</td>\n",
       "    </tr>\n",
       "    <tr>\n",
       "      <th>2013-01-05</th>\n",
       "      <td>0.765152</td>\n",
       "      <td>0.335116</td>\n",
       "      <td>0.208562</td>\n",
       "      <td>0.870510</td>\n",
       "    </tr>\n",
       "    <tr>\n",
       "      <th>2013-01-06</th>\n",
       "      <td>0.904287</td>\n",
       "      <td>0.806757</td>\n",
       "      <td>0.874528</td>\n",
       "      <td>0.081245</td>\n",
       "    </tr>\n",
       "    <tr>\n",
       "      <th>2013-01-07</th>\n",
       "      <td>0.504531</td>\n",
       "      <td>0.910296</td>\n",
       "      <td>0.676516</td>\n",
       "      <td>0.968643</td>\n",
       "    </tr>\n",
       "  </tbody>\n",
       "</table>\n",
       "</div>"
      ],
      "text/plain": [
       "                   A         B         C         D\n",
       "2013-01-01  0.723503  0.021391  0.809233  0.456858\n",
       "2013-01-02  0.371103  0.332598  0.101274  0.527121\n",
       "2013-01-03  0.853208  0.885376  0.399281  0.104243\n",
       "2013-01-04  0.115003  0.678397  0.608275  0.508568\n",
       "2013-01-05  0.765152  0.335116  0.208562  0.870510\n",
       "2013-01-06  0.904287  0.806757  0.874528  0.081245\n",
       "2013-01-07  0.504531  0.910296  0.676516  0.968643"
      ]
     },
     "execution_count": 141,
     "metadata": {},
     "output_type": "execute_result"
    }
   ],
   "source": [
    "df1"
   ]
  },
  {
   "cell_type": "code",
   "execution_count": 143,
   "id": "skilled-mother",
   "metadata": {},
   "outputs": [
    {
     "data": {
      "text/html": [
       "<div>\n",
       "<style scoped>\n",
       "    .dataframe tbody tr th:only-of-type {\n",
       "        vertical-align: middle;\n",
       "    }\n",
       "\n",
       "    .dataframe tbody tr th {\n",
       "        vertical-align: top;\n",
       "    }\n",
       "\n",
       "    .dataframe thead th {\n",
       "        text-align: right;\n",
       "    }\n",
       "</style>\n",
       "<table border=\"1\" class=\"dataframe\">\n",
       "  <thead>\n",
       "    <tr style=\"text-align: right;\">\n",
       "      <th></th>\n",
       "      <th>A</th>\n",
       "      <th>B</th>\n",
       "      <th>C</th>\n",
       "      <th>D</th>\n",
       "    </tr>\n",
       "  </thead>\n",
       "  <tbody>\n",
       "    <tr>\n",
       "      <th>2013-01-01</th>\n",
       "      <td>0.723503</td>\n",
       "      <td>0.021391</td>\n",
       "      <td>0.809233</td>\n",
       "      <td>0.456858</td>\n",
       "    </tr>\n",
       "    <tr>\n",
       "      <th>2013-01-02</th>\n",
       "      <td>1.094606</td>\n",
       "      <td>0.353988</td>\n",
       "      <td>0.910508</td>\n",
       "      <td>0.983979</td>\n",
       "    </tr>\n",
       "    <tr>\n",
       "      <th>2013-01-03</th>\n",
       "      <td>1.947814</td>\n",
       "      <td>1.239365</td>\n",
       "      <td>1.309788</td>\n",
       "      <td>1.088222</td>\n",
       "    </tr>\n",
       "    <tr>\n",
       "      <th>2013-01-04</th>\n",
       "      <td>2.062817</td>\n",
       "      <td>1.917762</td>\n",
       "      <td>1.918063</td>\n",
       "      <td>1.596790</td>\n",
       "    </tr>\n",
       "    <tr>\n",
       "      <th>2013-01-05</th>\n",
       "      <td>2.827969</td>\n",
       "      <td>2.252877</td>\n",
       "      <td>2.126625</td>\n",
       "      <td>2.467300</td>\n",
       "    </tr>\n",
       "    <tr>\n",
       "      <th>2013-01-06</th>\n",
       "      <td>3.732256</td>\n",
       "      <td>3.059634</td>\n",
       "      <td>3.001153</td>\n",
       "      <td>2.548545</td>\n",
       "    </tr>\n",
       "    <tr>\n",
       "      <th>2013-01-07</th>\n",
       "      <td>4.236787</td>\n",
       "      <td>3.969930</td>\n",
       "      <td>3.677668</td>\n",
       "      <td>3.517188</td>\n",
       "    </tr>\n",
       "  </tbody>\n",
       "</table>\n",
       "</div>"
      ],
      "text/plain": [
       "                   A         B         C         D\n",
       "2013-01-01  0.723503  0.021391  0.809233  0.456858\n",
       "2013-01-02  1.094606  0.353988  0.910508  0.983979\n",
       "2013-01-03  1.947814  1.239365  1.309788  1.088222\n",
       "2013-01-04  2.062817  1.917762  1.918063  1.596790\n",
       "2013-01-05  2.827969  2.252877  2.126625  2.467300\n",
       "2013-01-06  3.732256  3.059634  3.001153  2.548545\n",
       "2013-01-07  4.236787  3.969930  3.677668  3.517188"
      ]
     },
     "execution_count": 143,
     "metadata": {},
     "output_type": "execute_result"
    }
   ],
   "source": [
    "df1.apply(np.cumsum)"
   ]
  },
  {
   "cell_type": "code",
   "execution_count": 146,
   "id": "unnecessary-vault",
   "metadata": {},
   "outputs": [
    {
     "data": {
      "text/plain": [
       "A    0.789283\n",
       "B    0.888906\n",
       "C    0.773253\n",
       "D    0.887398\n",
       "dtype: float64"
      ]
     },
     "execution_count": 146,
     "metadata": {},
     "output_type": "execute_result"
    }
   ],
   "source": [
    "df1.apply(lambda x: x.max() - x.min())"
   ]
  },
  {
   "cell_type": "markdown",
   "id": "sexual-yukon",
   "metadata": {},
   "source": [
    "###### histogram"
   ]
  },
  {
   "cell_type": "code",
   "execution_count": 148,
   "id": "proprietary-instrument",
   "metadata": {},
   "outputs": [
    {
     "data": {
      "text/plain": [
       "0    5\n",
       "1    3\n",
       "2    6\n",
       "3    5\n",
       "4    1\n",
       "5    5\n",
       "6    6\n",
       "7    4\n",
       "8    6\n",
       "9    0\n",
       "dtype: int32"
      ]
     },
     "execution_count": 148,
     "metadata": {},
     "output_type": "execute_result"
    }
   ],
   "source": [
    "s = pd.Series(np.random.randint(0, 7, size=10))\n",
    "s"
   ]
  },
  {
   "cell_type": "code",
   "execution_count": 149,
   "id": "higher-plymouth",
   "metadata": {},
   "outputs": [
    {
     "data": {
      "text/plain": [
       "5    3\n",
       "6    3\n",
       "0    1\n",
       "1    1\n",
       "3    1\n",
       "4    1\n",
       "dtype: int64"
      ]
     },
     "execution_count": 149,
     "metadata": {},
     "output_type": "execute_result"
    }
   ],
   "source": [
    "s.value_counts()"
   ]
  },
  {
   "cell_type": "markdown",
   "id": "worthy-ferry",
   "metadata": {},
   "source": [
    "###### string methods"
   ]
  },
  {
   "cell_type": "markdown",
   "id": "promotional-norwegian",
   "metadata": {},
   "source": [
    "###### concatanation"
   ]
  },
  {
   "cell_type": "code",
   "execution_count": 151,
   "id": "funded-shirt",
   "metadata": {},
   "outputs": [
    {
     "data": {
      "text/html": [
       "<div>\n",
       "<style scoped>\n",
       "    .dataframe tbody tr th:only-of-type {\n",
       "        vertical-align: middle;\n",
       "    }\n",
       "\n",
       "    .dataframe tbody tr th {\n",
       "        vertical-align: top;\n",
       "    }\n",
       "\n",
       "    .dataframe thead th {\n",
       "        text-align: right;\n",
       "    }\n",
       "</style>\n",
       "<table border=\"1\" class=\"dataframe\">\n",
       "  <thead>\n",
       "    <tr style=\"text-align: right;\">\n",
       "      <th></th>\n",
       "      <th>0</th>\n",
       "      <th>1</th>\n",
       "      <th>2</th>\n",
       "      <th>3</th>\n",
       "    </tr>\n",
       "  </thead>\n",
       "  <tbody>\n",
       "    <tr>\n",
       "      <th>0</th>\n",
       "      <td>-3.511781</td>\n",
       "      <td>-0.204420</td>\n",
       "      <td>-1.310105</td>\n",
       "      <td>0.056685</td>\n",
       "    </tr>\n",
       "    <tr>\n",
       "      <th>1</th>\n",
       "      <td>0.608578</td>\n",
       "      <td>-1.548106</td>\n",
       "      <td>0.818289</td>\n",
       "      <td>-0.974804</td>\n",
       "    </tr>\n",
       "    <tr>\n",
       "      <th>2</th>\n",
       "      <td>1.827146</td>\n",
       "      <td>-1.331414</td>\n",
       "      <td>0.332076</td>\n",
       "      <td>1.063474</td>\n",
       "    </tr>\n",
       "    <tr>\n",
       "      <th>3</th>\n",
       "      <td>0.923334</td>\n",
       "      <td>0.125454</td>\n",
       "      <td>-0.004026</td>\n",
       "      <td>-0.299527</td>\n",
       "    </tr>\n",
       "    <tr>\n",
       "      <th>4</th>\n",
       "      <td>0.180761</td>\n",
       "      <td>0.801819</td>\n",
       "      <td>0.477328</td>\n",
       "      <td>-1.004411</td>\n",
       "    </tr>\n",
       "    <tr>\n",
       "      <th>5</th>\n",
       "      <td>-1.666967</td>\n",
       "      <td>0.461001</td>\n",
       "      <td>-1.161745</td>\n",
       "      <td>-0.548670</td>\n",
       "    </tr>\n",
       "    <tr>\n",
       "      <th>6</th>\n",
       "      <td>-0.609257</td>\n",
       "      <td>0.379279</td>\n",
       "      <td>0.794312</td>\n",
       "      <td>0.447361</td>\n",
       "    </tr>\n",
       "    <tr>\n",
       "      <th>7</th>\n",
       "      <td>-0.263119</td>\n",
       "      <td>0.696575</td>\n",
       "      <td>2.171258</td>\n",
       "      <td>0.804362</td>\n",
       "    </tr>\n",
       "    <tr>\n",
       "      <th>8</th>\n",
       "      <td>-1.418844</td>\n",
       "      <td>-0.058978</td>\n",
       "      <td>-0.554523</td>\n",
       "      <td>-1.201517</td>\n",
       "    </tr>\n",
       "    <tr>\n",
       "      <th>9</th>\n",
       "      <td>-0.425420</td>\n",
       "      <td>-0.280063</td>\n",
       "      <td>-0.035894</td>\n",
       "      <td>-1.592509</td>\n",
       "    </tr>\n",
       "  </tbody>\n",
       "</table>\n",
       "</div>"
      ],
      "text/plain": [
       "          0         1         2         3\n",
       "0 -3.511781 -0.204420 -1.310105  0.056685\n",
       "1  0.608578 -1.548106  0.818289 -0.974804\n",
       "2  1.827146 -1.331414  0.332076  1.063474\n",
       "3  0.923334  0.125454 -0.004026 -0.299527\n",
       "4  0.180761  0.801819  0.477328 -1.004411\n",
       "5 -1.666967  0.461001 -1.161745 -0.548670\n",
       "6 -0.609257  0.379279  0.794312  0.447361\n",
       "7 -0.263119  0.696575  2.171258  0.804362\n",
       "8 -1.418844 -0.058978 -0.554523 -1.201517\n",
       "9 -0.425420 -0.280063 -0.035894 -1.592509"
      ]
     },
     "execution_count": 151,
     "metadata": {},
     "output_type": "execute_result"
    }
   ],
   "source": [
    "df4=pd.DataFrame(np.random.randn(10,4))\n",
    "df4"
   ]
  },
  {
   "cell_type": "code",
   "execution_count": 158,
   "id": "military-billy",
   "metadata": {},
   "outputs": [
    {
     "data": {
      "text/plain": [
       "[          0         1         2         3\n",
       " 1  0.608578 -1.548106  0.818289 -0.974804\n",
       " 2  1.827146 -1.331414  0.332076  1.063474,\n",
       "           0         1         2         3\n",
       " 5 -1.666967  0.461001 -1.161745 -0.548670\n",
       " 6 -0.609257  0.379279  0.794312  0.447361,\n",
       "           0         1         2         3\n",
       " 7 -0.263119  0.696575  2.171258  0.804362\n",
       " 8 -1.418844 -0.058978 -0.554523 -1.201517]"
      ]
     },
     "execution_count": 158,
     "metadata": {},
     "output_type": "execute_result"
    }
   ],
   "source": [
    "bits=[df4[1:3],df4[5:7],df4[7:9]]\n",
    "bits"
   ]
  },
  {
   "cell_type": "code",
   "execution_count": 159,
   "id": "prescribed-discount",
   "metadata": {},
   "outputs": [
    {
     "data": {
      "text/html": [
       "<div>\n",
       "<style scoped>\n",
       "    .dataframe tbody tr th:only-of-type {\n",
       "        vertical-align: middle;\n",
       "    }\n",
       "\n",
       "    .dataframe tbody tr th {\n",
       "        vertical-align: top;\n",
       "    }\n",
       "\n",
       "    .dataframe thead th {\n",
       "        text-align: right;\n",
       "    }\n",
       "</style>\n",
       "<table border=\"1\" class=\"dataframe\">\n",
       "  <thead>\n",
       "    <tr style=\"text-align: right;\">\n",
       "      <th></th>\n",
       "      <th>0</th>\n",
       "      <th>1</th>\n",
       "      <th>2</th>\n",
       "      <th>3</th>\n",
       "    </tr>\n",
       "  </thead>\n",
       "  <tbody>\n",
       "    <tr>\n",
       "      <th>1</th>\n",
       "      <td>0.608578</td>\n",
       "      <td>-1.548106</td>\n",
       "      <td>0.818289</td>\n",
       "      <td>-0.974804</td>\n",
       "    </tr>\n",
       "    <tr>\n",
       "      <th>2</th>\n",
       "      <td>1.827146</td>\n",
       "      <td>-1.331414</td>\n",
       "      <td>0.332076</td>\n",
       "      <td>1.063474</td>\n",
       "    </tr>\n",
       "    <tr>\n",
       "      <th>5</th>\n",
       "      <td>-1.666967</td>\n",
       "      <td>0.461001</td>\n",
       "      <td>-1.161745</td>\n",
       "      <td>-0.548670</td>\n",
       "    </tr>\n",
       "    <tr>\n",
       "      <th>6</th>\n",
       "      <td>-0.609257</td>\n",
       "      <td>0.379279</td>\n",
       "      <td>0.794312</td>\n",
       "      <td>0.447361</td>\n",
       "    </tr>\n",
       "    <tr>\n",
       "      <th>7</th>\n",
       "      <td>-0.263119</td>\n",
       "      <td>0.696575</td>\n",
       "      <td>2.171258</td>\n",
       "      <td>0.804362</td>\n",
       "    </tr>\n",
       "    <tr>\n",
       "      <th>8</th>\n",
       "      <td>-1.418844</td>\n",
       "      <td>-0.058978</td>\n",
       "      <td>-0.554523</td>\n",
       "      <td>-1.201517</td>\n",
       "    </tr>\n",
       "  </tbody>\n",
       "</table>\n",
       "</div>"
      ],
      "text/plain": [
       "          0         1         2         3\n",
       "1  0.608578 -1.548106  0.818289 -0.974804\n",
       "2  1.827146 -1.331414  0.332076  1.063474\n",
       "5 -1.666967  0.461001 -1.161745 -0.548670\n",
       "6 -0.609257  0.379279  0.794312  0.447361\n",
       "7 -0.263119  0.696575  2.171258  0.804362\n",
       "8 -1.418844 -0.058978 -0.554523 -1.201517"
      ]
     },
     "execution_count": 159,
     "metadata": {},
     "output_type": "execute_result"
    }
   ],
   "source": [
    "pd.concat(bits)"
   ]
  },
  {
   "cell_type": "markdown",
   "id": "romance-import",
   "metadata": {},
   "source": [
    "###### join"
   ]
  },
  {
   "cell_type": "code",
   "execution_count": 161,
   "id": "paperback-price",
   "metadata": {},
   "outputs": [
    {
     "data": {
      "text/html": [
       "<div>\n",
       "<style scoped>\n",
       "    .dataframe tbody tr th:only-of-type {\n",
       "        vertical-align: middle;\n",
       "    }\n",
       "\n",
       "    .dataframe tbody tr th {\n",
       "        vertical-align: top;\n",
       "    }\n",
       "\n",
       "    .dataframe thead th {\n",
       "        text-align: right;\n",
       "    }\n",
       "</style>\n",
       "<table border=\"1\" class=\"dataframe\">\n",
       "  <thead>\n",
       "    <tr style=\"text-align: right;\">\n",
       "      <th></th>\n",
       "      <th>key</th>\n",
       "      <th>lval</th>\n",
       "    </tr>\n",
       "  </thead>\n",
       "  <tbody>\n",
       "    <tr>\n",
       "      <th>0</th>\n",
       "      <td>foo</td>\n",
       "      <td>1</td>\n",
       "    </tr>\n",
       "    <tr>\n",
       "      <th>1</th>\n",
       "      <td>foo</td>\n",
       "      <td>2</td>\n",
       "    </tr>\n",
       "  </tbody>\n",
       "</table>\n",
       "</div>"
      ],
      "text/plain": [
       "   key  lval\n",
       "0  foo     1\n",
       "1  foo     2"
      ]
     },
     "execution_count": 161,
     "metadata": {},
     "output_type": "execute_result"
    }
   ],
   "source": [
    "left = pd.DataFrame({\"key\": [\"foo\", \"foo\"], \"lval\": [1, 2]})\n",
    "left"
   ]
  },
  {
   "cell_type": "code",
   "execution_count": 162,
   "id": "swedish-footage",
   "metadata": {},
   "outputs": [
    {
     "data": {
      "text/html": [
       "<div>\n",
       "<style scoped>\n",
       "    .dataframe tbody tr th:only-of-type {\n",
       "        vertical-align: middle;\n",
       "    }\n",
       "\n",
       "    .dataframe tbody tr th {\n",
       "        vertical-align: top;\n",
       "    }\n",
       "\n",
       "    .dataframe thead th {\n",
       "        text-align: right;\n",
       "    }\n",
       "</style>\n",
       "<table border=\"1\" class=\"dataframe\">\n",
       "  <thead>\n",
       "    <tr style=\"text-align: right;\">\n",
       "      <th></th>\n",
       "      <th>key</th>\n",
       "      <th>rval</th>\n",
       "    </tr>\n",
       "  </thead>\n",
       "  <tbody>\n",
       "    <tr>\n",
       "      <th>0</th>\n",
       "      <td>foo</td>\n",
       "      <td>4</td>\n",
       "    </tr>\n",
       "    <tr>\n",
       "      <th>1</th>\n",
       "      <td>foo</td>\n",
       "      <td>5</td>\n",
       "    </tr>\n",
       "  </tbody>\n",
       "</table>\n",
       "</div>"
      ],
      "text/plain": [
       "   key  rval\n",
       "0  foo     4\n",
       "1  foo     5"
      ]
     },
     "execution_count": 162,
     "metadata": {},
     "output_type": "execute_result"
    }
   ],
   "source": [
    "right = pd.DataFrame({\"key\": [\"foo\", \"foo\"], \"rval\": [4, 5]})\n",
    "right"
   ]
  },
  {
   "cell_type": "code",
   "execution_count": 163,
   "id": "lightweight-restriction",
   "metadata": {},
   "outputs": [
    {
     "data": {
      "text/html": [
       "<div>\n",
       "<style scoped>\n",
       "    .dataframe tbody tr th:only-of-type {\n",
       "        vertical-align: middle;\n",
       "    }\n",
       "\n",
       "    .dataframe tbody tr th {\n",
       "        vertical-align: top;\n",
       "    }\n",
       "\n",
       "    .dataframe thead th {\n",
       "        text-align: right;\n",
       "    }\n",
       "</style>\n",
       "<table border=\"1\" class=\"dataframe\">\n",
       "  <thead>\n",
       "    <tr style=\"text-align: right;\">\n",
       "      <th></th>\n",
       "      <th>key</th>\n",
       "      <th>lval</th>\n",
       "      <th>rval</th>\n",
       "    </tr>\n",
       "  </thead>\n",
       "  <tbody>\n",
       "    <tr>\n",
       "      <th>0</th>\n",
       "      <td>foo</td>\n",
       "      <td>1</td>\n",
       "      <td>4</td>\n",
       "    </tr>\n",
       "    <tr>\n",
       "      <th>1</th>\n",
       "      <td>foo</td>\n",
       "      <td>1</td>\n",
       "      <td>5</td>\n",
       "    </tr>\n",
       "    <tr>\n",
       "      <th>2</th>\n",
       "      <td>foo</td>\n",
       "      <td>2</td>\n",
       "      <td>4</td>\n",
       "    </tr>\n",
       "    <tr>\n",
       "      <th>3</th>\n",
       "      <td>foo</td>\n",
       "      <td>2</td>\n",
       "      <td>5</td>\n",
       "    </tr>\n",
       "  </tbody>\n",
       "</table>\n",
       "</div>"
      ],
      "text/plain": [
       "   key  lval  rval\n",
       "0  foo     1     4\n",
       "1  foo     1     5\n",
       "2  foo     2     4\n",
       "3  foo     2     5"
      ]
     },
     "execution_count": 163,
     "metadata": {},
     "output_type": "execute_result"
    }
   ],
   "source": [
    "pd.merge(left, right, on=\"key\")"
   ]
  },
  {
   "cell_type": "markdown",
   "id": "cleared-screening",
   "metadata": {},
   "source": [
    "###### Grouping"
   ]
  },
  {
   "cell_type": "markdown",
   "id": "worthy-shepherd",
   "metadata": {},
   "source": [
    "###### Reshaping"
   ]
  },
  {
   "cell_type": "markdown",
   "id": "proud-retreat",
   "metadata": {},
   "source": [
    "###### Time series"
   ]
  },
  {
   "cell_type": "code",
   "execution_count": 168,
   "id": "hollywood-workstation",
   "metadata": {},
   "outputs": [],
   "source": [
    "rng = pd.date_range(\"1/1/2012\", periods=100, freq=\"S\")"
   ]
  },
  {
   "cell_type": "code",
   "execution_count": 170,
   "id": "saving-modern",
   "metadata": {},
   "outputs": [],
   "source": [
    "ts = pd.Series(np.random.randint(0, 500, len(rng)), index=rng)"
   ]
  },
  {
   "cell_type": "code",
   "execution_count": 171,
   "id": "progressive-microwave",
   "metadata": {},
   "outputs": [
    {
     "data": {
      "text/plain": [
       "2012-01-01    25391\n",
       "Freq: 5T, dtype: int32"
      ]
     },
     "execution_count": 171,
     "metadata": {},
     "output_type": "execute_result"
    }
   ],
   "source": [
    "ts.resample(\"5Min\").sum()"
   ]
  },
  {
   "cell_type": "code",
   "execution_count": null,
   "id": "rolled-sender",
   "metadata": {},
   "outputs": [],
   "source": []
  },
  {
   "cell_type": "code",
   "execution_count": null,
   "id": "pregnant-petersburg",
   "metadata": {},
   "outputs": [],
   "source": []
  },
  {
   "cell_type": "code",
   "execution_count": null,
   "id": "reduced-scholarship",
   "metadata": {},
   "outputs": [],
   "source": []
  },
  {
   "cell_type": "code",
   "execution_count": null,
   "id": "upset-complex",
   "metadata": {},
   "outputs": [],
   "source": []
  },
  {
   "cell_type": "code",
   "execution_count": null,
   "id": "dedicated-abuse",
   "metadata": {},
   "outputs": [],
   "source": []
  },
  {
   "cell_type": "code",
   "execution_count": null,
   "id": "advised-supplement",
   "metadata": {},
   "outputs": [],
   "source": []
  },
  {
   "cell_type": "code",
   "execution_count": null,
   "id": "polish-satisfaction",
   "metadata": {},
   "outputs": [],
   "source": []
  },
  {
   "cell_type": "code",
   "execution_count": null,
   "id": "relative-mentor",
   "metadata": {},
   "outputs": [],
   "source": []
  },
  {
   "cell_type": "code",
   "execution_count": null,
   "id": "baking-enforcement",
   "metadata": {},
   "outputs": [],
   "source": []
  },
  {
   "cell_type": "code",
   "execution_count": null,
   "id": "surprised-anaheim",
   "metadata": {},
   "outputs": [],
   "source": []
  }
 ],
 "metadata": {
  "kernelspec": {
   "display_name": "Python 3",
   "language": "python",
   "name": "python3"
  },
  "language_info": {
   "codemirror_mode": {
    "name": "ipython",
    "version": 3
   },
   "file_extension": ".py",
   "mimetype": "text/x-python",
   "name": "python",
   "nbconvert_exporter": "python",
   "pygments_lexer": "ipython3",
   "version": "3.8.5"
  }
 },
 "nbformat": 4,
 "nbformat_minor": 5
}
