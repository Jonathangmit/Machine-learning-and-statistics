{
 "cells": [
  {
   "cell_type": "markdown",
   "id": "636ceec3",
   "metadata": {},
   "source": [
    "# Data set for birth weight investigations from she"
   ]
  },
  {
   "cell_type": "code",
   "execution_count": 1,
   "id": "1c4b9751",
   "metadata": {},
   "outputs": [],
   "source": [
    "#importing the required packes for  use in the study.\n",
    "import pandas as pd\n",
    "import numpy as np\n",
    "import seaborn as sns\n",
    "import matplotlib.pyplot as plt\n",
    "import scipy.stats as stats\n",
    "from scipy.stats import ttest_rel\n",
    "import pingouin as pg\n",
    "\n",
    "# setting the graph size\n",
    "plt.rcParams[\"figure.figsize\"] =(10,6)"
   ]
  },
  {
   "cell_type": "code",
   "execution_count": 2,
   "id": "77c42c1d",
   "metadata": {},
   "outputs": [
    {
     "data": {
      "text/html": [
       "<div>\n",
       "<style scoped>\n",
       "    .dataframe tbody tr th:only-of-type {\n",
       "        vertical-align: middle;\n",
       "    }\n",
       "\n",
       "    .dataframe tbody tr th {\n",
       "        vertical-align: top;\n",
       "    }\n",
       "\n",
       "    .dataframe thead th {\n",
       "        text-align: right;\n",
       "    }\n",
       "</style>\n",
       "<table border=\"1\" class=\"dataframe\">\n",
       "  <thead>\n",
       "    <tr style=\"text-align: right;\">\n",
       "      <th></th>\n",
       "      <th>ID</th>\n",
       "      <th>Length</th>\n",
       "      <th>Birthweight</th>\n",
       "      <th>Headcirc</th>\n",
       "      <th>Gestation</th>\n",
       "      <th>smoker</th>\n",
       "      <th>mage</th>\n",
       "      <th>mnocig</th>\n",
       "      <th>mheight</th>\n",
       "      <th>mppwt</th>\n",
       "      <th>fage</th>\n",
       "      <th>fedyrs</th>\n",
       "      <th>fnocig</th>\n",
       "      <th>fheight</th>\n",
       "      <th>lowbwt</th>\n",
       "      <th>mage35</th>\n",
       "    </tr>\n",
       "  </thead>\n",
       "  <tbody>\n",
       "    <tr>\n",
       "      <th>37</th>\n",
       "      <td>619</td>\n",
       "      <td>52</td>\n",
       "      <td>3.41</td>\n",
       "      <td>33</td>\n",
       "      <td>39</td>\n",
       "      <td>1</td>\n",
       "      <td>23</td>\n",
       "      <td>25</td>\n",
       "      <td>181</td>\n",
       "      <td>69</td>\n",
       "      <td>23</td>\n",
       "      <td>16</td>\n",
       "      <td>2</td>\n",
       "      <td>181</td>\n",
       "      <td>0</td>\n",
       "      <td>0</td>\n",
       "    </tr>\n",
       "    <tr>\n",
       "      <th>38</th>\n",
       "      <td>1369</td>\n",
       "      <td>49</td>\n",
       "      <td>3.18</td>\n",
       "      <td>34</td>\n",
       "      <td>38</td>\n",
       "      <td>1</td>\n",
       "      <td>31</td>\n",
       "      <td>25</td>\n",
       "      <td>162</td>\n",
       "      <td>57</td>\n",
       "      <td>32</td>\n",
       "      <td>16</td>\n",
       "      <td>50</td>\n",
       "      <td>194</td>\n",
       "      <td>0</td>\n",
       "      <td>0</td>\n",
       "    </tr>\n",
       "    <tr>\n",
       "      <th>39</th>\n",
       "      <td>1262</td>\n",
       "      <td>53</td>\n",
       "      <td>3.19</td>\n",
       "      <td>34</td>\n",
       "      <td>41</td>\n",
       "      <td>1</td>\n",
       "      <td>27</td>\n",
       "      <td>35</td>\n",
       "      <td>163</td>\n",
       "      <td>51</td>\n",
       "      <td>31</td>\n",
       "      <td>16</td>\n",
       "      <td>25</td>\n",
       "      <td>185</td>\n",
       "      <td>0</td>\n",
       "      <td>0</td>\n",
       "    </tr>\n",
       "    <tr>\n",
       "      <th>40</th>\n",
       "      <td>516</td>\n",
       "      <td>47</td>\n",
       "      <td>2.66</td>\n",
       "      <td>33</td>\n",
       "      <td>35</td>\n",
       "      <td>1</td>\n",
       "      <td>20</td>\n",
       "      <td>35</td>\n",
       "      <td>170</td>\n",
       "      <td>57</td>\n",
       "      <td>23</td>\n",
       "      <td>12</td>\n",
       "      <td>50</td>\n",
       "      <td>186</td>\n",
       "      <td>1</td>\n",
       "      <td>0</td>\n",
       "    </tr>\n",
       "    <tr>\n",
       "      <th>41</th>\n",
       "      <td>1272</td>\n",
       "      <td>53</td>\n",
       "      <td>2.75</td>\n",
       "      <td>32</td>\n",
       "      <td>40</td>\n",
       "      <td>1</td>\n",
       "      <td>37</td>\n",
       "      <td>50</td>\n",
       "      <td>168</td>\n",
       "      <td>61</td>\n",
       "      <td>31</td>\n",
       "      <td>16</td>\n",
       "      <td>0</td>\n",
       "      <td>173</td>\n",
       "      <td>0</td>\n",
       "      <td>1</td>\n",
       "    </tr>\n",
       "  </tbody>\n",
       "</table>\n",
       "</div>"
      ],
      "text/plain": [
       "      ID  Length  Birthweight  Headcirc  Gestation  smoker  mage  mnocig  \\\n",
       "37   619      52         3.41        33         39       1    23      25   \n",
       "38  1369      49         3.18        34         38       1    31      25   \n",
       "39  1262      53         3.19        34         41       1    27      35   \n",
       "40   516      47         2.66        33         35       1    20      35   \n",
       "41  1272      53         2.75        32         40       1    37      50   \n",
       "\n",
       "    mheight  mppwt  fage  fedyrs  fnocig  fheight  lowbwt  mage35  \n",
       "37      181     69    23      16       2      181       0       0  \n",
       "38      162     57    32      16      50      194       0       0  \n",
       "39      163     51    31      16      25      185       0       0  \n",
       "40      170     57    23      12      50      186       1       0  \n",
       "41      168     61    31      16       0      173       0       1  "
      ]
     },
     "execution_count": 2,
     "metadata": {},
     "output_type": "execute_result"
    }
   ],
   "source": [
    "# eyball the data\n",
    "df = pd.read_csv('data/birthdata.csv')\n",
    "df.tail()"
   ]
  },
  {
   "cell_type": "code",
   "execution_count": 3,
   "id": "9518616d",
   "metadata": {},
   "outputs": [
    {
     "data": {
      "text/html": [
       "<div>\n",
       "<style scoped>\n",
       "    .dataframe tbody tr th:only-of-type {\n",
       "        vertical-align: middle;\n",
       "    }\n",
       "\n",
       "    .dataframe tbody tr th {\n",
       "        vertical-align: top;\n",
       "    }\n",
       "\n",
       "    .dataframe thead th {\n",
       "        text-align: right;\n",
       "    }\n",
       "</style>\n",
       "<table border=\"1\" class=\"dataframe\">\n",
       "  <thead>\n",
       "    <tr style=\"text-align: right;\">\n",
       "      <th></th>\n",
       "      <th>ID</th>\n",
       "      <th>Length</th>\n",
       "      <th>Birthweight</th>\n",
       "      <th>Headcirc</th>\n",
       "      <th>Gestation</th>\n",
       "      <th>smoker</th>\n",
       "      <th>mage</th>\n",
       "      <th>mnocig</th>\n",
       "      <th>mheight</th>\n",
       "      <th>mppwt</th>\n",
       "      <th>fage</th>\n",
       "      <th>fedyrs</th>\n",
       "      <th>fnocig</th>\n",
       "      <th>fheight</th>\n",
       "      <th>lowbwt</th>\n",
       "      <th>mage35</th>\n",
       "    </tr>\n",
       "  </thead>\n",
       "  <tbody>\n",
       "    <tr>\n",
       "      <th>0</th>\n",
       "      <td>1360</td>\n",
       "      <td>56</td>\n",
       "      <td>4.55</td>\n",
       "      <td>34</td>\n",
       "      <td>44</td>\n",
       "      <td>0</td>\n",
       "      <td>20</td>\n",
       "      <td>0</td>\n",
       "      <td>162</td>\n",
       "      <td>57</td>\n",
       "      <td>23</td>\n",
       "      <td>10</td>\n",
       "      <td>35</td>\n",
       "      <td>179</td>\n",
       "      <td>0</td>\n",
       "      <td>0</td>\n",
       "    </tr>\n",
       "    <tr>\n",
       "      <th>1</th>\n",
       "      <td>1016</td>\n",
       "      <td>53</td>\n",
       "      <td>4.32</td>\n",
       "      <td>36</td>\n",
       "      <td>40</td>\n",
       "      <td>0</td>\n",
       "      <td>19</td>\n",
       "      <td>0</td>\n",
       "      <td>171</td>\n",
       "      <td>62</td>\n",
       "      <td>19</td>\n",
       "      <td>12</td>\n",
       "      <td>0</td>\n",
       "      <td>183</td>\n",
       "      <td>0</td>\n",
       "      <td>0</td>\n",
       "    </tr>\n",
       "    <tr>\n",
       "      <th>2</th>\n",
       "      <td>462</td>\n",
       "      <td>58</td>\n",
       "      <td>4.10</td>\n",
       "      <td>39</td>\n",
       "      <td>41</td>\n",
       "      <td>0</td>\n",
       "      <td>35</td>\n",
       "      <td>0</td>\n",
       "      <td>172</td>\n",
       "      <td>58</td>\n",
       "      <td>31</td>\n",
       "      <td>16</td>\n",
       "      <td>25</td>\n",
       "      <td>185</td>\n",
       "      <td>0</td>\n",
       "      <td>1</td>\n",
       "    </tr>\n",
       "    <tr>\n",
       "      <th>3</th>\n",
       "      <td>1187</td>\n",
       "      <td>53</td>\n",
       "      <td>4.07</td>\n",
       "      <td>38</td>\n",
       "      <td>44</td>\n",
       "      <td>0</td>\n",
       "      <td>20</td>\n",
       "      <td>0</td>\n",
       "      <td>174</td>\n",
       "      <td>68</td>\n",
       "      <td>26</td>\n",
       "      <td>14</td>\n",
       "      <td>25</td>\n",
       "      <td>189</td>\n",
       "      <td>0</td>\n",
       "      <td>0</td>\n",
       "    </tr>\n",
       "    <tr>\n",
       "      <th>4</th>\n",
       "      <td>553</td>\n",
       "      <td>54</td>\n",
       "      <td>3.94</td>\n",
       "      <td>37</td>\n",
       "      <td>42</td>\n",
       "      <td>0</td>\n",
       "      <td>24</td>\n",
       "      <td>0</td>\n",
       "      <td>175</td>\n",
       "      <td>66</td>\n",
       "      <td>30</td>\n",
       "      <td>12</td>\n",
       "      <td>0</td>\n",
       "      <td>184</td>\n",
       "      <td>0</td>\n",
       "      <td>0</td>\n",
       "    </tr>\n",
       "  </tbody>\n",
       "</table>\n",
       "</div>"
      ],
      "text/plain": [
       "     ID  Length  Birthweight  Headcirc  Gestation  smoker  mage  mnocig  \\\n",
       "0  1360      56         4.55        34         44       0    20       0   \n",
       "1  1016      53         4.32        36         40       0    19       0   \n",
       "2   462      58         4.10        39         41       0    35       0   \n",
       "3  1187      53         4.07        38         44       0    20       0   \n",
       "4   553      54         3.94        37         42       0    24       0   \n",
       "\n",
       "   mheight  mppwt  fage  fedyrs  fnocig  fheight  lowbwt  mage35  \n",
       "0      162     57    23      10      35      179       0       0  \n",
       "1      171     62    19      12       0      183       0       0  \n",
       "2      172     58    31      16      25      185       0       1  \n",
       "3      174     68    26      14      25      189       0       0  \n",
       "4      175     66    30      12       0      184       0       0  "
      ]
     },
     "execution_count": 3,
     "metadata": {},
     "output_type": "execute_result"
    }
   ],
   "source": [
    "df.head()"
   ]
  },
  {
   "cell_type": "code",
   "execution_count": 4,
   "id": "934a76a1",
   "metadata": {},
   "outputs": [
    {
     "data": {
      "image/png": "[encoded data removed]",
      "text/plain": [
       "<Figure size 720x432 with 1 Axes>"
      ]
     },
     "metadata": {
      "needs_background": "light"
     },
     "output_type": "display_data"
    }
   ],
   "source": [
    "sns.histplot(df['Birthweight'], bins=10, alpha = 0.75,color='black');\n",
    "plt.show()"
   ]
  },
  {
   "cell_type": "code",
   "execution_count": 5,
   "id": "aa57478d",
   "metadata": {},
   "outputs": [
    {
     "data": {
      "text/plain": [
       "<AxesSubplot:xlabel='smoker', ylabel='Birthweight'>"
      ]
     },
     "execution_count": 5,
     "metadata": {},
     "output_type": "execute_result"
    },
    {
     "data": {
      "image/png": "[encoded data removed]",
      "text/plain": [
       "<Figure size 720x432 with 1 Axes>"
      ]
     },
     "metadata": {
      "needs_background": "light"
     },
     "output_type": "display_data"
    }
   ],
   "source": [
    "sns.boxplot(x=df['smoker'],y=df['Birthweight'])"
   ]
  },
  {
   "cell_type": "code",
   "execution_count": 6,
   "id": "7d418186",
   "metadata": {},
   "outputs": [
    {
     "data": {
      "text/plain": [
       "<AxesSubplot:xlabel='smoker', ylabel='Length'>"
      ]
     },
     "execution_count": 6,
     "metadata": {},
     "output_type": "execute_result"
    },
    {
     "data": {
      "image/png": "[encoded data removed]",
      "text/plain": [
       "<Figure size 720x432 with 1 Axes>"
      ]
     },
     "metadata": {
      "needs_background": "light"
     },
     "output_type": "display_data"
    }
   ],
   "source": [
    "sns.boxplot(x=df['smoker'],y=df['Length'])"
   ]
  },
  {
   "cell_type": "code",
   "execution_count": 7,
   "id": "e34d0831",
   "metadata": {},
   "outputs": [
    {
     "data": {
      "text/plain": [
       "<AxesSubplot:xlabel='smoker', ylabel='Headcirc'>"
      ]
     },
     "execution_count": 7,
     "metadata": {},
     "output_type": "execute_result"
    },
    {
     "data": {
      "image/png": "[encoded data removed]",
      "text/plain": [
       "<Figure size 720x432 with 1 Axes>"
      ]
     },
     "metadata": {
      "needs_background": "light"
     },
     "output_type": "display_data"
    }
   ],
   "source": [
    "\n",
    "sns.boxplot(x=df['smoker'],y=df['Headcirc'])"
   ]
  },
  {
   "cell_type": "code",
   "execution_count": 8,
   "id": "56938c11",
   "metadata": {},
   "outputs": [
    {
     "data": {
      "image/png": "[encoded data removed]",
      "text/plain": [
       "<Figure size 720x432 with 1 Axes>"
      ]
     },
     "metadata": {
      "needs_background": "light"
     },
     "output_type": "display_data"
    }
   ],
   "source": [
    "dfsmoke=df[df['smoker']==1]\n",
    "dfnon=df[df['smoker']==0]\n",
    "fig, ax = plt.subplots()\n",
    "ax.hist(dfsmoke['Birthweight'], bins=10, alpha = 0.75, label='smoker',color='blue');\n",
    "ax.hist(dfnon['Birthweight'], bins=10, alpha = 0.75, label='non smoker',color='orange');\n",
    "plt.xlabel('Birthweight (kg)')\n",
    "plt.ylabel('')\n",
    "plt.title('distribution of weight loss on diets in study')\n",
    "plt.legend()\n",
    "plt.show()"
   ]
  },
  {
   "cell_type": "code",
   "execution_count": null,
   "id": "e7d572d0",
   "metadata": {},
   "outputs": [],
   "source": []
  },
  {
   "cell_type": "code",
   "execution_count": 9,
   "id": "cc5d43b0",
   "metadata": {},
   "outputs": [
    {
     "name": "stdout",
     "output_type": "stream",
     "text": [
      "count    22.000000\n",
      "mean      3.134091\n",
      "std       0.631247\n",
      "min       1.920000\n",
      "25%       2.742500\n",
      "50%       3.185000\n",
      "75%       3.545000\n",
      "max       4.570000\n",
      "Name: Birthweight, dtype: float64\n",
      "count    20.000000\n",
      "mean      3.509500\n",
      "std       0.518495\n",
      "min       2.650000\n",
      "25%       3.140000\n",
      "50%       3.385000\n",
      "75%       3.932500\n",
      "max       4.550000\n",
      "Name: Birthweight, dtype: float64\n"
     ]
    }
   ],
   "source": [
    "print(dfsmoke['Birthweight'].describe())\n",
    "print(dfnon['Birthweight'].describe())"
   ]
  },
  {
   "cell_type": "code",
   "execution_count": 10,
   "id": "f7607953",
   "metadata": {},
   "outputs": [
    {
     "data": {
      "image/png": "[encoded data removed]",
      "text/plain": [
       "<Figure size 720x432 with 1 Axes>"
      ]
     },
     "metadata": {
      "needs_background": "light"
     },
     "output_type": "display_data"
    }
   ],
   "source": [
    "sns.histplot(df['Gestation'], bins=10, alpha = 0.75,color='black');\n",
    "plt.show()"
   ]
  },
  {
   "cell_type": "code",
   "execution_count": 11,
   "id": "241db768",
   "metadata": {},
   "outputs": [
    {
     "data": {
      "text/plain": [
       "<AxesSubplot:xlabel='Gestation', ylabel='Birthweight'>"
      ]
     },
     "execution_count": 11,
     "metadata": {},
     "output_type": "execute_result"
    },
    {
     "data": {
      "image/png": "[encoded data removed]",
      "text/plain": [
       "<Figure size 720x432 with 1 Axes>"
      ]
     },
     "metadata": {
      "needs_background": "light"
     },
     "output_type": "display_data"
    }
   ],
   "source": [
    "sns.boxplot(x=df['Gestation'],y=df['Birthweight'])\n",
    "\n"
   ]
  },
  {
   "cell_type": "code",
   "execution_count": 12,
   "id": "e85c4211",
   "metadata": {},
   "outputs": [
    {
     "data": {
      "image/png": "[encoded data removed]",
      "text/plain": [
       "<Figure size 720x432 with 1 Axes>"
      ]
     },
     "metadata": {
      "needs_background": "light"
     },
     "output_type": "display_data"
    }
   ],
   "source": [
    "dfearly=df[df['Gestation']<40]\n",
    "dfon=df[df['Gestation']==40]\n",
    "dflate=df[df['Gestation']>40]\n",
    "fig, ax = plt.subplots()\n",
    "ax.hist(dfearly['Birthweight'], bins=10, alpha = 0.75, label='Early',color='blue');\n",
    "ax.hist(dfon['Birthweight'], bins=10, alpha = 0.75, label='on time',color='orange');\n",
    "ax.hist(dflate['Birthweight'], bins=10, alpha = 0.75, label='late',color='green');\n",
    "plt.xlabel('Birthweight (kg)')\n",
    "plt.ylabel('')\n",
    "plt.title('')\n",
    "plt.legend()\n",
    "plt.show()"
   ]
  },
  {
   "cell_type": "code",
   "execution_count": null,
   "id": "9f974d29",
   "metadata": {},
   "outputs": [],
   "source": []
  },
  {
   "cell_type": "markdown",
   "id": "a776d1ba",
   "metadata": {},
   "source": [
    "# Use of machine learning"
   ]
  },
  {
   "cell_type": "code",
   "execution_count": 13,
   "id": "3c97c404",
   "metadata": {},
   "outputs": [],
   "source": [
    "df.head()\n",
    "#importing the basic tools for my work\n",
    "import numpy as np\n",
    "import pandas as pd\n",
    "import matplotlib.pyplot as plt\n",
    "#importing the various sklearn packages required for the notebook\n",
    "import sklearn.linear_model as lm\n",
    "import sklearn.neighbors as nei\n",
    "import sklearn.model_selection as mod\n",
    "import seaborn as sns\n",
    "from sklearn.metrics import mean_squared_error, r2_score\n",
    "from sklearn.model_selection import train_test_split\n",
    "from sklearn.tree import DecisionTreeClassifier\n",
    "from sklearn.ensemble import RandomForestClassifier\n",
    "from sklearn import datasets\n",
    "from sklearn import preprocessing\n",
    "import sklearn.linear_model as linm"
   ]
  },
  {
   "cell_type": "markdown",
   "id": "81eebcaf",
   "metadata": {},
   "source": [
    "###### Use of machine learning"
   ]
  },
  {
   "cell_type": "code",
   "execution_count": 14,
   "id": "8ca6de31",
   "metadata": {},
   "outputs": [],
   "source": [
    "df['Birthweightgrams']=df['Birthweight']*1000"
   ]
  },
  {
   "cell_type": "code",
   "execution_count": 15,
   "id": "0f3d1e45",
   "metadata": {},
   "outputs": [],
   "source": [
    "#df['Birthweightgrams'] = df.apply(lambda row: (int(np.asarray(row['Birthweight']))*1000),axis=1)"
   ]
  },
  {
   "cell_type": "code",
   "execution_count": 16,
   "id": "745a040b",
   "metadata": {},
   "outputs": [],
   "source": [
    "df['Birthweightgrams']=df['Birthweightgrams'].astype('int')"
   ]
  },
  {
   "cell_type": "code",
   "execution_count": 17,
   "id": "e7c44dbd",
   "metadata": {},
   "outputs": [
    {
     "data": {
      "text/html": [
       "<div>\n",
       "<style scoped>\n",
       "    .dataframe tbody tr th:only-of-type {\n",
       "        vertical-align: middle;\n",
       "    }\n",
       "\n",
       "    .dataframe tbody tr th {\n",
       "        vertical-align: top;\n",
       "    }\n",
       "\n",
       "    .dataframe thead th {\n",
       "        text-align: right;\n",
       "    }\n",
       "</style>\n",
       "<table border=\"1\" class=\"dataframe\">\n",
       "  <thead>\n",
       "    <tr style=\"text-align: right;\">\n",
       "      <th></th>\n",
       "      <th>ID</th>\n",
       "      <th>Length</th>\n",
       "      <th>Birthweight</th>\n",
       "      <th>Headcirc</th>\n",
       "      <th>Gestation</th>\n",
       "      <th>smoker</th>\n",
       "      <th>mage</th>\n",
       "      <th>mnocig</th>\n",
       "      <th>mheight</th>\n",
       "      <th>mppwt</th>\n",
       "      <th>fage</th>\n",
       "      <th>fedyrs</th>\n",
       "      <th>fnocig</th>\n",
       "      <th>fheight</th>\n",
       "      <th>lowbwt</th>\n",
       "      <th>mage35</th>\n",
       "      <th>Birthweightgrams</th>\n",
       "    </tr>\n",
       "  </thead>\n",
       "  <tbody>\n",
       "    <tr>\n",
       "      <th>0</th>\n",
       "      <td>1360</td>\n",
       "      <td>56</td>\n",
       "      <td>4.55</td>\n",
       "      <td>34</td>\n",
       "      <td>44</td>\n",
       "      <td>0</td>\n",
       "      <td>20</td>\n",
       "      <td>0</td>\n",
       "      <td>162</td>\n",
       "      <td>57</td>\n",
       "      <td>23</td>\n",
       "      <td>10</td>\n",
       "      <td>35</td>\n",
       "      <td>179</td>\n",
       "      <td>0</td>\n",
       "      <td>0</td>\n",
       "      <td>4550</td>\n",
       "    </tr>\n",
       "    <tr>\n",
       "      <th>1</th>\n",
       "      <td>1016</td>\n",
       "      <td>53</td>\n",
       "      <td>4.32</td>\n",
       "      <td>36</td>\n",
       "      <td>40</td>\n",
       "      <td>0</td>\n",
       "      <td>19</td>\n",
       "      <td>0</td>\n",
       "      <td>171</td>\n",
       "      <td>62</td>\n",
       "      <td>19</td>\n",
       "      <td>12</td>\n",
       "      <td>0</td>\n",
       "      <td>183</td>\n",
       "      <td>0</td>\n",
       "      <td>0</td>\n",
       "      <td>4320</td>\n",
       "    </tr>\n",
       "    <tr>\n",
       "      <th>2</th>\n",
       "      <td>462</td>\n",
       "      <td>58</td>\n",
       "      <td>4.10</td>\n",
       "      <td>39</td>\n",
       "      <td>41</td>\n",
       "      <td>0</td>\n",
       "      <td>35</td>\n",
       "      <td>0</td>\n",
       "      <td>172</td>\n",
       "      <td>58</td>\n",
       "      <td>31</td>\n",
       "      <td>16</td>\n",
       "      <td>25</td>\n",
       "      <td>185</td>\n",
       "      <td>0</td>\n",
       "      <td>1</td>\n",
       "      <td>4100</td>\n",
       "    </tr>\n",
       "    <tr>\n",
       "      <th>3</th>\n",
       "      <td>1187</td>\n",
       "      <td>53</td>\n",
       "      <td>4.07</td>\n",
       "      <td>38</td>\n",
       "      <td>44</td>\n",
       "      <td>0</td>\n",
       "      <td>20</td>\n",
       "      <td>0</td>\n",
       "      <td>174</td>\n",
       "      <td>68</td>\n",
       "      <td>26</td>\n",
       "      <td>14</td>\n",
       "      <td>25</td>\n",
       "      <td>189</td>\n",
       "      <td>0</td>\n",
       "      <td>0</td>\n",
       "      <td>4070</td>\n",
       "    </tr>\n",
       "    <tr>\n",
       "      <th>4</th>\n",
       "      <td>553</td>\n",
       "      <td>54</td>\n",
       "      <td>3.94</td>\n",
       "      <td>37</td>\n",
       "      <td>42</td>\n",
       "      <td>0</td>\n",
       "      <td>24</td>\n",
       "      <td>0</td>\n",
       "      <td>175</td>\n",
       "      <td>66</td>\n",
       "      <td>30</td>\n",
       "      <td>12</td>\n",
       "      <td>0</td>\n",
       "      <td>184</td>\n",
       "      <td>0</td>\n",
       "      <td>0</td>\n",
       "      <td>3940</td>\n",
       "    </tr>\n",
       "  </tbody>\n",
       "</table>\n",
       "</div>"
      ],
      "text/plain": [
       "     ID  Length  Birthweight  Headcirc  Gestation  smoker  mage  mnocig  \\\n",
       "0  1360      56         4.55        34         44       0    20       0   \n",
       "1  1016      53         4.32        36         40       0    19       0   \n",
       "2   462      58         4.10        39         41       0    35       0   \n",
       "3  1187      53         4.07        38         44       0    20       0   \n",
       "4   553      54         3.94        37         42       0    24       0   \n",
       "\n",
       "   mheight  mppwt  fage  fedyrs  fnocig  fheight  lowbwt  mage35  \\\n",
       "0      162     57    23      10      35      179       0       0   \n",
       "1      171     62    19      12       0      183       0       0   \n",
       "2      172     58    31      16      25      185       0       1   \n",
       "3      174     68    26      14      25      189       0       0   \n",
       "4      175     66    30      12       0      184       0       0   \n",
       "\n",
       "   Birthweightgrams  \n",
       "0              4550  \n",
       "1              4320  \n",
       "2              4100  \n",
       "3              4070  \n",
       "4              3940  "
      ]
     },
     "execution_count": 17,
     "metadata": {},
     "output_type": "execute_result"
    }
   ],
   "source": [
    "df.head()"
   ]
  },
  {
   "cell_type": "code",
   "execution_count": 33,
   "id": "1e709508",
   "metadata": {},
   "outputs": [],
   "source": [
    "inputs = df[['Gestation','mage','mheight','mppwt']]\n",
    "output = df['Birthweightgrams']"
   ]
  },
  {
   "cell_type": "code",
   "execution_count": 34,
   "id": "500a63cf",
   "metadata": {},
   "outputs": [],
   "source": [
    "knn =nei.KNeighborsClassifier(n_neighbors=3)"
   ]
  },
  {
   "cell_type": "code",
   "execution_count": 35,
   "id": "23d0f873",
   "metadata": {},
   "outputs": [
    {
     "data": {
      "text/plain": [
       "KNeighborsClassifier(n_neighbors=3)"
      ]
     },
     "execution_count": 35,
     "metadata": {},
     "output_type": "execute_result"
    }
   ],
   "source": [
    "knn.fit(inputs, output)"
   ]
  },
  {
   "cell_type": "code",
   "execution_count": 36,
   "id": "5c177760",
   "metadata": {},
   "outputs": [
    {
     "data": {
      "text/plain": [
       "ID                  1016.00\n",
       "Length                53.00\n",
       "Birthweight            4.32\n",
       "Headcirc              36.00\n",
       "Gestation             40.00\n",
       "smoker                 0.00\n",
       "mage                  19.00\n",
       "mnocig                 0.00\n",
       "mheight              171.00\n",
       "mppwt                 62.00\n",
       "fage                  19.00\n",
       "fedyrs                12.00\n",
       "fnocig                 0.00\n",
       "fheight              183.00\n",
       "lowbwt                 0.00\n",
       "mage35                 0.00\n",
       "Birthweightgrams    4320.00\n",
       "Name: 1, dtype: float64"
      ]
     },
     "execution_count": 36,
     "metadata": {},
     "output_type": "execute_result"
    }
   ],
   "source": [
    "df.loc[1]"
   ]
  },
  {
   "cell_type": "code",
   "execution_count": 38,
   "id": "c22fbfe3",
   "metadata": {},
   "outputs": [
    {
     "data": {
      "text/plain": [
       "array([3640])"
      ]
     },
     "execution_count": 38,
     "metadata": {},
     "output_type": "execute_result"
    }
   ],
   "source": [
    "knn.predict([[40,19,171,62]])"
   ]
  },
  {
   "cell_type": "code",
   "execution_count": 43,
   "id": "3c31279a",
   "metadata": {},
   "outputs": [
    {
     "data": {
      "text/plain": [
       "array([2750])"
      ]
     },
     "execution_count": 43,
     "metadata": {},
     "output_type": "execute_result"
    }
   ],
   "source": [
    "knn.predict([[40,38,175,76]])"
   ]
  },
  {
   "cell_type": "code",
   "execution_count": 31,
   "id": "7089bc82",
   "metadata": {},
   "outputs": [
    {
     "data": {
      "text/plain": [
       "ID                   462.0\n",
       "Length                58.0\n",
       "Birthweight            4.1\n",
       "Headcirc              39.0\n",
       "Gestation             41.0\n",
       "smoker                 0.0\n",
       "mage                  35.0\n",
       "mnocig                 0.0\n",
       "mheight              172.0\n",
       "mppwt                 58.0\n",
       "fage                  31.0\n",
       "fedyrs                16.0\n",
       "fnocig                25.0\n",
       "fheight              185.0\n",
       "lowbwt                 0.0\n",
       "mage35                 1.0\n",
       "Birthweightgrams    4100.0\n",
       "Name: 2, dtype: float64"
      ]
     },
     "execution_count": 31,
     "metadata": {},
     "output_type": "execute_result"
    }
   ],
   "source": [
    "df.loc[2]"
   ]
  },
  {
   "cell_type": "code",
   "execution_count": 41,
   "id": "96a63c12",
   "metadata": {},
   "outputs": [
    {
     "data": {
      "text/plain": [
       "array([2750])"
      ]
     },
     "execution_count": 41,
     "metadata": {},
     "output_type": "execute_result"
    }
   ],
   "source": [
    "knn.predict([[41,35,172,58]])"
   ]
  },
  {
   "cell_type": "code",
   "execution_count": null,
   "id": "62cb0a00",
   "metadata": {},
   "outputs": [],
   "source": []
  },
  {
   "cell_type": "code",
   "execution_count": 44,
   "id": "425c3673",
   "metadata": {},
   "outputs": [],
   "source": [
    "# setting up the data for the pairplots \n",
    "bubbas= df[['Gestation','mage','mheight','mppwt','Birthweightgrams']]"
   ]
  },
  {
   "cell_type": "code",
   "execution_count": 45,
   "id": "18e365de",
   "metadata": {},
   "outputs": [
    {
     "data": {
      "image/png": "[encoded data removed]",
      "text/plain": [
       "<Figure size 900x900 with 30 Axes>"
      ]
     },
     "metadata": {
      "needs_background": "light"
     },
     "output_type": "display_data"
    }
   ],
   "source": [
    "g = sns.pairplot(data=bubbas,\n",
    "               palette=['red','blue','green'])"
   ]
  },
  {
   "cell_type": "code",
   "execution_count": 47,
   "id": "4a3addab",
   "metadata": {},
   "outputs": [],
   "source": [
    "dfsmoke=df[df['smoker']==1]\n",
    "dfnon=df[df['smoker']==0]"
   ]
  },
  {
   "cell_type": "code",
   "execution_count": 51,
   "id": "a5f314fd",
   "metadata": {},
   "outputs": [
    {
     "data": {
      "text/html": [
       "<div>\n",
       "<style scoped>\n",
       "    .dataframe tbody tr th:only-of-type {\n",
       "        vertical-align: middle;\n",
       "    }\n",
       "\n",
       "    .dataframe tbody tr th {\n",
       "        vertical-align: top;\n",
       "    }\n",
       "\n",
       "    .dataframe thead th {\n",
       "        text-align: right;\n",
       "    }\n",
       "</style>\n",
       "<table border=\"1\" class=\"dataframe\">\n",
       "  <thead>\n",
       "    <tr style=\"text-align: right;\">\n",
       "      <th></th>\n",
       "      <th>Gestation</th>\n",
       "      <th>mage</th>\n",
       "      <th>mheight</th>\n",
       "      <th>mppwt</th>\n",
       "      <th>Birthweightgrams</th>\n",
       "      <th>smoker</th>\n",
       "    </tr>\n",
       "  </thead>\n",
       "  <tbody>\n",
       "    <tr>\n",
       "      <th>0</th>\n",
       "      <td>44</td>\n",
       "      <td>20</td>\n",
       "      <td>162</td>\n",
       "      <td>57</td>\n",
       "      <td>4550</td>\n",
       "      <td>0</td>\n",
       "    </tr>\n",
       "    <tr>\n",
       "      <th>1</th>\n",
       "      <td>40</td>\n",
       "      <td>19</td>\n",
       "      <td>171</td>\n",
       "      <td>62</td>\n",
       "      <td>4320</td>\n",
       "      <td>0</td>\n",
       "    </tr>\n",
       "    <tr>\n",
       "      <th>2</th>\n",
       "      <td>41</td>\n",
       "      <td>35</td>\n",
       "      <td>172</td>\n",
       "      <td>58</td>\n",
       "      <td>4100</td>\n",
       "      <td>0</td>\n",
       "    </tr>\n",
       "    <tr>\n",
       "      <th>3</th>\n",
       "      <td>44</td>\n",
       "      <td>20</td>\n",
       "      <td>174</td>\n",
       "      <td>68</td>\n",
       "      <td>4070</td>\n",
       "      <td>0</td>\n",
       "    </tr>\n",
       "    <tr>\n",
       "      <th>4</th>\n",
       "      <td>42</td>\n",
       "      <td>24</td>\n",
       "      <td>175</td>\n",
       "      <td>66</td>\n",
       "      <td>3940</td>\n",
       "      <td>0</td>\n",
       "    </tr>\n",
       "    <tr>\n",
       "      <th>5</th>\n",
       "      <td>38</td>\n",
       "      <td>29</td>\n",
       "      <td>165</td>\n",
       "      <td>61</td>\n",
       "      <td>3930</td>\n",
       "      <td>0</td>\n",
       "    </tr>\n",
       "    <tr>\n",
       "      <th>6</th>\n",
       "      <td>40</td>\n",
       "      <td>24</td>\n",
       "      <td>157</td>\n",
       "      <td>50</td>\n",
       "      <td>3770</td>\n",
       "      <td>0</td>\n",
       "    </tr>\n",
       "    <tr>\n",
       "      <th>7</th>\n",
       "      <td>42</td>\n",
       "      <td>21</td>\n",
       "      <td>165</td>\n",
       "      <td>61</td>\n",
       "      <td>3650</td>\n",
       "      <td>0</td>\n",
       "    </tr>\n",
       "    <tr>\n",
       "      <th>8</th>\n",
       "      <td>38</td>\n",
       "      <td>18</td>\n",
       "      <td>172</td>\n",
       "      <td>50</td>\n",
       "      <td>3630</td>\n",
       "      <td>0</td>\n",
       "    </tr>\n",
       "    <tr>\n",
       "      <th>9</th>\n",
       "      <td>38</td>\n",
       "      <td>20</td>\n",
       "      <td>157</td>\n",
       "      <td>48</td>\n",
       "      <td>3420</td>\n",
       "      <td>0</td>\n",
       "    </tr>\n",
       "    <tr>\n",
       "      <th>10</th>\n",
       "      <td>41</td>\n",
       "      <td>27</td>\n",
       "      <td>164</td>\n",
       "      <td>62</td>\n",
       "      <td>3350</td>\n",
       "      <td>0</td>\n",
       "    </tr>\n",
       "    <tr>\n",
       "      <th>11</th>\n",
       "      <td>40</td>\n",
       "      <td>24</td>\n",
       "      <td>168</td>\n",
       "      <td>53</td>\n",
       "      <td>3270</td>\n",
       "      <td>0</td>\n",
       "    </tr>\n",
       "    <tr>\n",
       "      <th>12</th>\n",
       "      <td>38</td>\n",
       "      <td>31</td>\n",
       "      <td>164</td>\n",
       "      <td>57</td>\n",
       "      <td>3230</td>\n",
       "      <td>0</td>\n",
       "    </tr>\n",
       "    <tr>\n",
       "      <th>13</th>\n",
       "      <td>41</td>\n",
       "      <td>21</td>\n",
       "      <td>155</td>\n",
       "      <td>55</td>\n",
       "      <td>3200</td>\n",
       "      <td>0</td>\n",
       "    </tr>\n",
       "    <tr>\n",
       "      <th>14</th>\n",
       "      <td>40</td>\n",
       "      <td>29</td>\n",
       "      <td>167</td>\n",
       "      <td>60</td>\n",
       "      <td>3150</td>\n",
       "      <td>0</td>\n",
       "    </tr>\n",
       "    <tr>\n",
       "      <th>15</th>\n",
       "      <td>37</td>\n",
       "      <td>28</td>\n",
       "      <td>158</td>\n",
       "      <td>54</td>\n",
       "      <td>3110</td>\n",
       "      <td>0</td>\n",
       "    </tr>\n",
       "    <tr>\n",
       "      <th>16</th>\n",
       "      <td>39</td>\n",
       "      <td>27</td>\n",
       "      <td>162</td>\n",
       "      <td>62</td>\n",
       "      <td>3030</td>\n",
       "      <td>0</td>\n",
       "    </tr>\n",
       "    <tr>\n",
       "      <th>17</th>\n",
       "      <td>34</td>\n",
       "      <td>26</td>\n",
       "      <td>167</td>\n",
       "      <td>64</td>\n",
       "      <td>2920</td>\n",
       "      <td>0</td>\n",
       "    </tr>\n",
       "    <tr>\n",
       "      <th>18</th>\n",
       "      <td>39</td>\n",
       "      <td>19</td>\n",
       "      <td>165</td>\n",
       "      <td>57</td>\n",
       "      <td>2900</td>\n",
       "      <td>0</td>\n",
       "    </tr>\n",
       "    <tr>\n",
       "      <th>19</th>\n",
       "      <td>33</td>\n",
       "      <td>24</td>\n",
       "      <td>149</td>\n",
       "      <td>45</td>\n",
       "      <td>2650</td>\n",
       "      <td>0</td>\n",
       "    </tr>\n",
       "    <tr>\n",
       "      <th>20</th>\n",
       "      <td>40</td>\n",
       "      <td>20</td>\n",
       "      <td>170</td>\n",
       "      <td>59</td>\n",
       "      <td>3640</td>\n",
       "      <td>1</td>\n",
       "    </tr>\n",
       "    <tr>\n",
       "      <th>21</th>\n",
       "      <td>41</td>\n",
       "      <td>22</td>\n",
       "      <td>160</td>\n",
       "      <td>53</td>\n",
       "      <td>3140</td>\n",
       "      <td>1</td>\n",
       "    </tr>\n",
       "    <tr>\n",
       "      <th>22</th>\n",
       "      <td>37</td>\n",
       "      <td>19</td>\n",
       "      <td>165</td>\n",
       "      <td>60</td>\n",
       "      <td>2780</td>\n",
       "      <td>1</td>\n",
       "    </tr>\n",
       "    <tr>\n",
       "      <th>23</th>\n",
       "      <td>39</td>\n",
       "      <td>22</td>\n",
       "      <td>159</td>\n",
       "      <td>52</td>\n",
       "      <td>2510</td>\n",
       "      <td>1</td>\n",
       "    </tr>\n",
       "    <tr>\n",
       "      <th>24</th>\n",
       "      <td>37</td>\n",
       "      <td>20</td>\n",
       "      <td>163</td>\n",
       "      <td>47</td>\n",
       "      <td>2370</td>\n",
       "      <td>1</td>\n",
       "    </tr>\n",
       "    <tr>\n",
       "      <th>25</th>\n",
       "      <td>35</td>\n",
       "      <td>41</td>\n",
       "      <td>166</td>\n",
       "      <td>57</td>\n",
       "      <td>2050</td>\n",
       "      <td>1</td>\n",
       "    </tr>\n",
       "    <tr>\n",
       "      <th>26</th>\n",
       "      <td>33</td>\n",
       "      <td>20</td>\n",
       "      <td>161</td>\n",
       "      <td>50</td>\n",
       "      <td>1920</td>\n",
       "      <td>1</td>\n",
       "    </tr>\n",
       "    <tr>\n",
       "      <th>27</th>\n",
       "      <td>41</td>\n",
       "      <td>32</td>\n",
       "      <td>173</td>\n",
       "      <td>70</td>\n",
       "      <td>4570</td>\n",
       "      <td>1</td>\n",
       "    </tr>\n",
       "    <tr>\n",
       "      <th>28</th>\n",
       "      <td>40</td>\n",
       "      <td>31</td>\n",
       "      <td>163</td>\n",
       "      <td>49</td>\n",
       "      <td>3590</td>\n",
       "      <td>1</td>\n",
       "    </tr>\n",
       "    <tr>\n",
       "      <th>29</th>\n",
       "      <td>40</td>\n",
       "      <td>27</td>\n",
       "      <td>152</td>\n",
       "      <td>48</td>\n",
       "      <td>3320</td>\n",
       "      <td>1</td>\n",
       "    </tr>\n",
       "    <tr>\n",
       "      <th>30</th>\n",
       "      <td>38</td>\n",
       "      <td>30</td>\n",
       "      <td>165</td>\n",
       "      <td>64</td>\n",
       "      <td>3000</td>\n",
       "      <td>1</td>\n",
       "    </tr>\n",
       "    <tr>\n",
       "      <th>31</th>\n",
       "      <td>39</td>\n",
       "      <td>23</td>\n",
       "      <td>157</td>\n",
       "      <td>48</td>\n",
       "      <td>3320</td>\n",
       "      <td>1</td>\n",
       "    </tr>\n",
       "    <tr>\n",
       "      <th>32</th>\n",
       "      <td>39</td>\n",
       "      <td>21</td>\n",
       "      <td>156</td>\n",
       "      <td>53</td>\n",
       "      <td>2740</td>\n",
       "      <td>1</td>\n",
       "    </tr>\n",
       "    <tr>\n",
       "      <th>33</th>\n",
       "      <td>45</td>\n",
       "      <td>28</td>\n",
       "      <td>163</td>\n",
       "      <td>54</td>\n",
       "      <td>3870</td>\n",
       "      <td>1</td>\n",
       "    </tr>\n",
       "    <tr>\n",
       "      <th>34</th>\n",
       "      <td>39</td>\n",
       "      <td>30</td>\n",
       "      <td>170</td>\n",
       "      <td>78</td>\n",
       "      <td>3860</td>\n",
       "      <td>1</td>\n",
       "    </tr>\n",
       "    <tr>\n",
       "      <th>35</th>\n",
       "      <td>41</td>\n",
       "      <td>37</td>\n",
       "      <td>161</td>\n",
       "      <td>66</td>\n",
       "      <td>3550</td>\n",
       "      <td>1</td>\n",
       "    </tr>\n",
       "    <tr>\n",
       "      <th>36</th>\n",
       "      <td>40</td>\n",
       "      <td>26</td>\n",
       "      <td>170</td>\n",
       "      <td>62</td>\n",
       "      <td>3530</td>\n",
       "      <td>1</td>\n",
       "    </tr>\n",
       "    <tr>\n",
       "      <th>37</th>\n",
       "      <td>39</td>\n",
       "      <td>23</td>\n",
       "      <td>181</td>\n",
       "      <td>69</td>\n",
       "      <td>3410</td>\n",
       "      <td>1</td>\n",
       "    </tr>\n",
       "    <tr>\n",
       "      <th>38</th>\n",
       "      <td>38</td>\n",
       "      <td>31</td>\n",
       "      <td>162</td>\n",
       "      <td>57</td>\n",
       "      <td>3180</td>\n",
       "      <td>1</td>\n",
       "    </tr>\n",
       "    <tr>\n",
       "      <th>39</th>\n",
       "      <td>41</td>\n",
       "      <td>27</td>\n",
       "      <td>163</td>\n",
       "      <td>51</td>\n",
       "      <td>3190</td>\n",
       "      <td>1</td>\n",
       "    </tr>\n",
       "    <tr>\n",
       "      <th>40</th>\n",
       "      <td>35</td>\n",
       "      <td>20</td>\n",
       "      <td>170</td>\n",
       "      <td>57</td>\n",
       "      <td>2660</td>\n",
       "      <td>1</td>\n",
       "    </tr>\n",
       "    <tr>\n",
       "      <th>41</th>\n",
       "      <td>40</td>\n",
       "      <td>37</td>\n",
       "      <td>168</td>\n",
       "      <td>61</td>\n",
       "      <td>2750</td>\n",
       "      <td>1</td>\n",
       "    </tr>\n",
       "  </tbody>\n",
       "</table>\n",
       "</div>"
      ],
      "text/plain": [
       "    Gestation  mage  mheight  mppwt  Birthweightgrams  smoker\n",
       "0          44    20      162     57              4550       0\n",
       "1          40    19      171     62              4320       0\n",
       "2          41    35      172     58              4100       0\n",
       "3          44    20      174     68              4070       0\n",
       "4          42    24      175     66              3940       0\n",
       "5          38    29      165     61              3930       0\n",
       "6          40    24      157     50              3770       0\n",
       "7          42    21      165     61              3650       0\n",
       "8          38    18      172     50              3630       0\n",
       "9          38    20      157     48              3420       0\n",
       "10         41    27      164     62              3350       0\n",
       "11         40    24      168     53              3270       0\n",
       "12         38    31      164     57              3230       0\n",
       "13         41    21      155     55              3200       0\n",
       "14         40    29      167     60              3150       0\n",
       "15         37    28      158     54              3110       0\n",
       "16         39    27      162     62              3030       0\n",
       "17         34    26      167     64              2920       0\n",
       "18         39    19      165     57              2900       0\n",
       "19         33    24      149     45              2650       0\n",
       "20         40    20      170     59              3640       1\n",
       "21         41    22      160     53              3140       1\n",
       "22         37    19      165     60              2780       1\n",
       "23         39    22      159     52              2510       1\n",
       "24         37    20      163     47              2370       1\n",
       "25         35    41      166     57              2050       1\n",
       "26         33    20      161     50              1920       1\n",
       "27         41    32      173     70              4570       1\n",
       "28         40    31      163     49              3590       1\n",
       "29         40    27      152     48              3320       1\n",
       "30         38    30      165     64              3000       1\n",
       "31         39    23      157     48              3320       1\n",
       "32         39    21      156     53              2740       1\n",
       "33         45    28      163     54              3870       1\n",
       "34         39    30      170     78              3860       1\n",
       "35         41    37      161     66              3550       1\n",
       "36         40    26      170     62              3530       1\n",
       "37         39    23      181     69              3410       1\n",
       "38         38    31      162     57              3180       1\n",
       "39         41    27      163     51              3190       1\n",
       "40         35    20      170     57              2660       1\n",
       "41         40    37      168     61              2750       1"
      ]
     },
     "execution_count": 51,
     "metadata": {},
     "output_type": "execute_result"
    }
   ],
   "source": [
    "wobubba = df[['Gestation','mage','mheight','mppwt','Birthweightgrams','smoker']]\n",
    "wobubba"
   ]
  },
  {
   "cell_type": "code",
   "execution_count": 55,
   "id": "ca2da645",
   "metadata": {},
   "outputs": [
    {
     "data": {
      "image/png": "[encoded data removed]",
      "text/plain": [
       "<Figure size 944.5x900 with 30 Axes>"
      ]
     },
     "metadata": {
      "needs_background": "light"
     },
     "output_type": "display_data"
    }
   ],
   "source": [
    "g = sns.pairplot(hue=\"smoker\",data=wobubba,\n",
    "               palette=['red','blue'])"
   ]
  },
  {
   "cell_type": "code",
   "execution_count": null,
   "id": "144e81b6",
   "metadata": {},
   "outputs": [],
   "source": []
  },
  {
   "cell_type": "code",
   "execution_count": 73,
   "id": "94bf7e1c",
   "metadata": {},
   "outputs": [],
   "source": [
    "train,test = mod.train_test_split(wobubba)"
   ]
  },
  {
   "cell_type": "code",
   "execution_count": 83,
   "id": "e26f5d4b",
   "metadata": {},
   "outputs": [],
   "source": [
    "inputs , output = train[['mheight','mppwt']], train['Birthweightgrams']"
   ]
  },
  {
   "cell_type": "code",
   "execution_count": 84,
   "id": "ae7beb3d",
   "metadata": {},
   "outputs": [
    {
     "data": {
      "text/html": [
       "<div>\n",
       "<style scoped>\n",
       "    .dataframe tbody tr th:only-of-type {\n",
       "        vertical-align: middle;\n",
       "    }\n",
       "\n",
       "    .dataframe tbody tr th {\n",
       "        vertical-align: top;\n",
       "    }\n",
       "\n",
       "    .dataframe thead th {\n",
       "        text-align: right;\n",
       "    }\n",
       "</style>\n",
       "<table border=\"1\" class=\"dataframe\">\n",
       "  <thead>\n",
       "    <tr style=\"text-align: right;\">\n",
       "      <th></th>\n",
       "      <th>mheight</th>\n",
       "      <th>mppwt</th>\n",
       "    </tr>\n",
       "  </thead>\n",
       "  <tbody>\n",
       "    <tr>\n",
       "      <th>26</th>\n",
       "      <td>161</td>\n",
       "      <td>50</td>\n",
       "    </tr>\n",
       "    <tr>\n",
       "      <th>14</th>\n",
       "      <td>167</td>\n",
       "      <td>60</td>\n",
       "    </tr>\n",
       "    <tr>\n",
       "      <th>12</th>\n",
       "      <td>164</td>\n",
       "      <td>57</td>\n",
       "    </tr>\n",
       "    <tr>\n",
       "      <th>13</th>\n",
       "      <td>155</td>\n",
       "      <td>55</td>\n",
       "    </tr>\n",
       "    <tr>\n",
       "      <th>34</th>\n",
       "      <td>170</td>\n",
       "      <td>78</td>\n",
       "    </tr>\n",
       "  </tbody>\n",
       "</table>\n",
       "</div>"
      ],
      "text/plain": [
       "    mheight  mppwt\n",
       "26      161     50\n",
       "14      167     60\n",
       "12      164     57\n",
       "13      155     55\n",
       "34      170     78"
      ]
     },
     "execution_count": 84,
     "metadata": {},
     "output_type": "execute_result"
    }
   ],
   "source": [
    "inputs.head()"
   ]
  },
  {
   "cell_type": "code",
   "execution_count": 85,
   "id": "c1113fb4",
   "metadata": {},
   "outputs": [
    {
     "data": {
      "text/plain": [
       "26    1920\n",
       "14    3150\n",
       "12    3230\n",
       "13    3200\n",
       "34    3860\n",
       "Name: Birthweightgrams, dtype: int32"
      ]
     },
     "execution_count": 85,
     "metadata": {},
     "output_type": "execute_result"
    }
   ],
   "source": [
    "output.head()"
   ]
  },
  {
   "cell_type": "code",
   "execution_count": 86,
   "id": "5f89e17f",
   "metadata": {},
   "outputs": [],
   "source": [
    "lre2=lm.LogisticRegression(random_state=0, max_iter=5000)"
   ]
  },
  {
   "cell_type": "code",
   "execution_count": 87,
   "id": "f773feca",
   "metadata": {},
   "outputs": [
    {
     "data": {
      "text/plain": [
       "LogisticRegression(max_iter=5000, random_state=0)"
      ]
     },
     "execution_count": 87,
     "metadata": {},
     "output_type": "execute_result"
    }
   ],
   "source": [
    "lre2.fit(inputs,output)"
   ]
  },
  {
   "cell_type": "code",
   "execution_count": 88,
   "id": "201e1f12",
   "metadata": {},
   "outputs": [
    {
     "data": {
      "text/plain": [
       "False    1.0\n",
       "Name: Birthweightgrams, dtype: float64"
      ]
     },
     "execution_count": 88,
     "metadata": {},
     "output_type": "execute_result"
    }
   ],
   "source": [
    "predictions =lre2.predict(test[['mheight','mppwt']])\n",
    "(predictions == test['Birthweightgrams']).value_counts(normalize =True)"
   ]
  },
  {
   "cell_type": "code",
   "execution_count": null,
   "id": "d0425995",
   "metadata": {},
   "outputs": [],
   "source": []
  },
  {
   "cell_type": "code",
   "execution_count": null,
   "id": "0a27b7b1",
   "metadata": {},
   "outputs": [],
   "source": []
  }
 ],
 "metadata": {
  "kernelspec": {
   "display_name": "Python 3",
   "language": "python",
   "name": "python3"
  },
  "language_info": {
   "codemirror_mode": {
    "name": "ipython",
    "version": 3
   },
   "file_extension": ".py",
   "mimetype": "text/x-python",
   "name": "python",
   "nbconvert_exporter": "python",
   "pygments_lexer": "ipython3",
   "version": "3.8.8"
  }
 },
 "nbformat": 4,
 "nbformat_minor": 5
}
