{
 "cells": [
  {
   "cell_type": "code",
   "execution_count": 1,
   "id": "1c4b9751",
   "metadata": {},
   "outputs": [],
   "source": [
    "#importing the required packes for  use in the study.\n",
    "import pandas as pd\n",
    "import numpy as np\n",
    "import seaborn as sns\n",
    "import matplotlib.pyplot as plt\n",
    "import scipy.stats as stats\n",
    "from scipy.stats import ttest_rel\n",
    "import pingouin as pg\n",
    "\n",
    "# setting the graph size\n",
    "plt.rcParams[\"figure.figsize\"] =(10,6)"
   ]
  },
  {
   "cell_type": "code",
   "execution_count": 2,
   "id": "77c42c1d",
   "metadata": {},
   "outputs": [
    {
     "data": {
      "text/html": [
       "<div>\n",
       "<style scoped>\n",
       "    .dataframe tbody tr th:only-of-type {\n",
       "        vertical-align: middle;\n",
       "    }\n",
       "\n",
       "    .dataframe tbody tr th {\n",
       "        vertical-align: top;\n",
       "    }\n",
       "\n",
       "    .dataframe thead th {\n",
       "        text-align: right;\n",
       "    }\n",
       "</style>\n",
       "<table border=\"1\" class=\"dataframe\">\n",
       "  <thead>\n",
       "    <tr style=\"text-align: right;\">\n",
       "      <th></th>\n",
       "      <th>ID</th>\n",
       "      <th>Length</th>\n",
       "      <th>Birthweight</th>\n",
       "      <th>Headcirc</th>\n",
       "      <th>Gestation</th>\n",
       "      <th>smoker</th>\n",
       "      <th>mage</th>\n",
       "      <th>mnocig</th>\n",
       "      <th>mheight</th>\n",
       "      <th>mppwt</th>\n",
       "      <th>fage</th>\n",
       "      <th>fedyrs</th>\n",
       "      <th>fnocig</th>\n",
       "      <th>fheight</th>\n",
       "      <th>lowbwt</th>\n",
       "      <th>mage35</th>\n",
       "    </tr>\n",
       "  </thead>\n",
       "  <tbody>\n",
       "    <tr>\n",
       "      <th>37</th>\n",
       "      <td>619</td>\n",
       "      <td>52</td>\n",
       "      <td>3.41</td>\n",
       "      <td>33</td>\n",
       "      <td>39</td>\n",
       "      <td>1</td>\n",
       "      <td>23</td>\n",
       "      <td>25</td>\n",
       "      <td>181</td>\n",
       "      <td>69</td>\n",
       "      <td>23</td>\n",
       "      <td>16</td>\n",
       "      <td>2</td>\n",
       "      <td>181</td>\n",
       "      <td>0</td>\n",
       "      <td>0</td>\n",
       "    </tr>\n",
       "    <tr>\n",
       "      <th>38</th>\n",
       "      <td>1369</td>\n",
       "      <td>49</td>\n",
       "      <td>3.18</td>\n",
       "      <td>34</td>\n",
       "      <td>38</td>\n",
       "      <td>1</td>\n",
       "      <td>31</td>\n",
       "      <td>25</td>\n",
       "      <td>162</td>\n",
       "      <td>57</td>\n",
       "      <td>32</td>\n",
       "      <td>16</td>\n",
       "      <td>50</td>\n",
       "      <td>194</td>\n",
       "      <td>0</td>\n",
       "      <td>0</td>\n",
       "    </tr>\n",
       "    <tr>\n",
       "      <th>39</th>\n",
       "      <td>1262</td>\n",
       "      <td>53</td>\n",
       "      <td>3.19</td>\n",
       "      <td>34</td>\n",
       "      <td>41</td>\n",
       "      <td>1</td>\n",
       "      <td>27</td>\n",
       "      <td>35</td>\n",
       "      <td>163</td>\n",
       "      <td>51</td>\n",
       "      <td>31</td>\n",
       "      <td>16</td>\n",
       "      <td>25</td>\n",
       "      <td>185</td>\n",
       "      <td>0</td>\n",
       "      <td>0</td>\n",
       "    </tr>\n",
       "    <tr>\n",
       "      <th>40</th>\n",
       "      <td>516</td>\n",
       "      <td>47</td>\n",
       "      <td>2.66</td>\n",
       "      <td>33</td>\n",
       "      <td>35</td>\n",
       "      <td>1</td>\n",
       "      <td>20</td>\n",
       "      <td>35</td>\n",
       "      <td>170</td>\n",
       "      <td>57</td>\n",
       "      <td>23</td>\n",
       "      <td>12</td>\n",
       "      <td>50</td>\n",
       "      <td>186</td>\n",
       "      <td>1</td>\n",
       "      <td>0</td>\n",
       "    </tr>\n",
       "    <tr>\n",
       "      <th>41</th>\n",
       "      <td>1272</td>\n",
       "      <td>53</td>\n",
       "      <td>2.75</td>\n",
       "      <td>32</td>\n",
       "      <td>40</td>\n",
       "      <td>1</td>\n",
       "      <td>37</td>\n",
       "      <td>50</td>\n",
       "      <td>168</td>\n",
       "      <td>61</td>\n",
       "      <td>31</td>\n",
       "      <td>16</td>\n",
       "      <td>0</td>\n",
       "      <td>173</td>\n",
       "      <td>0</td>\n",
       "      <td>1</td>\n",
       "    </tr>\n",
       "  </tbody>\n",
       "</table>\n",
       "</div>"
      ],
      "text/plain": [
       "      ID  Length  Birthweight  Headcirc  Gestation  smoker  mage  mnocig  \\\n",
       "37   619      52         3.41        33         39       1    23      25   \n",
       "38  1369      49         3.18        34         38       1    31      25   \n",
       "39  1262      53         3.19        34         41       1    27      35   \n",
       "40   516      47         2.66        33         35       1    20      35   \n",
       "41  1272      53         2.75        32         40       1    37      50   \n",
       "\n",
       "    mheight  mppwt  fage  fedyrs  fnocig  fheight  lowbwt  mage35  \n",
       "37      181     69    23      16       2      181       0       0  \n",
       "38      162     57    32      16      50      194       0       0  \n",
       "39      163     51    31      16      25      185       0       0  \n",
       "40      170     57    23      12      50      186       1       0  \n",
       "41      168     61    31      16       0      173       0       1  "
      ]
     },
     "execution_count": 2,
     "metadata": {},
     "output_type": "execute_result"
    }
   ],
   "source": [
    "# eyball the data\n",
    "df = pd.read_csv('data/birthdata.csv')\n",
    "df.tail()"
   ]
  },
  {
   "cell_type": "code",
   "execution_count": 3,
   "id": "9518616d",
   "metadata": {},
   "outputs": [
    {
     "data": {
      "text/html": [
       "<div>\n",
       "<style scoped>\n",
       "    .dataframe tbody tr th:only-of-type {\n",
       "        vertical-align: middle;\n",
       "    }\n",
       "\n",
       "    .dataframe tbody tr th {\n",
       "        vertical-align: top;\n",
       "    }\n",
       "\n",
       "    .dataframe thead th {\n",
       "        text-align: right;\n",
       "    }\n",
       "</style>\n",
       "<table border=\"1\" class=\"dataframe\">\n",
       "  <thead>\n",
       "    <tr style=\"text-align: right;\">\n",
       "      <th></th>\n",
       "      <th>ID</th>\n",
       "      <th>Length</th>\n",
       "      <th>Birthweight</th>\n",
       "      <th>Headcirc</th>\n",
       "      <th>Gestation</th>\n",
       "      <th>smoker</th>\n",
       "      <th>mage</th>\n",
       "      <th>mnocig</th>\n",
       "      <th>mheight</th>\n",
       "      <th>mppwt</th>\n",
       "      <th>fage</th>\n",
       "      <th>fedyrs</th>\n",
       "      <th>fnocig</th>\n",
       "      <th>fheight</th>\n",
       "      <th>lowbwt</th>\n",
       "      <th>mage35</th>\n",
       "    </tr>\n",
       "  </thead>\n",
       "  <tbody>\n",
       "    <tr>\n",
       "      <th>0</th>\n",
       "      <td>1360</td>\n",
       "      <td>56</td>\n",
       "      <td>4.55</td>\n",
       "      <td>34</td>\n",
       "      <td>44</td>\n",
       "      <td>0</td>\n",
       "      <td>20</td>\n",
       "      <td>0</td>\n",
       "      <td>162</td>\n",
       "      <td>57</td>\n",
       "      <td>23</td>\n",
       "      <td>10</td>\n",
       "      <td>35</td>\n",
       "      <td>179</td>\n",
       "      <td>0</td>\n",
       "      <td>0</td>\n",
       "    </tr>\n",
       "    <tr>\n",
       "      <th>1</th>\n",
       "      <td>1016</td>\n",
       "      <td>53</td>\n",
       "      <td>4.32</td>\n",
       "      <td>36</td>\n",
       "      <td>40</td>\n",
       "      <td>0</td>\n",
       "      <td>19</td>\n",
       "      <td>0</td>\n",
       "      <td>171</td>\n",
       "      <td>62</td>\n",
       "      <td>19</td>\n",
       "      <td>12</td>\n",
       "      <td>0</td>\n",
       "      <td>183</td>\n",
       "      <td>0</td>\n",
       "      <td>0</td>\n",
       "    </tr>\n",
       "    <tr>\n",
       "      <th>2</th>\n",
       "      <td>462</td>\n",
       "      <td>58</td>\n",
       "      <td>4.10</td>\n",
       "      <td>39</td>\n",
       "      <td>41</td>\n",
       "      <td>0</td>\n",
       "      <td>35</td>\n",
       "      <td>0</td>\n",
       "      <td>172</td>\n",
       "      <td>58</td>\n",
       "      <td>31</td>\n",
       "      <td>16</td>\n",
       "      <td>25</td>\n",
       "      <td>185</td>\n",
       "      <td>0</td>\n",
       "      <td>1</td>\n",
       "    </tr>\n",
       "    <tr>\n",
       "      <th>3</th>\n",
       "      <td>1187</td>\n",
       "      <td>53</td>\n",
       "      <td>4.07</td>\n",
       "      <td>38</td>\n",
       "      <td>44</td>\n",
       "      <td>0</td>\n",
       "      <td>20</td>\n",
       "      <td>0</td>\n",
       "      <td>174</td>\n",
       "      <td>68</td>\n",
       "      <td>26</td>\n",
       "      <td>14</td>\n",
       "      <td>25</td>\n",
       "      <td>189</td>\n",
       "      <td>0</td>\n",
       "      <td>0</td>\n",
       "    </tr>\n",
       "    <tr>\n",
       "      <th>4</th>\n",
       "      <td>553</td>\n",
       "      <td>54</td>\n",
       "      <td>3.94</td>\n",
       "      <td>37</td>\n",
       "      <td>42</td>\n",
       "      <td>0</td>\n",
       "      <td>24</td>\n",
       "      <td>0</td>\n",
       "      <td>175</td>\n",
       "      <td>66</td>\n",
       "      <td>30</td>\n",
       "      <td>12</td>\n",
       "      <td>0</td>\n",
       "      <td>184</td>\n",
       "      <td>0</td>\n",
       "      <td>0</td>\n",
       "    </tr>\n",
       "  </tbody>\n",
       "</table>\n",
       "</div>"
      ],
      "text/plain": [
       "     ID  Length  Birthweight  Headcirc  Gestation  smoker  mage  mnocig  \\\n",
       "0  1360      56         4.55        34         44       0    20       0   \n",
       "1  1016      53         4.32        36         40       0    19       0   \n",
       "2   462      58         4.10        39         41       0    35       0   \n",
       "3  1187      53         4.07        38         44       0    20       0   \n",
       "4   553      54         3.94        37         42       0    24       0   \n",
       "\n",
       "   mheight  mppwt  fage  fedyrs  fnocig  fheight  lowbwt  mage35  \n",
       "0      162     57    23      10      35      179       0       0  \n",
       "1      171     62    19      12       0      183       0       0  \n",
       "2      172     58    31      16      25      185       0       1  \n",
       "3      174     68    26      14      25      189       0       0  \n",
       "4      175     66    30      12       0      184       0       0  "
      ]
     },
     "execution_count": 3,
     "metadata": {},
     "output_type": "execute_result"
    }
   ],
   "source": [
    "df.head()"
   ]
  },
  {
   "cell_type": "code",
   "execution_count": 4,
   "id": "934a76a1",
   "metadata": {},
   "outputs": [
    {
     "data": {
      "image/png": "[encoded data removed]",
      "text/plain": [
       "<Figure size 720x432 with 1 Axes>"
      ]
     },
     "metadata": {
      "needs_background": "light"
     },
     "output_type": "display_data"
    }
   ],
   "source": [
    "sns.histplot(df['Birthweight'], bins=10, alpha = 0.75,color='black');\n",
    "plt.show()"
   ]
  },
  {
   "cell_type": "code",
   "execution_count": 5,
   "id": "aa57478d",
   "metadata": {},
   "outputs": [
    {
     "data": {
      "text/plain": [
       "<AxesSubplot:xlabel='smoker', ylabel='Birthweight'>"
      ]
     },
     "execution_count": 5,
     "metadata": {},
     "output_type": "execute_result"
    },
    {
     "data": {
      "image/png": "[encoded data removed]",
      "text/plain": [
       "<Figure size 720x432 with 1 Axes>"
      ]
     },
     "metadata": {
      "needs_background": "light"
     },
     "output_type": "display_data"
    }
   ],
   "source": [
    "sns.boxplot(x=df['smoker'],y=df['Birthweight'])"
   ]
  },
  {
   "cell_type": "code",
   "execution_count": 6,
   "id": "7d418186",
   "metadata": {},
   "outputs": [
    {
     "data": {
      "text/plain": [
       "<AxesSubplot:xlabel='smoker', ylabel='Length'>"
      ]
     },
     "execution_count": 6,
     "metadata": {},
     "output_type": "execute_result"
    },
    {
     "data": {
      "image/png": "[encoded data removed]",
      "text/plain": [
       "<Figure size 720x432 with 1 Axes>"
      ]
     },
     "metadata": {
      "needs_background": "light"
     },
     "output_type": "display_data"
    }
   ],
   "source": [
    "sns.boxplot(x=df['smoker'],y=df['Length'])"
   ]
  },
  {
   "cell_type": "code",
   "execution_count": 7,
   "id": "e34d0831",
   "metadata": {},
   "outputs": [
    {
     "data": {
      "text/plain": [
       "<AxesSubplot:xlabel='smoker', ylabel='Headcirc'>"
      ]
     },
     "execution_count": 7,
     "metadata": {},
     "output_type": "execute_result"
    },
    {
     "data": {
      "image/png": "[encoded data removed]",
      "text/plain": [
       "<Figure size 720x432 with 1 Axes>"
      ]
     },
     "metadata": {
      "needs_background": "light"
     },
     "output_type": "display_data"
    }
   ],
   "source": [
    "\n",
    "sns.boxplot(x=df['smoker'],y=df['Headcirc'])"
   ]
  },
  {
   "cell_type": "code",
   "execution_count": 9,
   "id": "56938c11",
   "metadata": {},
   "outputs": [
    {
     "data": {
      "image/png": "[encoded data removed]",
      "text/plain": [
       "<Figure size 720x432 with 1 Axes>"
      ]
     },
     "metadata": {
      "needs_background": "light"
     },
     "output_type": "display_data"
    }
   ],
   "source": [
    "dfsmoke=df[df['smoker']==1]\n",
    "dfnon=df[df['smoker']==0]\n",
    "fig, ax = plt.subplots()\n",
    "ax.hist(dfsmoke['Birthweight'], bins=10, alpha = 0.75, label='smoker',color='blue');\n",
    "ax.hist(dfnon['Birthweight'], bins=10, alpha = 0.75, label='non smoker',color='orange');\n",
    "plt.xlabel('Birthweight (kg)')\n",
    "plt.ylabel('')\n",
    "plt.title('distribution of weight loss on diets in study')\n",
    "plt.legend()\n",
    "plt.show()"
   ]
  },
  {
   "cell_type": "code",
   "execution_count": null,
   "id": "e7d572d0",
   "metadata": {},
   "outputs": [],
   "source": []
  },
  {
   "cell_type": "code",
   "execution_count": 10,
   "id": "cc5d43b0",
   "metadata": {},
   "outputs": [
    {
     "name": "stdout",
     "output_type": "stream",
     "text": [
      "count    22.000000\n",
      "mean      3.134091\n",
      "std       0.631247\n",
      "min       1.920000\n",
      "25%       2.742500\n",
      "50%       3.185000\n",
      "75%       3.545000\n",
      "max       4.570000\n",
      "Name: Birthweight, dtype: float64\n",
      "count    20.000000\n",
      "mean      3.509500\n",
      "std       0.518495\n",
      "min       2.650000\n",
      "25%       3.140000\n",
      "50%       3.385000\n",
      "75%       3.932500\n",
      "max       4.550000\n",
      "Name: Birthweight, dtype: float64\n"
     ]
    }
   ],
   "source": [
    "print(dfsmoke['Birthweight'].describe())\n",
    "print(dfnon['Birthweight'].describe())"
   ]
  },
  {
   "cell_type": "code",
   "execution_count": 11,
   "id": "f7607953",
   "metadata": {},
   "outputs": [
    {
     "data": {
      "image/png": "[encoded data removed]",
      "text/plain": [
       "<Figure size 720x432 with 1 Axes>"
      ]
     },
     "metadata": {
      "needs_background": "light"
     },
     "output_type": "display_data"
    }
   ],
   "source": [
    "sns.histplot(df['Gestation'], bins=10, alpha = 0.75,color='black');\n",
    "plt.show()"
   ]
  },
  {
   "cell_type": "code",
   "execution_count": 13,
   "id": "241db768",
   "metadata": {},
   "outputs": [
    {
     "data": {
      "text/plain": [
       "<AxesSubplot:xlabel='Gestation', ylabel='Birthweight'>"
      ]
     },
     "execution_count": 13,
     "metadata": {},
     "output_type": "execute_result"
    },
    {
     "data": {
      "image/png": "[encoded data removed]",
      "text/plain": [
       "<Figure size 720x432 with 1 Axes>"
      ]
     },
     "metadata": {
      "needs_background": "light"
     },
     "output_type": "display_data"
    }
   ],
   "source": [
    "sns.boxplot(x=df['Gestation'],y=df['Birthweight'])\n",
    "\n"
   ]
  },
  {
   "cell_type": "code",
   "execution_count": 16,
   "id": "e85c4211",
   "metadata": {},
   "outputs": [
    {
     "data": {
      "image/png": "[encoded data removed]",
      "text/plain": [
       "<Figure size 720x432 with 1 Axes>"
      ]
     },
     "metadata": {
      "needs_background": "light"
     },
     "output_type": "display_data"
    }
   ],
   "source": [
    "dfearly=df[df['Gestation']<40]\n",
    "dfon=df[df['Gestation']==40]\n",
    "dflate=df[df['Gestation']>40]\n",
    "fig, ax = plt.subplots()\n",
    "ax.hist(dfearly['Birthweight'], bins=10, alpha = 0.75, label='smoker',color='blue');\n",
    "ax.hist(dfon['Birthweight'], bins=10, alpha = 0.75, label='non smoker',color='orange');\n",
    "ax.hist(dflate['Birthweight'], bins=10, alpha = 0.75, label='non smoker',color='green');\n",
    "plt.xlabel('Birthweight (kg)')\n",
    "plt.ylabel('')\n",
    "plt.title('')\n",
    "plt.legend()\n",
    "plt.show()"
   ]
  },
  {
   "cell_type": "code",
   "execution_count": 23,
   "id": "9f974d29",
   "metadata": {},
   "outputs": [],
   "source": [
    "dfearly=df[df['Gestation']<40]\n",
    "dfon=df[df['Gestation']==40]\n",
    "dflate=df[df['Gestation']>40]"
   ]
  },
  {
   "cell_type": "code",
   "execution_count": 25,
   "id": "3c97c404",
   "metadata": {},
   "outputs": [],
   "source": [
    "df.head()\n",
    "#importing the basic tools for my work\n",
    "import numpy as np\n",
    "import pandas as pd\n",
    "import matplotlib.pyplot as plt\n",
    "#importing the various sklearn packages required for the notebook\n",
    "import sklearn.linear_model as lm\n",
    "import sklearn.neighbors as nei\n",
    "import sklearn.model_selection as mod\n",
    "import seaborn as sns\n",
    "from sklearn.metrics import mean_squared_error, r2_score\n",
    "from sklearn.model_selection import train_test_split\n",
    "from sklearn.tree import DecisionTreeClassifier\n",
    "from sklearn.ensemble import RandomForestClassifier\n",
    "from sklearn import datasets\n",
    "from sklearn import preprocessing\n",
    "import sklearn.linear_model as linm"
   ]
  },
  {
   "cell_type": "code",
   "execution_count": 33,
   "id": "1e709508",
   "metadata": {},
   "outputs": [],
   "source": [
    "inputs = df[['Gestation','mage','mheight']]\n",
    "output = df['Birthweight']"
   ]
  },
  {
   "cell_type": "code",
   "execution_count": 34,
   "id": "500a63cf",
   "metadata": {},
   "outputs": [],
   "source": [
    "knn =nei.KNeighborsClassifier(n_neighbors=5)"
   ]
  },
  {
   "cell_type": "code",
   "execution_count": 35,
   "id": "23d0f873",
   "metadata": {},
   "outputs": [
    {
     "ename": "ValueError",
     "evalue": "Unknown label type: 'continuous'",
     "output_type": "error",
     "traceback": [
      "\u001b[1;31m---------------------------------------------------------------------------\u001b[0m",
      "\u001b[1;31mValueError\u001b[0m                                Traceback (most recent call last)",
      "\u001b[1;32m<ipython-input-35-d845897cc8fa>\u001b[0m in \u001b[0;36m<module>\u001b[1;34m\u001b[0m\n\u001b[1;32m----> 1\u001b[1;33m \u001b[0mknn\u001b[0m\u001b[1;33m.\u001b[0m\u001b[0mfit\u001b[0m\u001b[1;33m(\u001b[0m\u001b[0minputs\u001b[0m\u001b[1;33m,\u001b[0m \u001b[0moutput\u001b[0m\u001b[1;33m)\u001b[0m\u001b[1;33m\u001b[0m\u001b[1;33m\u001b[0m\u001b[0m\n\u001b[0m",
      "\u001b[1;32m~\\anaconda3\\lib\\site-packages\\sklearn\\neighbors\\_classification.py\u001b[0m in \u001b[0;36mfit\u001b[1;34m(self, X, y)\u001b[0m\n\u001b[0;32m    177\u001b[0m             \u001b[0mThe\u001b[0m \u001b[0mfitted\u001b[0m \u001b[0mk\u001b[0m\u001b[1;33m-\u001b[0m\u001b[0mnearest\u001b[0m \u001b[0mneighbors\u001b[0m \u001b[0mclassifier\u001b[0m\u001b[1;33m.\u001b[0m\u001b[1;33m\u001b[0m\u001b[1;33m\u001b[0m\u001b[0m\n\u001b[0;32m    178\u001b[0m         \"\"\"\n\u001b[1;32m--> 179\u001b[1;33m         \u001b[1;32mreturn\u001b[0m \u001b[0mself\u001b[0m\u001b[1;33m.\u001b[0m\u001b[0m_fit\u001b[0m\u001b[1;33m(\u001b[0m\u001b[0mX\u001b[0m\u001b[1;33m,\u001b[0m \u001b[0my\u001b[0m\u001b[1;33m)\u001b[0m\u001b[1;33m\u001b[0m\u001b[1;33m\u001b[0m\u001b[0m\n\u001b[0m\u001b[0;32m    180\u001b[0m \u001b[1;33m\u001b[0m\u001b[0m\n\u001b[0;32m    181\u001b[0m     \u001b[1;32mdef\u001b[0m \u001b[0mpredict\u001b[0m\u001b[1;33m(\u001b[0m\u001b[0mself\u001b[0m\u001b[1;33m,\u001b[0m \u001b[0mX\u001b[0m\u001b[1;33m)\u001b[0m\u001b[1;33m:\u001b[0m\u001b[1;33m\u001b[0m\u001b[1;33m\u001b[0m\u001b[0m\n",
      "\u001b[1;32m~\\anaconda3\\lib\\site-packages\\sklearn\\neighbors\\_base.py\u001b[0m in \u001b[0;36m_fit\u001b[1;34m(self, X, y)\u001b[0m\n\u001b[0;32m    379\u001b[0m                     \u001b[0mself\u001b[0m\u001b[1;33m.\u001b[0m\u001b[0moutputs_2d_\u001b[0m \u001b[1;33m=\u001b[0m \u001b[1;32mTrue\u001b[0m\u001b[1;33m\u001b[0m\u001b[1;33m\u001b[0m\u001b[0m\n\u001b[0;32m    380\u001b[0m \u001b[1;33m\u001b[0m\u001b[0m\n\u001b[1;32m--> 381\u001b[1;33m                 \u001b[0mcheck_classification_targets\u001b[0m\u001b[1;33m(\u001b[0m\u001b[0my\u001b[0m\u001b[1;33m)\u001b[0m\u001b[1;33m\u001b[0m\u001b[1;33m\u001b[0m\u001b[0m\n\u001b[0m\u001b[0;32m    382\u001b[0m                 \u001b[0mself\u001b[0m\u001b[1;33m.\u001b[0m\u001b[0mclasses_\u001b[0m \u001b[1;33m=\u001b[0m \u001b[1;33m[\u001b[0m\u001b[1;33m]\u001b[0m\u001b[1;33m\u001b[0m\u001b[1;33m\u001b[0m\u001b[0m\n\u001b[0;32m    383\u001b[0m                 \u001b[0mself\u001b[0m\u001b[1;33m.\u001b[0m\u001b[0m_y\u001b[0m \u001b[1;33m=\u001b[0m \u001b[0mnp\u001b[0m\u001b[1;33m.\u001b[0m\u001b[0mempty\u001b[0m\u001b[1;33m(\u001b[0m\u001b[0my\u001b[0m\u001b[1;33m.\u001b[0m\u001b[0mshape\u001b[0m\u001b[1;33m,\u001b[0m \u001b[0mdtype\u001b[0m\u001b[1;33m=\u001b[0m\u001b[0mint\u001b[0m\u001b[1;33m)\u001b[0m\u001b[1;33m\u001b[0m\u001b[1;33m\u001b[0m\u001b[0m\n",
      "\u001b[1;32m~\\anaconda3\\lib\\site-packages\\sklearn\\utils\\multiclass.py\u001b[0m in \u001b[0;36mcheck_classification_targets\u001b[1;34m(y)\u001b[0m\n\u001b[0;32m    181\u001b[0m     if y_type not in ['binary', 'multiclass', 'multiclass-multioutput',\n\u001b[0;32m    182\u001b[0m                       'multilabel-indicator', 'multilabel-sequences']:\n\u001b[1;32m--> 183\u001b[1;33m         \u001b[1;32mraise\u001b[0m \u001b[0mValueError\u001b[0m\u001b[1;33m(\u001b[0m\u001b[1;34m\"Unknown label type: %r\"\u001b[0m \u001b[1;33m%\u001b[0m \u001b[0my_type\u001b[0m\u001b[1;33m)\u001b[0m\u001b[1;33m\u001b[0m\u001b[1;33m\u001b[0m\u001b[0m\n\u001b[0m\u001b[0;32m    184\u001b[0m \u001b[1;33m\u001b[0m\u001b[0m\n\u001b[0;32m    185\u001b[0m \u001b[1;33m\u001b[0m\u001b[0m\n",
      "\u001b[1;31mValueError\u001b[0m: Unknown label type: 'continuous'"
     ]
    }
   ],
   "source": [
    "knn.fit(inputs, output)"
   ]
  },
  {
   "cell_type": "code",
   "execution_count": null,
   "id": "5c177760",
   "metadata": {},
   "outputs": [],
   "source": []
  },
  {
   "cell_type": "code",
   "execution_count": null,
   "id": "c22fbfe3",
   "metadata": {},
   "outputs": [],
   "source": []
  },
  {
   "cell_type": "code",
   "execution_count": null,
   "id": "3c31279a",
   "metadata": {},
   "outputs": [],
   "source": []
  },
  {
   "cell_type": "code",
   "execution_count": null,
   "id": "7089bc82",
   "metadata": {},
   "outputs": [],
   "source": []
  },
  {
   "cell_type": "code",
   "execution_count": null,
   "id": "96a63c12",
   "metadata": {},
   "outputs": [],
   "source": []
  },
  {
   "cell_type": "code",
   "execution_count": null,
   "id": "62cb0a00",
   "metadata": {},
   "outputs": [],
   "source": []
  },
  {
   "cell_type": "code",
   "execution_count": null,
   "id": "425c3673",
   "metadata": {},
   "outputs": [],
   "source": []
  },
  {
   "cell_type": "code",
   "execution_count": null,
   "id": "18e365de",
   "metadata": {},
   "outputs": [],
   "source": []
  }
 ],
 "metadata": {
  "kernelspec": {
   "display_name": "Python 3",
   "language": "python",
   "name": "python3"
  },
  "language_info": {
   "codemirror_mode": {
    "name": "ipython",
    "version": 3
   },
   "file_extension": ".py",
   "mimetype": "text/x-python",
   "name": "python",
   "nbconvert_exporter": "python",
   "pygments_lexer": "ipython3",
   "version": "3.8.8"
  }
 },
 "nbformat": 4,
 "nbformat_minor": 5
}
